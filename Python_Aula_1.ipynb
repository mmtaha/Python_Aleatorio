{
  "nbformat": 4,
  "nbformat_minor": 0,
  "metadata": {
    "colab": {
      "provenance": [],
      "authorship_tag": "ABX9TyNmsGwufKnIUzq/E7O6CW6W",
      "include_colab_link": true
    },
    "kernelspec": {
      "name": "python3",
      "display_name": "Python 3"
    },
    "language_info": {
      "name": "python"
    }
  },
  "cells": [
    {
      "cell_type": "markdown",
      "metadata": {
        "id": "view-in-github",
        "colab_type": "text"
      },
      "source": [
        "<a href=\"https://colab.research.google.com/github/mmtaha/Python_Aleatorio/blob/main/Python_Aula_1.ipynb\" target=\"_parent\"><img src=\"https://colab.research.google.com/assets/colab-badge.svg\" alt=\"Open In Colab\"/></a>"
      ]
    },
    {
      "cell_type": "code",
      "metadata": {
        "colab": {
          "base_uri": "https://localhost:8080/"
        },
        "id": "gJ3eM4hOB2mR",
        "outputId": "5f47254f-4ce6-465b-e22a-ce416abdb318"
      },
      "source": [
        "# Meu primeiro programa em Python\n",
        "print(\"Hello, World!\")\n",
        "print(\"Bem-vindo ao Python!\")"
      ],
      "execution_count": null,
      "outputs": [
        {
          "output_type": "stream",
          "name": "stdout",
          "text": [
            "Hello, World!\n",
            "Bem-vindo ao Python!\n"
          ]
        }
      ]
    },
    {
      "cell_type": "code",
      "metadata": {
        "colab": {
          "base_uri": "https://localhost:8080/"
        },
        "id": "7Ra-nDnSCI0_",
        "outputId": "5c297109-c13e-4bf9-89d4-df442fc2cdd5"
      },
      "source": [
        "print ('estou aprendendo python')"
      ],
      "execution_count": null,
      "outputs": [
        {
          "output_type": "stream",
          "name": "stdout",
          "text": [
            "estou aprendendo python\n"
          ]
        }
      ]
    },
    {
      "cell_type": "code",
      "metadata": {
        "colab": {
          "base_uri": "https://localhost:8080/",
          "height": 36
        },
        "id": "ld2McX7rCahb",
        "outputId": "89360594-10d1-4c7e-ddec-2a099df30fe7"
      },
      "source": [
        "'estou aprendendo python'"
      ],
      "execution_count": null,
      "outputs": [
        {
          "output_type": "execute_result",
          "data": {
            "text/plain": [
              "'estou aprendendo python'"
            ],
            "application/vnd.google.colaboratory.intrinsic+json": {
              "type": "string"
            }
          },
          "metadata": {},
          "execution_count": 3
        }
      ]
    },
    {
      "cell_type": "code",
      "metadata": {
        "id": "-dVA1ordCezK",
        "colab": {
          "base_uri": "https://localhost:8080/"
        },
        "outputId": "8a7f75cb-7f92-4427-edce-17fdfd2fb86c"
      },
      "source": [
        "# Calculadora básica\n",
        "print(\"Calculadora Simples\")\n",
        "print(\"-------------------\")\n",
        "\n",
        "num1 = float(input(\"Digite o primeiro número: \"))\n",
        "num2 = float(input(\"Digite o segundo número: \"))\n",
        "\n",
        "print(\"\\nOperações disponíveis:\")\n",
        "print(\"1. Soma (+)\")\n",
        "print(\"2. Subtração (-)\")\n",
        "print(\"3. Multiplicação (*)\")\n",
        "print(\"4. Divisão (/)\")\n",
        "\n",
        "operacao = input(\"Escolha a operação (1-4): \")\n",
        "\n",
        "if operacao == \"1\":\n",
        "    resultado = num1 + num2\n",
        "    print(f\"Resultado: {num1} + {num2} = {resultado}\")\n",
        "elif operacao == \"2\":\n",
        "    resultado = num1 - num2\n",
        "    print(f\"Resultado: {num1} - {num2} = {resultado}\")\n",
        "elif operacao == \"3\":\n",
        "    resultado = num1 * num2\n",
        "    print(f\"Resultado: {num1} * {num2} = {resultado}\")\n",
        "elif operacao == \"4\":\n",
        "    if num2 != 0:\n",
        "        resultado = num1 / num2\n",
        "        print(f\"Resultado: {num1} / {num2} = {resultado}\")\n",
        "    else:\n",
        "        print(\"Erro: Divisão por zero!\")\n",
        "else:\n",
        "    print(\"Operação inválida!\")"
      ],
      "execution_count": null,
      "outputs": [
        {
          "output_type": "stream",
          "name": "stdout",
          "text": [
            "Calculadora Simples\n",
            "-------------------\n",
            "Digite o primeiro número: 10\n",
            "Digite o segundo número: 10\n",
            "\n",
            "Operações disponíveis:\n",
            "1. Soma (+)\n",
            "2. Subtração (-)\n",
            "3. Multiplicação (*)\n",
            "4. Divisão (/)\n",
            "Escolha a operação (1-4): 3\n",
            "Resultado: 10.0 * 10.0 = 100.0\n"
          ]
        }
      ]
    },
    {
      "cell_type": "code",
      "source": [
        "import random\n",
        "\n",
        "print(\"=== Jogo de Adivinhação ===\")\n",
        "print(\"Estou pensando em um número entre 1 e 100!\")\n",
        "\n",
        "numero_secreto = random.randint(1, 100)\n",
        "tentativas = 0\n",
        "max_tentativas = 7\n",
        "\n",
        "while tentativas < max_tentativas:\n",
        "    tentativa = int(input(f\"\\nTentativa {tentativas + 1}/{max_tentativas}. Digite seu palpite: \"))\n",
        "    tentativas += 1\n",
        "\n",
        "    if tentativa < numero_secreto:\n",
        "        print(\"Muito baixo! Tente um número maior.\")\n",
        "    elif tentativa > numero_secreto:\n",
        "        print(\"Muito alto! Tente um número menor.\")\n",
        "    else:\n",
        "        print(f\"Parabéns! Você acertou em {tentativas} tentativas!\")\n",
        "        break\n",
        "else:\n",
        "    print(f\"Suas tentativas acabaram! O número era {numero_secreto}.\")"
      ],
      "metadata": {
        "colab": {
          "base_uri": "https://localhost:8080/"
        },
        "id": "-E6ZVK8nVIgY",
        "outputId": "b5f32bc8-ca5a-438c-f685-8d0e2ae25414"
      },
      "execution_count": null,
      "outputs": [
        {
          "output_type": "stream",
          "name": "stdout",
          "text": [
            "=== Jogo de Adivinhação ===\n",
            "Estou pensando em um número entre 1 e 100!\n",
            "\n",
            "Tentativa 1/7. Digite seu palpite: 3\n",
            "Muito baixo! Tente um número maior.\n",
            "\n",
            "Tentativa 2/7. Digite seu palpite: 888833\n",
            "Muito alto! Tente um número menor.\n",
            "\n",
            "Tentativa 3/7. Digite seu palpite: 87\n",
            "Muito alto! Tente um número menor.\n",
            "\n",
            "Tentativa 4/7. Digite seu palpite: 2\n",
            "Muito baixo! Tente um número maior.\n",
            "\n",
            "Tentativa 5/7. Digite seu palpite: 44\n",
            "Muito alto! Tente um número menor.\n",
            "\n",
            "Tentativa 6/7. Digite seu palpite: 30\n",
            "Muito baixo! Tente um número maior.\n",
            "\n",
            "Tentativa 7/7. Digite seu palpite: 35\n",
            "Muito baixo! Tente um número maior.\n",
            "Suas tentativas acabaram! O número era 36.\n"
          ]
        }
      ]
    },
    {
      "cell_type": "code",
      "source": [
        "# Gerenciador de tarefas simples\n",
        "tarefas = []\n",
        "\n",
        "def mostrar_tarefas():\n",
        "    if not tarefas:\n",
        "        print(\"\\nNenhuma tarefa na lista!\")\n",
        "    else:\n",
        "        print(\"\\n=== SUAS TAREFAS ===\")\n",
        "        for i, tarefa in enumerate(tarefas, 1):\n",
        "            print(f\"{i}. {tarefa}\")\n",
        "\n",
        "while True:\n",
        "    print(\"\\n=== LISTA DE TAREFAS ===\")\n",
        "    print(\"1. Adicionar tarefa\")\n",
        "    print(\"2. Ver tarefas\")\n",
        "    print(\"3. Remover tarefa\")\n",
        "    print(\"4. Sair\")\n",
        "\n",
        "    opcao = input(\"Escolha uma opção (1-4): \")\n",
        "\n",
        "    if opcao == \"1\":\n",
        "        nova_tarefa = input(\"Digite a nova tarefa: \")\n",
        "        tarefas.append(nova_tarefa)\n",
        "        print(\"Tarefa adicionada com sucesso!\")\n",
        "\n",
        "    elif opcao == \"2\":\n",
        "        mostrar_tarefas()\n",
        "\n",
        "    elif opcao == \"3\":\n",
        "        mostrar_tarefas()\n",
        "        if tarefas:\n",
        "            try:\n",
        "                num = int(input(\"Digite o número da tarefa a remover: \"))\n",
        "                if 1 <= num <= len(tarefas):\n",
        "                    tarefa_removida = tarefas.pop(num-1)\n",
        "                    print(f\"Tarefa '{tarefa_removida}' removida!\")\n",
        "                else:\n",
        "                    print(\"Número inválido!\")\n",
        "            except ValueError:\n",
        "                print(\"Por favor, digite um número válido!\")\n",
        "\n",
        "    elif opcao == \"4\":\n",
        "        print(\"Até logo!\")\n",
        "        break\n",
        "\n",
        "    else:\n",
        "        print(\"Opção inválida! Tente novamente.\")"
      ],
      "metadata": {
        "colab": {
          "base_uri": "https://localhost:8080/"
        },
        "id": "9YVR_UehV7E9",
        "outputId": "678b333f-bc1c-45fa-9b34-965399b7b7c2"
      },
      "execution_count": null,
      "outputs": [
        {
          "output_type": "stream",
          "name": "stdout",
          "text": [
            "\n",
            "=== LISTA DE TAREFAS ===\n",
            "1. Adicionar tarefa\n",
            "2. Ver tarefas\n",
            "3. Remover tarefa\n",
            "4. Sair\n",
            "Escolha uma opção (1-4): 1\n",
            "Digite a nova tarefa: comprar tomate\n",
            "Tarefa adicionada com sucesso!\n",
            "\n",
            "=== LISTA DE TAREFAS ===\n",
            "1. Adicionar tarefa\n",
            "2. Ver tarefas\n",
            "3. Remover tarefa\n",
            "4. Sair\n",
            "Escolha uma opção (1-4): 1\n",
            "Digite a nova tarefa: batata\n",
            "Tarefa adicionada com sucesso!\n",
            "\n",
            "=== LISTA DE TAREFAS ===\n",
            "1. Adicionar tarefa\n",
            "2. Ver tarefas\n",
            "3. Remover tarefa\n",
            "4. Sair\n",
            "Escolha uma opção (1-4): 1\n",
            "Digite a nova tarefa: cebola\n",
            "Tarefa adicionada com sucesso!\n",
            "\n",
            "=== LISTA DE TAREFAS ===\n",
            "1. Adicionar tarefa\n",
            "2. Ver tarefas\n",
            "3. Remover tarefa\n",
            "4. Sair\n",
            "Escolha uma opção (1-4): 2\n",
            "\n",
            "=== SUAS TAREFAS ===\n",
            "1. comprar tomate\n",
            "2. batata\n",
            "3. cebola\n",
            "\n",
            "=== LISTA DE TAREFAS ===\n",
            "1. Adicionar tarefa\n",
            "2. Ver tarefas\n",
            "3. Remover tarefa\n",
            "4. Sair\n",
            "Escolha uma opção (1-4): 4\n",
            "Até logo!\n"
          ]
        }
      ]
    },
    {
      "cell_type": "code",
      "source": [
        "# Conversor de temperatura\n",
        "print(\"=== CONVERSOR DE TEMPERATURA ===\")\n",
        "\n",
        "def celsius_para_fahrenheit(c):\n",
        "    return (c * 9/5) + 32\n",
        "\n",
        "def fahrenheit_para_celsius(f):\n",
        "    return (f - 32) * 5/9\n",
        "\n",
        "while True:\n",
        "    print(\"\\nOpções:\")\n",
        "    print(\"1. Celsius para Fahrenheit\")\n",
        "    print(\"2. Fahrenheit para Celsius\")\n",
        "    print(\"3. Sair\")\n",
        "\n",
        "    escolha = input(\"Escolha uma opção (1-3): \")\n",
        "\n",
        "    if escolha == \"1\":\n",
        "        celsius = float(input(\"Digite a temperatura em Celsius: \"))\n",
        "        fahrenheit = celsius_para_fahrenheit(celsius)\n",
        "        print(f\"{celsius}°C = {fahrenheit:.2f}°F\")\n",
        "\n",
        "    elif escolha == \"2\":\n",
        "        fahrenheit = float(input(\"Digite a temperatura em Fahrenheit: \"))\n",
        "        celsius = fahrenheit_para_celsius(fahrenheit)\n",
        "        print(f\"{fahrenheit}°F = {celsius:.2f}°C\")\n",
        "\n",
        "    elif escolha == \"3\":\n",
        "        print(\"Programa encerrado!\")\n",
        "        break\n",
        "\n",
        "    else:\n",
        "        print(\"Opção inválida! Tente novamente.\")"
      ],
      "metadata": {
        "colab": {
          "base_uri": "https://localhost:8080/"
        },
        "id": "GJLPul4lWKiG",
        "outputId": "30d949a7-1197-4f2a-989f-18faf9ccefc2"
      },
      "execution_count": null,
      "outputs": [
        {
          "output_type": "stream",
          "name": "stdout",
          "text": [
            "=== CONVERSOR DE TEMPERATURA ===\n",
            "\n",
            "Opções:\n",
            "1. Celsius para Fahrenheit\n",
            "2. Fahrenheit para Celsius\n",
            "3. Sair\n",
            "Escolha uma opção (1-3): 1\n",
            "Digite a temperatura em Celsius: 27\n",
            "27.0°C = 80.60°F\n",
            "\n",
            "Opções:\n",
            "1. Celsius para Fahrenheit\n",
            "2. Fahrenheit para Celsius\n",
            "3. Sair\n",
            "Escolha uma opção (1-3): 2\n",
            "Digite a temperatura em Fahrenheit: 98\n",
            "98.0°F = 36.67°C\n",
            "\n",
            "Opções:\n",
            "1. Celsius para Fahrenheit\n",
            "2. Fahrenheit para Celsius\n",
            "3. Sair\n",
            "Escolha uma opção (1-3): 3\n",
            "Programa encerrado!\n"
          ]
        }
      ]
    },
    {
      "cell_type": "code",
      "source": [
        "# Analisador de texto básico\n",
        "print(\"=== ANALISADOR DE TEXTO ===\")\n",
        "\n",
        "texto = input(\"Digite um texto para análise: \")\n",
        "\n",
        "# Contar palavras\n",
        "palavras = texto.split()\n",
        "num_palavras = len(palavras)\n",
        "\n",
        "# Contar caracteres\n",
        "num_caracteres = len(texto)\n",
        "\n",
        "# Contar frases (supondo que frases terminam com . ! ou ?)\n",
        "frases = texto.replace('?', '.').replace('!', '.').split('.')\n",
        "num_frases = len([f for f in frases if f.strip()])\n",
        "\n",
        "print(f\"\\n=== RESULTADOS DA ANÁLISE ===\")\n",
        "print(f\"Total de caracteres: {num_caracteres}\")\n",
        "print(f\"Total de palavras: {num_palavras}\")\n",
        "print(f\"Total de frases: {num_frases}\")\n",
        "print(f\"Palavra mais longa: {max(palavras, key=len)}\")"
      ],
      "metadata": {
        "colab": {
          "base_uri": "https://localhost:8080/"
        },
        "id": "QZ29DhdqX3rr",
        "outputId": "33f6fb75-f04e-4236-8eb3-f8ea6d75c130"
      },
      "execution_count": null,
      "outputs": [
        {
          "output_type": "stream",
          "name": "stdout",
          "text": [
            "=== ANALISADOR DE TEXTO ===\n",
            "Digite um texto para análise: pamonhas de piracicaba\n",
            "\n",
            "=== RESULTADOS DA ANÁLISE ===\n",
            "Total de caracteres: 22\n",
            "Total de palavras: 3\n",
            "Total de frases: 1\n",
            "Palavra mais longa: piracicaba\n"
          ]
        }
      ]
    }
  ]
}