{
  "nbformat": 4,
  "nbformat_minor": 0,
  "metadata": {
    "colab": {
      "provenance": [],
      "authorship_tag": "ABX9TyP1LDpndCi0gV1SmZIYUOG8",
      "include_colab_link": true
    },
    "kernelspec": {
      "name": "python3",
      "display_name": "Python 3"
    },
    "language_info": {
      "name": "python"
    }
  },
  "cells": [
    {
      "cell_type": "markdown",
      "metadata": {
        "id": "view-in-github",
        "colab_type": "text"
      },
      "source": [
        "<a href=\"https://colab.research.google.com/github/mmtaha/Python_Aleatorio/blob/main/Python_Aula_2.ipynb\" target=\"_parent\"><img src=\"https://colab.research.google.com/assets/colab-badge.svg\" alt=\"Open In Colab\"/></a>"
      ]
    },
    {
      "cell_type": "code",
      "metadata": {
        "id": "CBxfXkbdInCN",
        "colab": {
          "base_uri": "https://localhost:8080/"
        },
        "outputId": "5dbd7129-3787-4344-9353-daa48dd2c5b0"
      },
      "source": [
        "!pip install pandas numpy scikit-learn kagglehub\n",
        "\n",
        "import pandas as pd\n",
        "import numpy as np\n",
        "from sklearn.ensemble import RandomForestClassifier\n",
        "from sklearn.model_selection import train_test_split\n",
        "import kagglehub"
      ],
      "execution_count": 1,
      "outputs": [
        {
          "output_type": "stream",
          "name": "stdout",
          "text": [
            "Requirement already satisfied: pandas in /usr/local/lib/python3.12/dist-packages (2.2.2)\n",
            "Requirement already satisfied: numpy in /usr/local/lib/python3.12/dist-packages (2.0.2)\n",
            "Requirement already satisfied: scikit-learn in /usr/local/lib/python3.12/dist-packages (1.6.1)\n",
            "Requirement already satisfied: kagglehub in /usr/local/lib/python3.12/dist-packages (0.3.13)\n",
            "Requirement already satisfied: python-dateutil>=2.8.2 in /usr/local/lib/python3.12/dist-packages (from pandas) (2.9.0.post0)\n",
            "Requirement already satisfied: pytz>=2020.1 in /usr/local/lib/python3.12/dist-packages (from pandas) (2025.2)\n",
            "Requirement already satisfied: tzdata>=2022.7 in /usr/local/lib/python3.12/dist-packages (from pandas) (2025.2)\n",
            "Requirement already satisfied: scipy>=1.6.0 in /usr/local/lib/python3.12/dist-packages (from scikit-learn) (1.16.2)\n",
            "Requirement already satisfied: joblib>=1.2.0 in /usr/local/lib/python3.12/dist-packages (from scikit-learn) (1.5.2)\n",
            "Requirement already satisfied: threadpoolctl>=3.1.0 in /usr/local/lib/python3.12/dist-packages (from scikit-learn) (3.6.0)\n",
            "Requirement already satisfied: packaging in /usr/local/lib/python3.12/dist-packages (from kagglehub) (25.0)\n",
            "Requirement already satisfied: pyyaml in /usr/local/lib/python3.12/dist-packages (from kagglehub) (6.0.2)\n",
            "Requirement already satisfied: requests in /usr/local/lib/python3.12/dist-packages (from kagglehub) (2.32.4)\n",
            "Requirement already satisfied: tqdm in /usr/local/lib/python3.12/dist-packages (from kagglehub) (4.67.1)\n",
            "Requirement already satisfied: six>=1.5 in /usr/local/lib/python3.12/dist-packages (from python-dateutil>=2.8.2->pandas) (1.17.0)\n",
            "Requirement already satisfied: charset_normalizer<4,>=2 in /usr/local/lib/python3.12/dist-packages (from requests->kagglehub) (3.4.3)\n",
            "Requirement already satisfied: idna<4,>=2.5 in /usr/local/lib/python3.12/dist-packages (from requests->kagglehub) (3.10)\n",
            "Requirement already satisfied: urllib3<3,>=1.21.1 in /usr/local/lib/python3.12/dist-packages (from requests->kagglehub) (2.5.0)\n",
            "Requirement already satisfied: certifi>=2017.4.17 in /usr/local/lib/python3.12/dist-packages (from requests->kagglehub) (2025.8.3)\n"
          ]
        }
      ]
    },
    {
      "cell_type": "code",
      "metadata": {
        "id": "hWyC2SOzLrOj",
        "colab": {
          "base_uri": "https://localhost:8080/"
        },
        "outputId": "bc70be1b-2894-4b60-e935-3e3181a7ae03"
      },
      "source": [
        "path = kagglehub.dataset_download(\"maxbaas/traincsv\")\n",
        "print(\"Download concluído!\")"
      ],
      "execution_count": 2,
      "outputs": [
        {
          "output_type": "stream",
          "name": "stdout",
          "text": [
            "Downloading from https://www.kaggle.com/api/v1/datasets/download/maxbaas/traincsv?dataset_version_number=1...\n"
          ]
        },
        {
          "output_type": "stream",
          "name": "stderr",
          "text": [
            "100%|██████████| 8.25M/8.25M [00:00<00:00, 66.5MB/s]"
          ]
        },
        {
          "output_type": "stream",
          "name": "stdout",
          "text": [
            "Extracting files...\n"
          ]
        },
        {
          "output_type": "stream",
          "name": "stderr",
          "text": [
            "\n"
          ]
        },
        {
          "output_type": "stream",
          "name": "stdout",
          "text": [
            "Download concluído!\n"
          ]
        }
      ]
    },
    {
      "cell_type": "code",
      "metadata": {
        "colab": {
          "base_uri": "https://localhost:8080/"
        },
        "id": "d9VztMtxRyTi",
        "outputId": "892ea3cc-442d-4c02-d393-1fb130c53219"
      },
      "source": [
        "import os\n",
        "arquivos = os.listdir(path)\n",
        "print(\"Arquivos encontrados:\", arquivos)"
      ],
      "execution_count": 3,
      "outputs": [
        {
          "output_type": "stream",
          "name": "stdout",
          "text": [
            "Arquivos encontrados: ['train.csv']\n"
          ]
        }
      ]
    },
    {
      "cell_type": "code",
      "metadata": {
        "colab": {
          "base_uri": "https://localhost:8080/"
        },
        "id": "o1eJ259YSBWH",
        "outputId": "a789fc3c-39c4-4071-9321-6999eb54c7e0"
      },
      "source": [
        "caminho_arquivo = os.path.join(path, 'train.csv')\n",
        "df = pd.read_csv(caminho_arquivo)\n",
        "print(df.head)"
      ],
      "execution_count": 4,
      "outputs": [
        {
          "output_type": "stream",
          "name": "stdout",
          "text": [
            "<bound method NDFrame.head of         Store  Dept        Date  Weekly_Sales  IsHoliday  Temperature  \\\n",
            "0          26    92  2011-08-26      87235.57      False        61.10   \n",
            "1          34    22  2011-03-25       5945.97      False        53.11   \n",
            "2          21    28  2010-12-03       1219.89      False        50.43   \n",
            "3           8     9  2010-09-17      11972.71      False        75.32   \n",
            "4          19    55  2012-05-18       8271.82      False        58.81   \n",
            "...       ...   ...         ...           ...        ...          ...   \n",
            "282446     27    18  2012-10-19      20775.91      False        56.53   \n",
            "282447     39    36  2010-05-21       5350.00      False        76.67   \n",
            "282448     14    29  2010-04-30      10939.87      False        53.15   \n",
            "282449     15    90  2011-07-01       5013.89      False        67.43   \n",
            "282450     13    32  2011-10-14       8103.12      False        51.74   \n",
            "\n",
            "        Fuel_Price  MarkDown1  MarkDown2  MarkDown3  MarkDown4  MarkDown5  \\\n",
            "0            3.796        NaN        NaN        NaN        NaN        NaN   \n",
            "1            3.480        NaN        NaN        NaN        NaN        NaN   \n",
            "2            2.708        NaN        NaN        NaN        NaN        NaN   \n",
            "3            2.582        NaN        NaN        NaN        NaN        NaN   \n",
            "4            4.029   12613.98        NaN      11.50    1705.28    3600.79   \n",
            "...            ...        ...        ...        ...        ...        ...   \n",
            "282446       4.153    2639.32        NaN       4.77     575.48    3147.23   \n",
            "282447       2.826        NaN        NaN        NaN        NaN        NaN   \n",
            "282448       2.921        NaN        NaN        NaN        NaN        NaN   \n",
            "282449       3.916        NaN        NaN        NaN        NaN        NaN   \n",
            "282450       3.567        NaN        NaN        NaN        NaN        NaN   \n",
            "\n",
            "               CPI  Unemployment Type    Size  \n",
            "0       136.213613         7.767    A  152513  \n",
            "1       128.616064        10.398    A  158114  \n",
            "2       211.265543         8.163    B  140167  \n",
            "3       214.878556         6.315    A  155078  \n",
            "4       138.106581         8.150    A  203819  \n",
            "...            ...           ...  ...     ...  \n",
            "282446  142.863363         8.000    A  204184  \n",
            "282447  209.392294         8.464    A  184109  \n",
            "282448  181.662036         8.899    A  200898  \n",
            "282449  135.446800         7.806    B  123737  \n",
            "282450  129.770645         6.392    A  219622  \n",
            "\n",
            "[282451 rows x 16 columns]>\n"
          ]
        }
      ]
    },
    {
      "cell_type": "code",
      "source": [
        "# Ver que tipo de dados temos em cada coluna\n",
        "print(\"Tipos de dados das colunas:\")\n",
        "print(df.dtypes)"
      ],
      "metadata": {
        "colab": {
          "base_uri": "https://localhost:8080/"
        },
        "id": "oTx1U0Kyacoo",
        "outputId": "00ce7a8e-a556-485b-ff3a-81adcc9b9ce1"
      },
      "execution_count": 20,
      "outputs": [
        {
          "output_type": "stream",
          "name": "stdout",
          "text": [
            "Tipos de dados das colunas:\n",
            "Store             int64\n",
            "Dept              int64\n",
            "Date             object\n",
            "Weekly_Sales    float64\n",
            "IsHoliday          bool\n",
            "Temperature     float64\n",
            "Fuel_Price      float64\n",
            "MarkDown1       float64\n",
            "MarkDown2       float64\n",
            "MarkDown3       float64\n",
            "MarkDown4       float64\n",
            "MarkDown5       float64\n",
            "CPI             float64\n",
            "Unemployment    float64\n",
            "Type             object\n",
            "Size              int64\n",
            "dtype: object\n"
          ]
        }
      ]
    },
    {
      "cell_type": "code",
      "source": [
        "#Ver quantas colunas são strings (object)\n",
        "colunas_string = df.select_dtypes(include=['object']).columns\n",
        "print(f\"\\nColunas com texto: {list(colunas_string)}\")"
      ],
      "metadata": {
        "colab": {
          "base_uri": "https://localhost:8080/"
        },
        "id": "p6Vj1VPHbf5Z",
        "outputId": "b49762e7-b268-44d3-a606-d515e022cf44"
      },
      "execution_count": 22,
      "outputs": [
        {
          "output_type": "stream",
          "name": "stdout",
          "text": [
            "\n",
            "Colunas com texto: ['Date', 'Type']\n"
          ]
        }
      ]
    },
    {
      "cell_type": "code",
      "source": [
        "#Remover colunas com texto para simplificar\n",
        "print(\"\\nRemovendo colunas com texto...\")\n",
        "df_numerico = df.select_dtypes(exclude=['object'])\n",
        "print(f\"Shape após remover texto: {df_numerico.shape}\")"
      ],
      "metadata": {
        "colab": {
          "base_uri": "https://localhost:8080/"
        },
        "id": "bodxbmeQbxIl",
        "outputId": "47a6ee9a-9f83-4f9b-e07c-965b09f85b58"
      },
      "execution_count": 23,
      "outputs": [
        {
          "output_type": "stream",
          "name": "stdout",
          "text": [
            "\n",
            "Removendo colunas com texto...\n",
            "Shape após remover texto: (282451, 14)\n"
          ]
        }
      ]
    },
    {
      "cell_type": "code",
      "source": [
        "# Ver qual coluna usar como alvo\n",
        "print(\"\\nColunas numéricas disponíveis:\")\n",
        "print(df_numerico.columns.tolist())"
      ],
      "metadata": {
        "colab": {
          "base_uri": "https://localhost:8080/"
        },
        "id": "hjL2u3Wpb4kk",
        "outputId": "ac8ff152-b7dc-4a45-c44e-65fe309180c2"
      },
      "execution_count": 24,
      "outputs": [
        {
          "output_type": "stream",
          "name": "stdout",
          "text": [
            "\n",
            "Colunas numéricas disponíveis:\n",
            "['Store', 'Dept', 'Weekly_Sales', 'IsHoliday', 'Temperature', 'Fuel_Price', 'MarkDown1', 'MarkDown2', 'MarkDown3', 'MarkDown4', 'MarkDown5', 'CPI', 'Unemployment', 'Size']\n"
          ]
        }
      ]
    },
    {
      "cell_type": "code",
      "source": [
        "#Usar a última coluna numérica como alvo\n",
        "coluna_alvo = df_numerico.columns[-1]\n",
        "print(f\"\\nVamos prever a coluna: {coluna_alvo}\")"
      ],
      "metadata": {
        "colab": {
          "base_uri": "https://localhost:8080/"
        },
        "id": "u-hQbyzdb7n6",
        "outputId": "8419c61f-9584-4c01-8fe4-55a3f792e860"
      },
      "execution_count": 25,
      "outputs": [
        {
          "output_type": "stream",
          "name": "stdout",
          "text": [
            "\n",
            "Vamos prever a coluna: Size\n"
          ]
        }
      ]
    },
    {
      "cell_type": "code",
      "source": [
        "# Separar dados em X (features) e y (target)\n",
        "X = df_numerico.drop(coluna_alvo, axis=1)\n",
        "y = df_numerico[coluna_alvo]\n",
        "\n",
        "print(f\"\\nShape de X: {X.shape}\")\n",
        "print(f\"Shape de y: {y.shape}\")"
      ],
      "metadata": {
        "colab": {
          "base_uri": "https://localhost:8080/"
        },
        "id": "d315C-5rN2M7",
        "outputId": "c64011f5-2712-4849-d1df-3556e334f5e8"
      },
      "execution_count": 27,
      "outputs": [
        {
          "output_type": "stream",
          "name": "stdout",
          "text": [
            "\n",
            "Shape de X: (282451, 13)\n",
            "Shape de y: (282451,)\n"
          ]
        }
      ]
    },
    {
      "cell_type": "code",
      "source": [
        "# Dividir em treino e teste\n",
        "X_train, X_test, y_train, y_test = train_test_split(X, y, test_size=0.2, random_state=42)\n",
        "\n",
        "print(f\"\\nDados divididos (apenas numéricos):\")\n",
        "print(f\"Treino: {X_train.shape[0]} linhas\")\n",
        "print(f\"Teste: {X_test.shape[0]} linhas\")"
      ],
      "metadata": {
        "colab": {
          "base_uri": "https://localhost:8080/"
        },
        "id": "q9LtdtkBN3uN",
        "outputId": "b918ff85-20cd-493c-ea13-5faa43f25a4d"
      },
      "execution_count": 28,
      "outputs": [
        {
          "output_type": "stream",
          "name": "stdout",
          "text": [
            "\n",
            "Dados divididos (apenas numéricos):\n",
            "Treino: 225960 linhas\n",
            "Teste: 56491 linhas\n"
          ]
        }
      ]
    },
    {
      "cell_type": "code",
      "source": [
        "print(f\"\\nVamos prever a coluna: {coluna_alvo}\")\n",
        "\n",
        "# Separar dados em X (features) e y (target)\n",
        "X = df.drop(coluna_alvo, axis=1)\n",
        "y = df[coluna_alvo]\n",
        "\n",
        "print(f\"\\nShape de X: {X.shape}\")\n",
        "print(f\"Shape de y: {y.shape}\")"
      ],
      "metadata": {
        "colab": {
          "base_uri": "https://localhost:8080/"
        },
        "id": "NqwD1YZqOFPL",
        "outputId": "a10e5707-2745-458f-e8d1-9264ba9114f2"
      },
      "execution_count": 12,
      "outputs": [
        {
          "output_type": "stream",
          "name": "stdout",
          "text": [
            "\n",
            "Vamos prever a coluna: Size\n",
            "\n",
            "Shape de X: (282451, 15)\n",
            "Shape de y: (282451,)\n"
          ]
        }
      ]
    },
    {
      "cell_type": "code",
      "source": [
        "# Criar e treinar o modelo\n",
        "print(\"\\nCriando o modelo Random Forest...\")\n",
        "modelo = RandomForestClassifier(n_estimators=100, random_state=42)\n",
        "modelo.fit(X_train, y_train)\n",
        "\n",
        "print(\"Modelo treinado!\")"
      ],
      "metadata": {
        "colab": {
          "base_uri": "https://localhost:8080/"
        },
        "id": "XRHXpUOzOK4X",
        "outputId": "ac30dea8-e453-4ad1-d243-3a260f44559a"
      },
      "execution_count": 29,
      "outputs": [
        {
          "output_type": "stream",
          "name": "stdout",
          "text": [
            "\n",
            "Criando o modelo Random Forest...\n",
            "Modelo treinado!\n"
          ]
        }
      ]
    },
    {
      "cell_type": "code",
      "source": [
        "# Fazer previsões\n",
        "print(\"\\nFazendo previsões...\")\n",
        "previsoes = modelo.predict(X_test)"
      ],
      "metadata": {
        "colab": {
          "base_uri": "https://localhost:8080/"
        },
        "id": "pU71GH7DR7b1",
        "outputId": "6e381aae-5ce0-4d96-b5cd-9206b8982af4"
      },
      "execution_count": 32,
      "outputs": [
        {
          "output_type": "stream",
          "name": "stdout",
          "text": [
            "\n",
            "Fazendo previsões...\n"
          ]
        }
      ]
    },
    {
      "cell_type": "code",
      "source": [
        "# Mostrar as primeiras previsões\n",
        "print(\"\\nPrimeiras 10 previsões:\")\n",
        "print(previsoes[:10])"
      ],
      "metadata": {
        "colab": {
          "base_uri": "https://localhost:8080/"
        },
        "id": "Xjr4p7wNSDzg",
        "outputId": "55b1bfba-8906-43a7-d904-e5c5dd75a8d2"
      },
      "execution_count": 33,
      "outputs": [
        {
          "output_type": "stream",
          "name": "stdout",
          "text": [
            "\n",
            "Primeiras 10 previsões:\n",
            "[ 34875 126512 219622 120653 206302 204184 120653 119557 205863 128107]\n"
          ]
        }
      ]
    },
    {
      "cell_type": "code",
      "source": [
        "# Comparar previsões com valores reais\n",
        "print(\"\\nComparação (Previsão vs Real):\")\n",
        "for i in range(10):\n",
        "    print(f\"Previsão: {previsoes[i]} | Real: {y_test.values[i]}\")"
      ],
      "metadata": {
        "colab": {
          "base_uri": "https://localhost:8080/"
        },
        "id": "kQRmMxl0SaQr",
        "outputId": "ce277585-dcd9-4ea7-c16a-b6bc88add7dc"
      },
      "execution_count": 35,
      "outputs": [
        {
          "output_type": "stream",
          "name": "stdout",
          "text": [
            "\n",
            "Comparação (Previsão vs Real):\n",
            "Previsão: 34875 | Real: 34875\n",
            "Previsão: 126512 | Real: 126512\n",
            "Previsão: 219622 | Real: 219622\n",
            "Previsão: 120653 | Real: 120653\n",
            "Previsão: 206302 | Real: 206302\n",
            "Previsão: 204184 | Real: 204184\n",
            "Previsão: 120653 | Real: 120653\n",
            "Previsão: 119557 | Real: 119557\n",
            "Previsão: 205863 | Real: 205863\n",
            "Previsão: 128107 | Real: 128107\n"
          ]
        }
      ]
    },
    {
      "cell_type": "code",
      "source": [
        "# Verificar a acurácia\n",
        "from sklearn.metrics import accuracy_score\n",
        "acuracia = accuracy_score(y_test, previsoes)\n",
        "print(f\"\\nAcurácia do modelo: {acuracia:.2f}\")"
      ],
      "metadata": {
        "colab": {
          "base_uri": "https://localhost:8080/"
        },
        "id": "Ih7eqOALSiBQ",
        "outputId": "9db3b4d6-9eac-42f0-ddd3-edd396e96bbb"
      },
      "execution_count": 36,
      "outputs": [
        {
          "output_type": "stream",
          "name": "stdout",
          "text": [
            "\n",
            "Acurácia do modelo: 1.00\n"
          ]
        }
      ]
    },
    {
      "cell_type": "code",
      "source": [
        "# Contar quantas previsões foram corretas\n",
        "corretas = sum(previsoes == y_test)\n",
        "total = len(previsoes)\n",
        "print(f\"Previsões corretas: {corretas} de {total}\")"
      ],
      "metadata": {
        "colab": {
          "base_uri": "https://localhost:8080/"
        },
        "id": "vvhpDYYZSnA2",
        "outputId": "54e974a3-d912-49ef-8a42-e3b3acb89104"
      },
      "execution_count": 37,
      "outputs": [
        {
          "output_type": "stream",
          "name": "stdout",
          "text": [
            "Previsões corretas: 56491 de 56491\n"
          ]
        }
      ]
    }
  ]
}