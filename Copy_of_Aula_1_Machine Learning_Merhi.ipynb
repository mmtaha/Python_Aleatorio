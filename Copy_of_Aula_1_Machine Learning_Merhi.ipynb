{
  "nbformat": 4,
  "nbformat_minor": 0,
  "metadata": {
    "colab": {
      "provenance": [],
      "authorship_tag": "ABX9TyNVC8tDfyvw0CFvkcIvjSxK",
      "include_colab_link": true
    },
    "kernelspec": {
      "name": "ir",
      "display_name": "R"
    },
    "language_info": {
      "name": "R"
    }
  },
  "cells": [
    {
      "cell_type": "markdown",
      "metadata": {
        "id": "view-in-github",
        "colab_type": "text"
      },
      "source": [
        "<a href=\"https://colab.research.google.com/github/mmtaha/Python_Aleatorio/blob/main/Copy_of_Aula_1_Machine%20Learning_Merhi.ipynb\" target=\"_parent\"><img src=\"https://colab.research.google.com/assets/colab-badge.svg\" alt=\"Open In Colab\"/></a>"
      ]
    },
    {
      "cell_type": "code",
      "source": [
        "Temperature <- c(50, 48, 47, 21, 20.7, 20.5,19.8,19.3, 19.1, 18.9 )\n",
        "\n",
        "Time <- c(1, 2, 3, 4, 5,6,7,8,9,10)"
      ],
      "metadata": {
        "id": "Jfe6E24DAsK-"
      },
      "execution_count": null,
      "outputs": []
    },
    {
      "cell_type": "code",
      "source": [
        "Time"
      ],
      "metadata": {
        "colab": {
          "base_uri": "https://localhost:8080/",
          "height": 34
        },
        "id": "-BbRiz1WBFAU",
        "outputId": "1a7a7f1e-8182-40a9-fb17-4a3fe5826259"
      },
      "execution_count": null,
      "outputs": [
        {
          "output_type": "display_data",
          "data": {
            "text/html": [
              "<style>\n",
              ".list-inline {list-style: none; margin:0; padding: 0}\n",
              ".list-inline>li {display: inline-block}\n",
              ".list-inline>li:not(:last-child)::after {content: \"\\00b7\"; padding: 0 .5ex}\n",
              "</style>\n",
              "<ol class=list-inline><li>1</li><li>2</li><li>3</li><li>4</li><li>5</li><li>6</li><li>7</li><li>8</li><li>9</li><li>10</li></ol>\n"
            ],
            "text/markdown": "1. 1\n2. 2\n3. 3\n4. 4\n5. 5\n6. 6\n7. 7\n8. 8\n9. 9\n10. 10\n\n\n",
            "text/latex": "\\begin{enumerate*}\n\\item 1\n\\item 2\n\\item 3\n\\item 4\n\\item 5\n\\item 6\n\\item 7\n\\item 8\n\\item 9\n\\item 10\n\\end{enumerate*}\n",
            "text/plain": [
              " [1]  1  2  3  4  5  6  7  8  9 10"
            ]
          },
          "metadata": {}
        }
      ]
    },
    {
      "cell_type": "code",
      "source": [
        "Temperature"
      ],
      "metadata": {
        "colab": {
          "base_uri": "https://localhost:8080/",
          "height": 34
        },
        "id": "K9q6hEsaBV_5",
        "outputId": "672f5a95-ddfb-4262-b818-070cf90a1c37"
      },
      "execution_count": null,
      "outputs": [
        {
          "output_type": "display_data",
          "data": {
            "text/html": [
              "<style>\n",
              ".list-inline {list-style: none; margin:0; padding: 0}\n",
              ".list-inline>li {display: inline-block}\n",
              ".list-inline>li:not(:last-child)::after {content: \"\\00b7\"; padding: 0 .5ex}\n",
              "</style>\n",
              "<ol class=list-inline><li>50</li><li>48</li><li>47</li><li>21</li><li>20.7</li><li>20.5</li><li>19.8</li><li>19.3</li><li>19.1</li><li>18.9</li></ol>\n"
            ],
            "text/markdown": "1. 50\n2. 48\n3. 47\n4. 21\n5. 20.7\n6. 20.5\n7. 19.8\n8. 19.3\n9. 19.1\n10. 18.9\n\n\n",
            "text/latex": "\\begin{enumerate*}\n\\item 50\n\\item 48\n\\item 47\n\\item 21\n\\item 20.7\n\\item 20.5\n\\item 19.8\n\\item 19.3\n\\item 19.1\n\\item 18.9\n\\end{enumerate*}\n",
            "text/plain": [
              " [1] 50.0 48.0 47.0 21.0 20.7 20.5 19.8 19.3 19.1 18.9"
            ]
          },
          "metadata": {}
        }
      ]
    },
    {
      "cell_type": "code",
      "source": [
        "plot(Time,Temperature)"
      ],
      "metadata": {
        "colab": {
          "base_uri": "https://localhost:8080/",
          "height": 437
        },
        "id": "e9HQfPVmBjx_",
        "outputId": "ffb9b2ff-7be7-4e95-9d5a-f57ca5e176e8"
      },
      "execution_count": null,
      "outputs": [
        {
          "output_type": "display_data",
          "data": {
            "text/plain": [
              "plot without title"
            ],
            "image/png": "[encoded data removed]"
          },
          "metadata": {
            "image/png": {
              "width": 420,
              "height": 420
            }
          }
        }
      ]
    },
    {
      "cell_type": "code",
      "source": [
        "head(cars)"
      ],
      "metadata": {
        "colab": {
          "base_uri": "https://localhost:8080/",
          "height": 283
        },
        "id": "TNhiqNXuBtU2",
        "outputId": "b55ab517-d2a1-470f-c95c-41479583e6ca"
      },
      "execution_count": null,
      "outputs": [
        {
          "output_type": "display_data",
          "data": {
            "text/html": [
              "<table class=\"dataframe\">\n",
              "<caption>A data.frame: 6 × 2</caption>\n",
              "<thead>\n",
              "\t<tr><th></th><th scope=col>speed</th><th scope=col>dist</th></tr>\n",
              "\t<tr><th></th><th scope=col>&lt;dbl&gt;</th><th scope=col>&lt;dbl&gt;</th></tr>\n",
              "</thead>\n",
              "<tbody>\n",
              "\t<tr><th scope=row>1</th><td>4</td><td> 2</td></tr>\n",
              "\t<tr><th scope=row>2</th><td>4</td><td>10</td></tr>\n",
              "\t<tr><th scope=row>3</th><td>7</td><td> 4</td></tr>\n",
              "\t<tr><th scope=row>4</th><td>7</td><td>22</td></tr>\n",
              "\t<tr><th scope=row>5</th><td>8</td><td>16</td></tr>\n",
              "\t<tr><th scope=row>6</th><td>9</td><td>10</td></tr>\n",
              "</tbody>\n",
              "</table>\n"
            ],
            "text/markdown": "\nA data.frame: 6 × 2\n\n| <!--/--> | speed &lt;dbl&gt; | dist &lt;dbl&gt; |\n|---|---|---|\n| 1 | 4 |  2 |\n| 2 | 4 | 10 |\n| 3 | 7 |  4 |\n| 4 | 7 | 22 |\n| 5 | 8 | 16 |\n| 6 | 9 | 10 |\n\n",
            "text/latex": "A data.frame: 6 × 2\n\\begin{tabular}{r|ll}\n  & speed & dist\\\\\n  & <dbl> & <dbl>\\\\\n\\hline\n\t1 & 4 &  2\\\\\n\t2 & 4 & 10\\\\\n\t3 & 7 &  4\\\\\n\t4 & 7 & 22\\\\\n\t5 & 8 & 16\\\\\n\t6 & 9 & 10\\\\\n\\end{tabular}\n",
            "text/plain": [
              "  speed dist\n",
              "1 4      2  \n",
              "2 4     10  \n",
              "3 7      4  \n",
              "4 7     22  \n",
              "5 8     16  \n",
              "6 9     10  "
            ]
          },
          "metadata": {}
        }
      ]
    },
    {
      "cell_type": "code",
      "source": [
        "names(cars)"
      ],
      "metadata": {
        "colab": {
          "base_uri": "https://localhost:8080/",
          "height": 34
        },
        "id": "jKkl7TgUB7EE",
        "outputId": "eff38357-a3e1-4e74-dc1f-d1266fd7ee8f"
      },
      "execution_count": null,
      "outputs": [
        {
          "output_type": "display_data",
          "data": {
            "text/html": [
              "<style>\n",
              ".list-inline {list-style: none; margin:0; padding: 0}\n",
              ".list-inline>li {display: inline-block}\n",
              ".list-inline>li:not(:last-child)::after {content: \"\\00b7\"; padding: 0 .5ex}\n",
              "</style>\n",
              "<ol class=list-inline><li>'speed'</li><li>'dist'</li></ol>\n"
            ],
            "text/markdown": "1. 'speed'\n2. 'dist'\n\n\n",
            "text/latex": "\\begin{enumerate*}\n\\item 'speed'\n\\item 'dist'\n\\end{enumerate*}\n",
            "text/plain": [
              "[1] \"speed\" \"dist\" "
            ]
          },
          "metadata": {}
        }
      ]
    },
    {
      "cell_type": "code",
      "source": [
        "cars$speed"
      ],
      "metadata": {
        "colab": {
          "base_uri": "https://localhost:8080/",
          "height": 51
        },
        "id": "__oYQ1EWB_iU",
        "outputId": "fb3ba02d-bad0-48df-8e9a-65d8e66e3d19"
      },
      "execution_count": null,
      "outputs": [
        {
          "output_type": "display_data",
          "data": {
            "text/html": [
              "<style>\n",
              ".list-inline {list-style: none; margin:0; padding: 0}\n",
              ".list-inline>li {display: inline-block}\n",
              ".list-inline>li:not(:last-child)::after {content: \"\\00b7\"; padding: 0 .5ex}\n",
              "</style>\n",
              "<ol class=list-inline><li>4</li><li>4</li><li>7</li><li>7</li><li>8</li><li>9</li><li>10</li><li>10</li><li>10</li><li>11</li><li>11</li><li>12</li><li>12</li><li>12</li><li>12</li><li>13</li><li>13</li><li>13</li><li>13</li><li>14</li><li>14</li><li>14</li><li>14</li><li>15</li><li>15</li><li>15</li><li>16</li><li>16</li><li>17</li><li>17</li><li>17</li><li>18</li><li>18</li><li>18</li><li>18</li><li>19</li><li>19</li><li>19</li><li>20</li><li>20</li><li>20</li><li>20</li><li>20</li><li>22</li><li>23</li><li>24</li><li>24</li><li>24</li><li>24</li><li>25</li></ol>\n"
            ],
            "text/markdown": "1. 4\n2. 4\n3. 7\n4. 7\n5. 8\n6. 9\n7. 10\n8. 10\n9. 10\n10. 11\n11. 11\n12. 12\n13. 12\n14. 12\n15. 12\n16. 13\n17. 13\n18. 13\n19. 13\n20. 14\n21. 14\n22. 14\n23. 14\n24. 15\n25. 15\n26. 15\n27. 16\n28. 16\n29. 17\n30. 17\n31. 17\n32. 18\n33. 18\n34. 18\n35. 18\n36. 19\n37. 19\n38. 19\n39. 20\n40. 20\n41. 20\n42. 20\n43. 20\n44. 22\n45. 23\n46. 24\n47. 24\n48. 24\n49. 24\n50. 25\n\n\n",
            "text/latex": "\\begin{enumerate*}\n\\item 4\n\\item 4\n\\item 7\n\\item 7\n\\item 8\n\\item 9\n\\item 10\n\\item 10\n\\item 10\n\\item 11\n\\item 11\n\\item 12\n\\item 12\n\\item 12\n\\item 12\n\\item 13\n\\item 13\n\\item 13\n\\item 13\n\\item 14\n\\item 14\n\\item 14\n\\item 14\n\\item 15\n\\item 15\n\\item 15\n\\item 16\n\\item 16\n\\item 17\n\\item 17\n\\item 17\n\\item 18\n\\item 18\n\\item 18\n\\item 18\n\\item 19\n\\item 19\n\\item 19\n\\item 20\n\\item 20\n\\item 20\n\\item 20\n\\item 20\n\\item 22\n\\item 23\n\\item 24\n\\item 24\n\\item 24\n\\item 24\n\\item 25\n\\end{enumerate*}\n",
            "text/plain": [
              " [1]  4  4  7  7  8  9 10 10 10 11 11 12 12 12 12 13 13 13 13 14 14 14 14 15 15\n",
              "[26] 15 16 16 17 17 17 18 18 18 18 19 19 19 20 20 20 20 20 22 23 24 24 24 24 25"
            ]
          },
          "metadata": {}
        }
      ]
    },
    {
      "cell_type": "code",
      "source": [
        "scatter.smooth(x=cars$speed, y=cars$dist, main=\"Stop Distance ~ Speed\")  # scatterplot"
      ],
      "metadata": {
        "colab": {
          "base_uri": "https://localhost:8080/",
          "height": 437
        },
        "id": "2wmiYY68CDYc",
        "outputId": "5fce5f61-64ae-4660-a434-19982bf086e7"
      },
      "execution_count": null,
      "outputs": [
        {
          "output_type": "display_data",
          "data": {
            "text/plain": [
              "Plot with title “Stop Distance ~ Speed”"
            ],
            "image/png": "[encoded data removed]"
          },
          "metadata": {
            "image/png": {
              "width": 420,
              "height": 420
            }
          }
        }
      ]
    },
    {
      "cell_type": "code",
      "source": [
        "collegeData <- read.csv(\"https://raw.githubusercontent.com/silviostanzani/PosBigData/master/College.csv\")"
      ],
      "metadata": {
        "id": "Z_WHgsohCUSB"
      },
      "execution_count": null,
      "outputs": []
    },
    {
      "cell_type": "code",
      "source": [
        "collegeData"
      ],
      "metadata": {
        "colab": {
          "base_uri": "https://localhost:8080/",
          "height": 1000
        },
        "id": "W2FBBZFhCYug",
        "outputId": "13d1a0b6-cb2e-404b-93d0-8296e82c6274"
      },
      "execution_count": null,
      "outputs": [
        {
          "output_type": "display_data",
          "data": {
            "text/html": [
              "<table class=\"dataframe\">\n",
              "<caption>A data.frame: 777 × 19</caption>\n",
              "<thead>\n",
              "\t<tr><th scope=col>X</th><th scope=col>Private</th><th scope=col>Apps</th><th scope=col>Accept</th><th scope=col>Enroll</th><th scope=col>Top10perc</th><th scope=col>Top25perc</th><th scope=col>F.Undergrad</th><th scope=col>P.Undergrad</th><th scope=col>Outstate</th><th scope=col>Room.Board</th><th scope=col>Books</th><th scope=col>Personal</th><th scope=col>PhD</th><th scope=col>Terminal</th><th scope=col>S.F.Ratio</th><th scope=col>perc.alumni</th><th scope=col>Expend</th><th scope=col>Grad.Rate</th></tr>\n",
              "\t<tr><th scope=col>&lt;chr&gt;</th><th scope=col>&lt;chr&gt;</th><th scope=col>&lt;int&gt;</th><th scope=col>&lt;int&gt;</th><th scope=col>&lt;int&gt;</th><th scope=col>&lt;int&gt;</th><th scope=col>&lt;int&gt;</th><th scope=col>&lt;int&gt;</th><th scope=col>&lt;int&gt;</th><th scope=col>&lt;int&gt;</th><th scope=col>&lt;int&gt;</th><th scope=col>&lt;int&gt;</th><th scope=col>&lt;int&gt;</th><th scope=col>&lt;int&gt;</th><th scope=col>&lt;int&gt;</th><th scope=col>&lt;dbl&gt;</th><th scope=col>&lt;int&gt;</th><th scope=col>&lt;int&gt;</th><th scope=col>&lt;int&gt;</th></tr>\n",
              "</thead>\n",
              "<tbody>\n",
              "\t<tr><td>Abilene Christian University           </td><td>Yes</td><td> 1660</td><td> 1232</td><td> 721</td><td>23</td><td>52</td><td> 2885</td><td> 537</td><td> 7440</td><td>3300</td><td>450</td><td>2200</td><td>70</td><td> 78</td><td>18.1</td><td>12</td><td> 7041</td><td> 60</td></tr>\n",
              "\t<tr><td>Adelphi University                     </td><td>Yes</td><td> 2186</td><td> 1924</td><td> 512</td><td>16</td><td>29</td><td> 2683</td><td>1227</td><td>12280</td><td>6450</td><td>750</td><td>1500</td><td>29</td><td> 30</td><td>12.2</td><td>16</td><td>10527</td><td> 56</td></tr>\n",
              "\t<tr><td>Adrian College                         </td><td>Yes</td><td> 1428</td><td> 1097</td><td> 336</td><td>22</td><td>50</td><td> 1036</td><td>  99</td><td>11250</td><td>3750</td><td>400</td><td>1165</td><td>53</td><td> 66</td><td>12.9</td><td>30</td><td> 8735</td><td> 54</td></tr>\n",
              "\t<tr><td>Agnes Scott College                    </td><td>Yes</td><td>  417</td><td>  349</td><td> 137</td><td>60</td><td>89</td><td>  510</td><td>  63</td><td>12960</td><td>5450</td><td>450</td><td> 875</td><td>92</td><td> 97</td><td> 7.7</td><td>37</td><td>19016</td><td> 59</td></tr>\n",
              "\t<tr><td>Alaska Pacific University              </td><td>Yes</td><td>  193</td><td>  146</td><td>  55</td><td>16</td><td>44</td><td>  249</td><td> 869</td><td> 7560</td><td>4120</td><td>800</td><td>1500</td><td>76</td><td> 72</td><td>11.9</td><td> 2</td><td>10922</td><td> 15</td></tr>\n",
              "\t<tr><td>Albertson College                      </td><td>Yes</td><td>  587</td><td>  479</td><td> 158</td><td>38</td><td>62</td><td>  678</td><td>  41</td><td>13500</td><td>3335</td><td>500</td><td> 675</td><td>67</td><td> 73</td><td> 9.4</td><td>11</td><td> 9727</td><td> 55</td></tr>\n",
              "\t<tr><td>Albertus Magnus College                </td><td>Yes</td><td>  353</td><td>  340</td><td> 103</td><td>17</td><td>45</td><td>  416</td><td> 230</td><td>13290</td><td>5720</td><td>500</td><td>1500</td><td>90</td><td> 93</td><td>11.5</td><td>26</td><td> 8861</td><td> 63</td></tr>\n",
              "\t<tr><td>Albion College                         </td><td>Yes</td><td> 1899</td><td> 1720</td><td> 489</td><td>37</td><td>68</td><td> 1594</td><td>  32</td><td>13868</td><td>4826</td><td>450</td><td> 850</td><td>89</td><td>100</td><td>13.7</td><td>37</td><td>11487</td><td> 73</td></tr>\n",
              "\t<tr><td>Albright College                       </td><td>Yes</td><td> 1038</td><td>  839</td><td> 227</td><td>30</td><td>63</td><td>  973</td><td> 306</td><td>15595</td><td>4400</td><td>300</td><td> 500</td><td>79</td><td> 84</td><td>11.3</td><td>23</td><td>11644</td><td> 80</td></tr>\n",
              "\t<tr><td>Alderson-Broaddus College              </td><td>Yes</td><td>  582</td><td>  498</td><td> 172</td><td>21</td><td>44</td><td>  799</td><td>  78</td><td>10468</td><td>3380</td><td>660</td><td>1800</td><td>40</td><td> 41</td><td>11.5</td><td>15</td><td> 8991</td><td> 52</td></tr>\n",
              "\t<tr><td>Alfred University                      </td><td>Yes</td><td> 1732</td><td> 1425</td><td> 472</td><td>37</td><td>75</td><td> 1830</td><td> 110</td><td>16548</td><td>5406</td><td>500</td><td> 600</td><td>82</td><td> 88</td><td>11.3</td><td>31</td><td>10932</td><td> 73</td></tr>\n",
              "\t<tr><td>Allegheny College                      </td><td>Yes</td><td> 2652</td><td> 1900</td><td> 484</td><td>44</td><td>77</td><td> 1707</td><td>  44</td><td>17080</td><td>4440</td><td>400</td><td> 600</td><td>73</td><td> 91</td><td> 9.9</td><td>41</td><td>11711</td><td> 76</td></tr>\n",
              "\t<tr><td>Allentown Coll. of St. Francis de Sales</td><td>Yes</td><td> 1179</td><td>  780</td><td> 290</td><td>38</td><td>64</td><td> 1130</td><td> 638</td><td> 9690</td><td>4785</td><td>600</td><td>1000</td><td>60</td><td> 84</td><td>13.3</td><td>21</td><td> 7940</td><td> 74</td></tr>\n",
              "\t<tr><td>Alma College                           </td><td>Yes</td><td> 1267</td><td> 1080</td><td> 385</td><td>44</td><td>73</td><td> 1306</td><td>  28</td><td>12572</td><td>4552</td><td>400</td><td> 400</td><td>79</td><td> 87</td><td>15.3</td><td>32</td><td> 9305</td><td> 68</td></tr>\n",
              "\t<tr><td>Alverno College                        </td><td>Yes</td><td>  494</td><td>  313</td><td> 157</td><td>23</td><td>46</td><td> 1317</td><td>1235</td><td> 8352</td><td>3640</td><td>650</td><td>2449</td><td>36</td><td> 69</td><td>11.1</td><td>26</td><td> 8127</td><td> 55</td></tr>\n",
              "\t<tr><td>American International College         </td><td>Yes</td><td> 1420</td><td> 1093</td><td> 220</td><td> 9</td><td>22</td><td> 1018</td><td> 287</td><td> 8700</td><td>4780</td><td>450</td><td>1400</td><td>78</td><td> 84</td><td>14.7</td><td>19</td><td> 7355</td><td> 69</td></tr>\n",
              "\t<tr><td>Amherst College                        </td><td>Yes</td><td> 4302</td><td>  992</td><td> 418</td><td>83</td><td>96</td><td> 1593</td><td>   5</td><td>19760</td><td>5300</td><td>660</td><td>1598</td><td>93</td><td> 98</td><td> 8.4</td><td>63</td><td>21424</td><td>100</td></tr>\n",
              "\t<tr><td>Anderson University                    </td><td>Yes</td><td> 1216</td><td>  908</td><td> 423</td><td>19</td><td>40</td><td> 1819</td><td> 281</td><td>10100</td><td>3520</td><td>550</td><td>1100</td><td>48</td><td> 61</td><td>12.1</td><td>14</td><td> 7994</td><td> 59</td></tr>\n",
              "\t<tr><td>Andrews University                     </td><td>Yes</td><td> 1130</td><td>  704</td><td> 322</td><td>14</td><td>23</td><td> 1586</td><td> 326</td><td> 9996</td><td>3090</td><td>900</td><td>1320</td><td>62</td><td> 66</td><td>11.5</td><td>18</td><td>10908</td><td> 46</td></tr>\n",
              "\t<tr><td>Angelo State University                </td><td>No </td><td> 3540</td><td> 2001</td><td>1016</td><td>24</td><td>54</td><td> 4190</td><td>1512</td><td> 5130</td><td>3592</td><td>500</td><td>2000</td><td>60</td><td> 62</td><td>23.1</td><td> 5</td><td> 4010</td><td> 34</td></tr>\n",
              "\t<tr><td>Antioch University                     </td><td>Yes</td><td>  713</td><td>  661</td><td> 252</td><td>25</td><td>44</td><td>  712</td><td>  23</td><td>15476</td><td>3336</td><td>400</td><td>1100</td><td>69</td><td> 82</td><td>11.3</td><td>35</td><td>42926</td><td> 48</td></tr>\n",
              "\t<tr><td>Appalachian State University           </td><td>No </td><td> 7313</td><td> 4664</td><td>1910</td><td>20</td><td>63</td><td> 9940</td><td>1035</td><td> 6806</td><td>2540</td><td> 96</td><td>2000</td><td>83</td><td> 96</td><td>18.3</td><td>14</td><td> 5854</td><td> 70</td></tr>\n",
              "\t<tr><td>Aquinas College                        </td><td>Yes</td><td>  619</td><td>  516</td><td> 219</td><td>20</td><td>51</td><td> 1251</td><td> 767</td><td>11208</td><td>4124</td><td>350</td><td>1615</td><td>55</td><td> 65</td><td>12.7</td><td>25</td><td> 6584</td><td> 65</td></tr>\n",
              "\t<tr><td>Arizona State University Main campus   </td><td>No </td><td>12809</td><td>10308</td><td>3761</td><td>24</td><td>49</td><td>22593</td><td>7585</td><td> 7434</td><td>4850</td><td>700</td><td>2100</td><td>88</td><td> 93</td><td>18.9</td><td> 5</td><td> 4602</td><td> 48</td></tr>\n",
              "\t<tr><td>Arkansas College (Lyon College)        </td><td>Yes</td><td>  708</td><td>  334</td><td> 166</td><td>46</td><td>74</td><td>  530</td><td> 182</td><td> 8644</td><td>3922</td><td>500</td><td> 800</td><td>79</td><td> 88</td><td>12.6</td><td>24</td><td>14579</td><td> 54</td></tr>\n",
              "\t<tr><td>Arkansas Tech University               </td><td>No </td><td> 1734</td><td> 1729</td><td> 951</td><td>12</td><td>52</td><td> 3602</td><td> 939</td><td> 3460</td><td>2650</td><td>450</td><td>1000</td><td>57</td><td> 60</td><td>19.6</td><td> 5</td><td> 4739</td><td> 48</td></tr>\n",
              "\t<tr><td>Assumption College                     </td><td>Yes</td><td> 2135</td><td> 1700</td><td> 491</td><td>23</td><td>59</td><td> 1708</td><td> 689</td><td>12000</td><td>5920</td><td>500</td><td> 500</td><td>93</td><td> 93</td><td>13.8</td><td>30</td><td> 7100</td><td> 88</td></tr>\n",
              "\t<tr><td>Auburn University-Main Campus          </td><td>No </td><td> 7548</td><td> 6791</td><td>3070</td><td>25</td><td>57</td><td>16262</td><td>1716</td><td> 6300</td><td>3933</td><td>600</td><td>1908</td><td>85</td><td> 91</td><td>16.7</td><td>18</td><td> 6642</td><td> 69</td></tr>\n",
              "\t<tr><td>Augsburg College                       </td><td>Yes</td><td>  662</td><td>  513</td><td> 257</td><td>12</td><td>30</td><td> 2074</td><td> 726</td><td>11902</td><td>4372</td><td>540</td><td> 950</td><td>65</td><td> 65</td><td>12.8</td><td>31</td><td> 7836</td><td> 58</td></tr>\n",
              "\t<tr><td>Augustana College IL                   </td><td>Yes</td><td> 1879</td><td> 1658</td><td> 497</td><td>36</td><td>69</td><td> 1950</td><td>  38</td><td>13353</td><td>4173</td><td>540</td><td> 821</td><td>78</td><td> 83</td><td>12.7</td><td>40</td><td> 9220</td><td> 71</td></tr>\n",
              "\t<tr><td>⋮</td><td>⋮</td><td>⋮</td><td>⋮</td><td>⋮</td><td>⋮</td><td>⋮</td><td>⋮</td><td>⋮</td><td>⋮</td><td>⋮</td><td>⋮</td><td>⋮</td><td>⋮</td><td>⋮</td><td>⋮</td><td>⋮</td><td>⋮</td><td>⋮</td></tr>\n",
              "\t<tr><td>Westfield State College              </td><td>No </td><td> 3100</td><td>2150</td><td> 825</td><td> 3</td><td>20</td><td>3234</td><td> 941</td><td> 5542</td><td>3788</td><td>500</td><td>1300</td><td>75</td><td>79</td><td>15.7</td><td>20</td><td> 4222</td><td>65</td></tr>\n",
              "\t<tr><td>Westminster College MO               </td><td>Yes</td><td>  662</td><td> 553</td><td> 184</td><td>20</td><td>43</td><td> 665</td><td>  37</td><td>10720</td><td>4050</td><td>600</td><td>1650</td><td>66</td><td>70</td><td>12.5</td><td>20</td><td> 7925</td><td>62</td></tr>\n",
              "\t<tr><td>Westminster College                  </td><td>Yes</td><td>  996</td><td> 866</td><td> 377</td><td>29</td><td>58</td><td>1411</td><td>  72</td><td>12065</td><td>3615</td><td>430</td><td> 685</td><td>62</td><td>78</td><td>12.5</td><td>41</td><td> 8596</td><td>80</td></tr>\n",
              "\t<tr><td>Westminster College of Salt Lake City</td><td>Yes</td><td>  917</td><td> 720</td><td> 213</td><td>21</td><td>60</td><td> 979</td><td> 743</td><td> 8820</td><td>4050</td><td>600</td><td>2025</td><td>68</td><td>83</td><td>10.5</td><td>34</td><td> 7170</td><td>50</td></tr>\n",
              "\t<tr><td>Westmont College                     </td><td>No </td><td>  950</td><td> 713</td><td> 351</td><td>42</td><td>72</td><td>1276</td><td>   9</td><td>14320</td><td>5304</td><td>490</td><td>1410</td><td>77</td><td>77</td><td>14.9</td><td>17</td><td> 8837</td><td>87</td></tr>\n",
              "\t<tr><td>Wheaton College IL                   </td><td>Yes</td><td> 1432</td><td> 920</td><td> 548</td><td>56</td><td>84</td><td>2200</td><td>  56</td><td>11480</td><td>4200</td><td>530</td><td>1400</td><td>81</td><td>83</td><td>12.7</td><td>40</td><td>11916</td><td>85</td></tr>\n",
              "\t<tr><td>Westminster College PA               </td><td>Yes</td><td> 1738</td><td>1373</td><td> 417</td><td>21</td><td>55</td><td>1335</td><td>  30</td><td>18460</td><td>5970</td><td>700</td><td> 850</td><td>92</td><td>96</td><td>13.2</td><td>41</td><td>22704</td><td>71</td></tr>\n",
              "\t<tr><td>Wheeling Jesuit College              </td><td>Yes</td><td>  903</td><td> 755</td><td> 213</td><td>15</td><td>49</td><td> 971</td><td> 305</td><td>10500</td><td>4545</td><td>600</td><td> 600</td><td>66</td><td>71</td><td>14.1</td><td>27</td><td> 7494</td><td>72</td></tr>\n",
              "\t<tr><td>Whitman College                      </td><td>Yes</td><td> 1861</td><td> 998</td><td> 359</td><td>45</td><td>77</td><td>1220</td><td>  46</td><td>16670</td><td>4900</td><td>750</td><td> 800</td><td>80</td><td>83</td><td>10.5</td><td>51</td><td>13198</td><td>72</td></tr>\n",
              "\t<tr><td>Whittier College                     </td><td>Yes</td><td> 1681</td><td>1069</td><td> 344</td><td>35</td><td>63</td><td>1235</td><td>  30</td><td>16249</td><td>5699</td><td>500</td><td>1998</td><td>84</td><td>92</td><td>13.6</td><td>29</td><td>11778</td><td>52</td></tr>\n",
              "\t<tr><td>Whitworth College                    </td><td>Yes</td><td> 1121</td><td> 926</td><td> 372</td><td>43</td><td>70</td><td>1270</td><td> 160</td><td>12660</td><td>4500</td><td>678</td><td>2424</td><td>80</td><td>80</td><td>16.9</td><td>20</td><td> 8328</td><td>80</td></tr>\n",
              "\t<tr><td>Widener University                   </td><td>Yes</td><td> 2139</td><td>1492</td><td> 502</td><td>24</td><td>64</td><td>2186</td><td>2171</td><td>12350</td><td>5370</td><td>500</td><td>1350</td><td>88</td><td>86</td><td>12.6</td><td>19</td><td> 9603</td><td>63</td></tr>\n",
              "\t<tr><td>Wilkes University                    </td><td>Yes</td><td> 1631</td><td>1431</td><td> 434</td><td>15</td><td>36</td><td>1803</td><td> 603</td><td>11150</td><td>5130</td><td>550</td><td>1260</td><td>78</td><td>92</td><td>13.3</td><td>24</td><td> 8543</td><td>67</td></tr>\n",
              "\t<tr><td>Willamette University                </td><td>Yes</td><td> 1658</td><td>1327</td><td> 395</td><td>49</td><td>80</td><td>1595</td><td> 159</td><td>14800</td><td>4620</td><td>400</td><td> 790</td><td>91</td><td>94</td><td>13.3</td><td>37</td><td>10779</td><td>68</td></tr>\n",
              "\t<tr><td>William Jewell College               </td><td>Yes</td><td>  663</td><td> 547</td><td> 315</td><td>32</td><td>67</td><td>1279</td><td>  75</td><td>10060</td><td>2970</td><td>500</td><td>2600</td><td>74</td><td>80</td><td>11.2</td><td>19</td><td> 7885</td><td>59</td></tr>\n",
              "\t<tr><td>William Woods University             </td><td>Yes</td><td>  469</td><td> 435</td><td> 227</td><td>17</td><td>39</td><td> 851</td><td> 120</td><td>10535</td><td>4365</td><td>550</td><td>3700</td><td>39</td><td>66</td><td>12.9</td><td>16</td><td> 7438</td><td>52</td></tr>\n",
              "\t<tr><td>Williams College                     </td><td>Yes</td><td> 4186</td><td>1245</td><td> 526</td><td>81</td><td>96</td><td>1988</td><td>  29</td><td>19629</td><td>5790</td><td>500</td><td>1200</td><td>94</td><td>99</td><td> 9.0</td><td>64</td><td>22014</td><td>99</td></tr>\n",
              "\t<tr><td>Wilson College                       </td><td>Yes</td><td>  167</td><td> 130</td><td>  46</td><td>16</td><td>50</td><td> 199</td><td> 676</td><td>11428</td><td>5084</td><td>450</td><td> 475</td><td>67</td><td>76</td><td> 8.3</td><td>43</td><td>10291</td><td>67</td></tr>\n",
              "\t<tr><td>Wingate College                      </td><td>Yes</td><td> 1239</td><td>1017</td><td> 383</td><td>10</td><td>34</td><td>1207</td><td> 157</td><td> 7820</td><td>3400</td><td>550</td><td>1550</td><td>69</td><td>81</td><td>13.9</td><td> 8</td><td> 7264</td><td>91</td></tr>\n",
              "\t<tr><td>Winona State University              </td><td>No </td><td> 3325</td><td>2047</td><td>1301</td><td>20</td><td>45</td><td>5800</td><td> 872</td><td> 4200</td><td>2700</td><td>300</td><td>1200</td><td>53</td><td>60</td><td>20.2</td><td>18</td><td> 5318</td><td>58</td></tr>\n",
              "\t<tr><td>Winthrop University                  </td><td>No </td><td> 2320</td><td>1805</td><td> 769</td><td>24</td><td>61</td><td>3395</td><td> 670</td><td> 6400</td><td>3392</td><td>580</td><td>2150</td><td>71</td><td>80</td><td>12.8</td><td>26</td><td> 6729</td><td>59</td></tr>\n",
              "\t<tr><td>Wisconsin Lutheran College           </td><td>Yes</td><td>  152</td><td> 128</td><td>  75</td><td>17</td><td>41</td><td> 282</td><td>  22</td><td> 9100</td><td>3700</td><td>500</td><td>1400</td><td>48</td><td>48</td><td> 8.5</td><td>26</td><td> 8960</td><td>50</td></tr>\n",
              "\t<tr><td>Wittenberg University                </td><td>Yes</td><td> 1979</td><td>1739</td><td> 575</td><td>42</td><td>68</td><td>1980</td><td> 144</td><td>15948</td><td>4404</td><td>400</td><td> 800</td><td>82</td><td>95</td><td>12.8</td><td>29</td><td>10414</td><td>78</td></tr>\n",
              "\t<tr><td>Wofford College                      </td><td>Yes</td><td> 1501</td><td> 935</td><td> 273</td><td>51</td><td>83</td><td>1059</td><td>  34</td><td>12680</td><td>4150</td><td>605</td><td>1440</td><td>91</td><td>92</td><td>15.3</td><td>42</td><td> 7875</td><td>75</td></tr>\n",
              "\t<tr><td>Worcester Polytechnic Institute      </td><td>Yes</td><td> 2768</td><td>2314</td><td> 682</td><td>49</td><td>86</td><td>2802</td><td>  86</td><td>15884</td><td>5370</td><td>530</td><td> 730</td><td>92</td><td>94</td><td>15.2</td><td>34</td><td>10774</td><td>82</td></tr>\n",
              "\t<tr><td>Worcester State College              </td><td>No </td><td> 2197</td><td>1515</td><td> 543</td><td> 4</td><td>26</td><td>3089</td><td>2029</td><td> 6797</td><td>3900</td><td>500</td><td>1200</td><td>60</td><td>60</td><td>21.0</td><td>14</td><td> 4469</td><td>40</td></tr>\n",
              "\t<tr><td>Xavier University                    </td><td>Yes</td><td> 1959</td><td>1805</td><td> 695</td><td>24</td><td>47</td><td>2849</td><td>1107</td><td>11520</td><td>4960</td><td>600</td><td>1250</td><td>73</td><td>75</td><td>13.3</td><td>31</td><td> 9189</td><td>83</td></tr>\n",
              "\t<tr><td>Xavier University of Louisiana       </td><td>Yes</td><td> 2097</td><td>1915</td><td> 695</td><td>34</td><td>61</td><td>2793</td><td> 166</td><td> 6900</td><td>4200</td><td>617</td><td> 781</td><td>67</td><td>75</td><td>14.4</td><td>20</td><td> 8323</td><td>49</td></tr>\n",
              "\t<tr><td>Yale University                      </td><td>Yes</td><td>10705</td><td>2453</td><td>1317</td><td>95</td><td>99</td><td>5217</td><td>  83</td><td>19840</td><td>6510</td><td>630</td><td>2115</td><td>96</td><td>96</td><td> 5.8</td><td>49</td><td>40386</td><td>99</td></tr>\n",
              "\t<tr><td>York College of Pennsylvania         </td><td>Yes</td><td> 2989</td><td>1855</td><td> 691</td><td>28</td><td>63</td><td>2988</td><td>1726</td><td> 4990</td><td>3560</td><td>500</td><td>1250</td><td>75</td><td>75</td><td>18.1</td><td>28</td><td> 4509</td><td>99</td></tr>\n",
              "</tbody>\n",
              "</table>\n"
            ],
            "text/markdown": "\nA data.frame: 777 × 19\n\n| X &lt;chr&gt; | Private &lt;chr&gt; | Apps &lt;int&gt; | Accept &lt;int&gt; | Enroll &lt;int&gt; | Top10perc &lt;int&gt; | Top25perc &lt;int&gt; | F.Undergrad &lt;int&gt; | P.Undergrad &lt;int&gt; | Outstate &lt;int&gt; | Room.Board &lt;int&gt; | Books &lt;int&gt; | Personal &lt;int&gt; | PhD &lt;int&gt; | Terminal &lt;int&gt; | S.F.Ratio &lt;dbl&gt; | perc.alumni &lt;int&gt; | Expend &lt;int&gt; | Grad.Rate &lt;int&gt; |\n|---|---|---|---|---|---|---|---|---|---|---|---|---|---|---|---|---|---|---|\n| Abilene Christian University            | Yes |  1660 |  1232 |  721 | 23 | 52 |  2885 |  537 |  7440 | 3300 | 450 | 2200 | 70 |  78 | 18.1 | 12 |  7041 |  60 |\n| Adelphi University                      | Yes |  2186 |  1924 |  512 | 16 | 29 |  2683 | 1227 | 12280 | 6450 | 750 | 1500 | 29 |  30 | 12.2 | 16 | 10527 |  56 |\n| Adrian College                          | Yes |  1428 |  1097 |  336 | 22 | 50 |  1036 |   99 | 11250 | 3750 | 400 | 1165 | 53 |  66 | 12.9 | 30 |  8735 |  54 |\n| Agnes Scott College                     | Yes |   417 |   349 |  137 | 60 | 89 |   510 |   63 | 12960 | 5450 | 450 |  875 | 92 |  97 |  7.7 | 37 | 19016 |  59 |\n| Alaska Pacific University               | Yes |   193 |   146 |   55 | 16 | 44 |   249 |  869 |  7560 | 4120 | 800 | 1500 | 76 |  72 | 11.9 |  2 | 10922 |  15 |\n| Albertson College                       | Yes |   587 |   479 |  158 | 38 | 62 |   678 |   41 | 13500 | 3335 | 500 |  675 | 67 |  73 |  9.4 | 11 |  9727 |  55 |\n| Albertus Magnus College                 | Yes |   353 |   340 |  103 | 17 | 45 |   416 |  230 | 13290 | 5720 | 500 | 1500 | 90 |  93 | 11.5 | 26 |  8861 |  63 |\n| Albion College                          | Yes |  1899 |  1720 |  489 | 37 | 68 |  1594 |   32 | 13868 | 4826 | 450 |  850 | 89 | 100 | 13.7 | 37 | 11487 |  73 |\n| Albright College                        | Yes |  1038 |   839 |  227 | 30 | 63 |   973 |  306 | 15595 | 4400 | 300 |  500 | 79 |  84 | 11.3 | 23 | 11644 |  80 |\n| Alderson-Broaddus College               | Yes |   582 |   498 |  172 | 21 | 44 |   799 |   78 | 10468 | 3380 | 660 | 1800 | 40 |  41 | 11.5 | 15 |  8991 |  52 |\n| Alfred University                       | Yes |  1732 |  1425 |  472 | 37 | 75 |  1830 |  110 | 16548 | 5406 | 500 |  600 | 82 |  88 | 11.3 | 31 | 10932 |  73 |\n| Allegheny College                       | Yes |  2652 |  1900 |  484 | 44 | 77 |  1707 |   44 | 17080 | 4440 | 400 |  600 | 73 |  91 |  9.9 | 41 | 11711 |  76 |\n| Allentown Coll. of St. Francis de Sales | Yes |  1179 |   780 |  290 | 38 | 64 |  1130 |  638 |  9690 | 4785 | 600 | 1000 | 60 |  84 | 13.3 | 21 |  7940 |  74 |\n| Alma College                            | Yes |  1267 |  1080 |  385 | 44 | 73 |  1306 |   28 | 12572 | 4552 | 400 |  400 | 79 |  87 | 15.3 | 32 |  9305 |  68 |\n| Alverno College                         | Yes |   494 |   313 |  157 | 23 | 46 |  1317 | 1235 |  8352 | 3640 | 650 | 2449 | 36 |  69 | 11.1 | 26 |  8127 |  55 |\n| American International College          | Yes |  1420 |  1093 |  220 |  9 | 22 |  1018 |  287 |  8700 | 4780 | 450 | 1400 | 78 |  84 | 14.7 | 19 |  7355 |  69 |\n| Amherst College                         | Yes |  4302 |   992 |  418 | 83 | 96 |  1593 |    5 | 19760 | 5300 | 660 | 1598 | 93 |  98 |  8.4 | 63 | 21424 | 100 |\n| Anderson University                     | Yes |  1216 |   908 |  423 | 19 | 40 |  1819 |  281 | 10100 | 3520 | 550 | 1100 | 48 |  61 | 12.1 | 14 |  7994 |  59 |\n| Andrews University                      | Yes |  1130 |   704 |  322 | 14 | 23 |  1586 |  326 |  9996 | 3090 | 900 | 1320 | 62 |  66 | 11.5 | 18 | 10908 |  46 |\n| Angelo State University                 | No  |  3540 |  2001 | 1016 | 24 | 54 |  4190 | 1512 |  5130 | 3592 | 500 | 2000 | 60 |  62 | 23.1 |  5 |  4010 |  34 |\n| Antioch University                      | Yes |   713 |   661 |  252 | 25 | 44 |   712 |   23 | 15476 | 3336 | 400 | 1100 | 69 |  82 | 11.3 | 35 | 42926 |  48 |\n| Appalachian State University            | No  |  7313 |  4664 | 1910 | 20 | 63 |  9940 | 1035 |  6806 | 2540 |  96 | 2000 | 83 |  96 | 18.3 | 14 |  5854 |  70 |\n| Aquinas College                         | Yes |   619 |   516 |  219 | 20 | 51 |  1251 |  767 | 11208 | 4124 | 350 | 1615 | 55 |  65 | 12.7 | 25 |  6584 |  65 |\n| Arizona State University Main campus    | No  | 12809 | 10308 | 3761 | 24 | 49 | 22593 | 7585 |  7434 | 4850 | 700 | 2100 | 88 |  93 | 18.9 |  5 |  4602 |  48 |\n| Arkansas College (Lyon College)         | Yes |   708 |   334 |  166 | 46 | 74 |   530 |  182 |  8644 | 3922 | 500 |  800 | 79 |  88 | 12.6 | 24 | 14579 |  54 |\n| Arkansas Tech University                | No  |  1734 |  1729 |  951 | 12 | 52 |  3602 |  939 |  3460 | 2650 | 450 | 1000 | 57 |  60 | 19.6 |  5 |  4739 |  48 |\n| Assumption College                      | Yes |  2135 |  1700 |  491 | 23 | 59 |  1708 |  689 | 12000 | 5920 | 500 |  500 | 93 |  93 | 13.8 | 30 |  7100 |  88 |\n| Auburn University-Main Campus           | No  |  7548 |  6791 | 3070 | 25 | 57 | 16262 | 1716 |  6300 | 3933 | 600 | 1908 | 85 |  91 | 16.7 | 18 |  6642 |  69 |\n| Augsburg College                        | Yes |   662 |   513 |  257 | 12 | 30 |  2074 |  726 | 11902 | 4372 | 540 |  950 | 65 |  65 | 12.8 | 31 |  7836 |  58 |\n| Augustana College IL                    | Yes |  1879 |  1658 |  497 | 36 | 69 |  1950 |   38 | 13353 | 4173 | 540 |  821 | 78 |  83 | 12.7 | 40 |  9220 |  71 |\n| ⋮ | ⋮ | ⋮ | ⋮ | ⋮ | ⋮ | ⋮ | ⋮ | ⋮ | ⋮ | ⋮ | ⋮ | ⋮ | ⋮ | ⋮ | ⋮ | ⋮ | ⋮ | ⋮ |\n| Westfield State College               | No  |  3100 | 2150 |  825 |  3 | 20 | 3234 |  941 |  5542 | 3788 | 500 | 1300 | 75 | 79 | 15.7 | 20 |  4222 | 65 |\n| Westminster College MO                | Yes |   662 |  553 |  184 | 20 | 43 |  665 |   37 | 10720 | 4050 | 600 | 1650 | 66 | 70 | 12.5 | 20 |  7925 | 62 |\n| Westminster College                   | Yes |   996 |  866 |  377 | 29 | 58 | 1411 |   72 | 12065 | 3615 | 430 |  685 | 62 | 78 | 12.5 | 41 |  8596 | 80 |\n| Westminster College of Salt Lake City | Yes |   917 |  720 |  213 | 21 | 60 |  979 |  743 |  8820 | 4050 | 600 | 2025 | 68 | 83 | 10.5 | 34 |  7170 | 50 |\n| Westmont College                      | No  |   950 |  713 |  351 | 42 | 72 | 1276 |    9 | 14320 | 5304 | 490 | 1410 | 77 | 77 | 14.9 | 17 |  8837 | 87 |\n| Wheaton College IL                    | Yes |  1432 |  920 |  548 | 56 | 84 | 2200 |   56 | 11480 | 4200 | 530 | 1400 | 81 | 83 | 12.7 | 40 | 11916 | 85 |\n| Westminster College PA                | Yes |  1738 | 1373 |  417 | 21 | 55 | 1335 |   30 | 18460 | 5970 | 700 |  850 | 92 | 96 | 13.2 | 41 | 22704 | 71 |\n| Wheeling Jesuit College               | Yes |   903 |  755 |  213 | 15 | 49 |  971 |  305 | 10500 | 4545 | 600 |  600 | 66 | 71 | 14.1 | 27 |  7494 | 72 |\n| Whitman College                       | Yes |  1861 |  998 |  359 | 45 | 77 | 1220 |   46 | 16670 | 4900 | 750 |  800 | 80 | 83 | 10.5 | 51 | 13198 | 72 |\n| Whittier College                      | Yes |  1681 | 1069 |  344 | 35 | 63 | 1235 |   30 | 16249 | 5699 | 500 | 1998 | 84 | 92 | 13.6 | 29 | 11778 | 52 |\n| Whitworth College                     | Yes |  1121 |  926 |  372 | 43 | 70 | 1270 |  160 | 12660 | 4500 | 678 | 2424 | 80 | 80 | 16.9 | 20 |  8328 | 80 |\n| Widener University                    | Yes |  2139 | 1492 |  502 | 24 | 64 | 2186 | 2171 | 12350 | 5370 | 500 | 1350 | 88 | 86 | 12.6 | 19 |  9603 | 63 |\n| Wilkes University                     | Yes |  1631 | 1431 |  434 | 15 | 36 | 1803 |  603 | 11150 | 5130 | 550 | 1260 | 78 | 92 | 13.3 | 24 |  8543 | 67 |\n| Willamette University                 | Yes |  1658 | 1327 |  395 | 49 | 80 | 1595 |  159 | 14800 | 4620 | 400 |  790 | 91 | 94 | 13.3 | 37 | 10779 | 68 |\n| William Jewell College                | Yes |   663 |  547 |  315 | 32 | 67 | 1279 |   75 | 10060 | 2970 | 500 | 2600 | 74 | 80 | 11.2 | 19 |  7885 | 59 |\n| William Woods University              | Yes |   469 |  435 |  227 | 17 | 39 |  851 |  120 | 10535 | 4365 | 550 | 3700 | 39 | 66 | 12.9 | 16 |  7438 | 52 |\n| Williams College                      | Yes |  4186 | 1245 |  526 | 81 | 96 | 1988 |   29 | 19629 | 5790 | 500 | 1200 | 94 | 99 |  9.0 | 64 | 22014 | 99 |\n| Wilson College                        | Yes |   167 |  130 |   46 | 16 | 50 |  199 |  676 | 11428 | 5084 | 450 |  475 | 67 | 76 |  8.3 | 43 | 10291 | 67 |\n| Wingate College                       | Yes |  1239 | 1017 |  383 | 10 | 34 | 1207 |  157 |  7820 | 3400 | 550 | 1550 | 69 | 81 | 13.9 |  8 |  7264 | 91 |\n| Winona State University               | No  |  3325 | 2047 | 1301 | 20 | 45 | 5800 |  872 |  4200 | 2700 | 300 | 1200 | 53 | 60 | 20.2 | 18 |  5318 | 58 |\n| Winthrop University                   | No  |  2320 | 1805 |  769 | 24 | 61 | 3395 |  670 |  6400 | 3392 | 580 | 2150 | 71 | 80 | 12.8 | 26 |  6729 | 59 |\n| Wisconsin Lutheran College            | Yes |   152 |  128 |   75 | 17 | 41 |  282 |   22 |  9100 | 3700 | 500 | 1400 | 48 | 48 |  8.5 | 26 |  8960 | 50 |\n| Wittenberg University                 | Yes |  1979 | 1739 |  575 | 42 | 68 | 1980 |  144 | 15948 | 4404 | 400 |  800 | 82 | 95 | 12.8 | 29 | 10414 | 78 |\n| Wofford College                       | Yes |  1501 |  935 |  273 | 51 | 83 | 1059 |   34 | 12680 | 4150 | 605 | 1440 | 91 | 92 | 15.3 | 42 |  7875 | 75 |\n| Worcester Polytechnic Institute       | Yes |  2768 | 2314 |  682 | 49 | 86 | 2802 |   86 | 15884 | 5370 | 530 |  730 | 92 | 94 | 15.2 | 34 | 10774 | 82 |\n| Worcester State College               | No  |  2197 | 1515 |  543 |  4 | 26 | 3089 | 2029 |  6797 | 3900 | 500 | 1200 | 60 | 60 | 21.0 | 14 |  4469 | 40 |\n| Xavier University                     | Yes |  1959 | 1805 |  695 | 24 | 47 | 2849 | 1107 | 11520 | 4960 | 600 | 1250 | 73 | 75 | 13.3 | 31 |  9189 | 83 |\n| Xavier University of Louisiana        | Yes |  2097 | 1915 |  695 | 34 | 61 | 2793 |  166 |  6900 | 4200 | 617 |  781 | 67 | 75 | 14.4 | 20 |  8323 | 49 |\n| Yale University                       | Yes | 10705 | 2453 | 1317 | 95 | 99 | 5217 |   83 | 19840 | 6510 | 630 | 2115 | 96 | 96 |  5.8 | 49 | 40386 | 99 |\n| York College of Pennsylvania          | Yes |  2989 | 1855 |  691 | 28 | 63 | 2988 | 1726 |  4990 | 3560 | 500 | 1250 | 75 | 75 | 18.1 | 28 |  4509 | 99 |\n\n",
            "text/latex": "A data.frame: 777 × 19\n\\begin{tabular}{lllllllllllllllllll}\n X & Private & Apps & Accept & Enroll & Top10perc & Top25perc & F.Undergrad & P.Undergrad & Outstate & Room.Board & Books & Personal & PhD & Terminal & S.F.Ratio & perc.alumni & Expend & Grad.Rate\\\\\n <chr> & <chr> & <int> & <int> & <int> & <int> & <int> & <int> & <int> & <int> & <int> & <int> & <int> & <int> & <int> & <dbl> & <int> & <int> & <int>\\\\\n\\hline\n\t Abilene Christian University            & Yes &  1660 &  1232 &  721 & 23 & 52 &  2885 &  537 &  7440 & 3300 & 450 & 2200 & 70 &  78 & 18.1 & 12 &  7041 &  60\\\\\n\t Adelphi University                      & Yes &  2186 &  1924 &  512 & 16 & 29 &  2683 & 1227 & 12280 & 6450 & 750 & 1500 & 29 &  30 & 12.2 & 16 & 10527 &  56\\\\\n\t Adrian College                          & Yes &  1428 &  1097 &  336 & 22 & 50 &  1036 &   99 & 11250 & 3750 & 400 & 1165 & 53 &  66 & 12.9 & 30 &  8735 &  54\\\\\n\t Agnes Scott College                     & Yes &   417 &   349 &  137 & 60 & 89 &   510 &   63 & 12960 & 5450 & 450 &  875 & 92 &  97 &  7.7 & 37 & 19016 &  59\\\\\n\t Alaska Pacific University               & Yes &   193 &   146 &   55 & 16 & 44 &   249 &  869 &  7560 & 4120 & 800 & 1500 & 76 &  72 & 11.9 &  2 & 10922 &  15\\\\\n\t Albertson College                       & Yes &   587 &   479 &  158 & 38 & 62 &   678 &   41 & 13500 & 3335 & 500 &  675 & 67 &  73 &  9.4 & 11 &  9727 &  55\\\\\n\t Albertus Magnus College                 & Yes &   353 &   340 &  103 & 17 & 45 &   416 &  230 & 13290 & 5720 & 500 & 1500 & 90 &  93 & 11.5 & 26 &  8861 &  63\\\\\n\t Albion College                          & Yes &  1899 &  1720 &  489 & 37 & 68 &  1594 &   32 & 13868 & 4826 & 450 &  850 & 89 & 100 & 13.7 & 37 & 11487 &  73\\\\\n\t Albright College                        & Yes &  1038 &   839 &  227 & 30 & 63 &   973 &  306 & 15595 & 4400 & 300 &  500 & 79 &  84 & 11.3 & 23 & 11644 &  80\\\\\n\t Alderson-Broaddus College               & Yes &   582 &   498 &  172 & 21 & 44 &   799 &   78 & 10468 & 3380 & 660 & 1800 & 40 &  41 & 11.5 & 15 &  8991 &  52\\\\\n\t Alfred University                       & Yes &  1732 &  1425 &  472 & 37 & 75 &  1830 &  110 & 16548 & 5406 & 500 &  600 & 82 &  88 & 11.3 & 31 & 10932 &  73\\\\\n\t Allegheny College                       & Yes &  2652 &  1900 &  484 & 44 & 77 &  1707 &   44 & 17080 & 4440 & 400 &  600 & 73 &  91 &  9.9 & 41 & 11711 &  76\\\\\n\t Allentown Coll. of St. Francis de Sales & Yes &  1179 &   780 &  290 & 38 & 64 &  1130 &  638 &  9690 & 4785 & 600 & 1000 & 60 &  84 & 13.3 & 21 &  7940 &  74\\\\\n\t Alma College                            & Yes &  1267 &  1080 &  385 & 44 & 73 &  1306 &   28 & 12572 & 4552 & 400 &  400 & 79 &  87 & 15.3 & 32 &  9305 &  68\\\\\n\t Alverno College                         & Yes &   494 &   313 &  157 & 23 & 46 &  1317 & 1235 &  8352 & 3640 & 650 & 2449 & 36 &  69 & 11.1 & 26 &  8127 &  55\\\\\n\t American International College          & Yes &  1420 &  1093 &  220 &  9 & 22 &  1018 &  287 &  8700 & 4780 & 450 & 1400 & 78 &  84 & 14.7 & 19 &  7355 &  69\\\\\n\t Amherst College                         & Yes &  4302 &   992 &  418 & 83 & 96 &  1593 &    5 & 19760 & 5300 & 660 & 1598 & 93 &  98 &  8.4 & 63 & 21424 & 100\\\\\n\t Anderson University                     & Yes &  1216 &   908 &  423 & 19 & 40 &  1819 &  281 & 10100 & 3520 & 550 & 1100 & 48 &  61 & 12.1 & 14 &  7994 &  59\\\\\n\t Andrews University                      & Yes &  1130 &   704 &  322 & 14 & 23 &  1586 &  326 &  9996 & 3090 & 900 & 1320 & 62 &  66 & 11.5 & 18 & 10908 &  46\\\\\n\t Angelo State University                 & No  &  3540 &  2001 & 1016 & 24 & 54 &  4190 & 1512 &  5130 & 3592 & 500 & 2000 & 60 &  62 & 23.1 &  5 &  4010 &  34\\\\\n\t Antioch University                      & Yes &   713 &   661 &  252 & 25 & 44 &   712 &   23 & 15476 & 3336 & 400 & 1100 & 69 &  82 & 11.3 & 35 & 42926 &  48\\\\\n\t Appalachian State University            & No  &  7313 &  4664 & 1910 & 20 & 63 &  9940 & 1035 &  6806 & 2540 &  96 & 2000 & 83 &  96 & 18.3 & 14 &  5854 &  70\\\\\n\t Aquinas College                         & Yes &   619 &   516 &  219 & 20 & 51 &  1251 &  767 & 11208 & 4124 & 350 & 1615 & 55 &  65 & 12.7 & 25 &  6584 &  65\\\\\n\t Arizona State University Main campus    & No  & 12809 & 10308 & 3761 & 24 & 49 & 22593 & 7585 &  7434 & 4850 & 700 & 2100 & 88 &  93 & 18.9 &  5 &  4602 &  48\\\\\n\t Arkansas College (Lyon College)         & Yes &   708 &   334 &  166 & 46 & 74 &   530 &  182 &  8644 & 3922 & 500 &  800 & 79 &  88 & 12.6 & 24 & 14579 &  54\\\\\n\t Arkansas Tech University                & No  &  1734 &  1729 &  951 & 12 & 52 &  3602 &  939 &  3460 & 2650 & 450 & 1000 & 57 &  60 & 19.6 &  5 &  4739 &  48\\\\\n\t Assumption College                      & Yes &  2135 &  1700 &  491 & 23 & 59 &  1708 &  689 & 12000 & 5920 & 500 &  500 & 93 &  93 & 13.8 & 30 &  7100 &  88\\\\\n\t Auburn University-Main Campus           & No  &  7548 &  6791 & 3070 & 25 & 57 & 16262 & 1716 &  6300 & 3933 & 600 & 1908 & 85 &  91 & 16.7 & 18 &  6642 &  69\\\\\n\t Augsburg College                        & Yes &   662 &   513 &  257 & 12 & 30 &  2074 &  726 & 11902 & 4372 & 540 &  950 & 65 &  65 & 12.8 & 31 &  7836 &  58\\\\\n\t Augustana College IL                    & Yes &  1879 &  1658 &  497 & 36 & 69 &  1950 &   38 & 13353 & 4173 & 540 &  821 & 78 &  83 & 12.7 & 40 &  9220 &  71\\\\\n\t ⋮ & ⋮ & ⋮ & ⋮ & ⋮ & ⋮ & ⋮ & ⋮ & ⋮ & ⋮ & ⋮ & ⋮ & ⋮ & ⋮ & ⋮ & ⋮ & ⋮ & ⋮ & ⋮\\\\\n\t Westfield State College               & No  &  3100 & 2150 &  825 &  3 & 20 & 3234 &  941 &  5542 & 3788 & 500 & 1300 & 75 & 79 & 15.7 & 20 &  4222 & 65\\\\\n\t Westminster College MO                & Yes &   662 &  553 &  184 & 20 & 43 &  665 &   37 & 10720 & 4050 & 600 & 1650 & 66 & 70 & 12.5 & 20 &  7925 & 62\\\\\n\t Westminster College                   & Yes &   996 &  866 &  377 & 29 & 58 & 1411 &   72 & 12065 & 3615 & 430 &  685 & 62 & 78 & 12.5 & 41 &  8596 & 80\\\\\n\t Westminster College of Salt Lake City & Yes &   917 &  720 &  213 & 21 & 60 &  979 &  743 &  8820 & 4050 & 600 & 2025 & 68 & 83 & 10.5 & 34 &  7170 & 50\\\\\n\t Westmont College                      & No  &   950 &  713 &  351 & 42 & 72 & 1276 &    9 & 14320 & 5304 & 490 & 1410 & 77 & 77 & 14.9 & 17 &  8837 & 87\\\\\n\t Wheaton College IL                    & Yes &  1432 &  920 &  548 & 56 & 84 & 2200 &   56 & 11480 & 4200 & 530 & 1400 & 81 & 83 & 12.7 & 40 & 11916 & 85\\\\\n\t Westminster College PA                & Yes &  1738 & 1373 &  417 & 21 & 55 & 1335 &   30 & 18460 & 5970 & 700 &  850 & 92 & 96 & 13.2 & 41 & 22704 & 71\\\\\n\t Wheeling Jesuit College               & Yes &   903 &  755 &  213 & 15 & 49 &  971 &  305 & 10500 & 4545 & 600 &  600 & 66 & 71 & 14.1 & 27 &  7494 & 72\\\\\n\t Whitman College                       & Yes &  1861 &  998 &  359 & 45 & 77 & 1220 &   46 & 16670 & 4900 & 750 &  800 & 80 & 83 & 10.5 & 51 & 13198 & 72\\\\\n\t Whittier College                      & Yes &  1681 & 1069 &  344 & 35 & 63 & 1235 &   30 & 16249 & 5699 & 500 & 1998 & 84 & 92 & 13.6 & 29 & 11778 & 52\\\\\n\t Whitworth College                     & Yes &  1121 &  926 &  372 & 43 & 70 & 1270 &  160 & 12660 & 4500 & 678 & 2424 & 80 & 80 & 16.9 & 20 &  8328 & 80\\\\\n\t Widener University                    & Yes &  2139 & 1492 &  502 & 24 & 64 & 2186 & 2171 & 12350 & 5370 & 500 & 1350 & 88 & 86 & 12.6 & 19 &  9603 & 63\\\\\n\t Wilkes University                     & Yes &  1631 & 1431 &  434 & 15 & 36 & 1803 &  603 & 11150 & 5130 & 550 & 1260 & 78 & 92 & 13.3 & 24 &  8543 & 67\\\\\n\t Willamette University                 & Yes &  1658 & 1327 &  395 & 49 & 80 & 1595 &  159 & 14800 & 4620 & 400 &  790 & 91 & 94 & 13.3 & 37 & 10779 & 68\\\\\n\t William Jewell College                & Yes &   663 &  547 &  315 & 32 & 67 & 1279 &   75 & 10060 & 2970 & 500 & 2600 & 74 & 80 & 11.2 & 19 &  7885 & 59\\\\\n\t William Woods University              & Yes &   469 &  435 &  227 & 17 & 39 &  851 &  120 & 10535 & 4365 & 550 & 3700 & 39 & 66 & 12.9 & 16 &  7438 & 52\\\\\n\t Williams College                      & Yes &  4186 & 1245 &  526 & 81 & 96 & 1988 &   29 & 19629 & 5790 & 500 & 1200 & 94 & 99 &  9.0 & 64 & 22014 & 99\\\\\n\t Wilson College                        & Yes &   167 &  130 &   46 & 16 & 50 &  199 &  676 & 11428 & 5084 & 450 &  475 & 67 & 76 &  8.3 & 43 & 10291 & 67\\\\\n\t Wingate College                       & Yes &  1239 & 1017 &  383 & 10 & 34 & 1207 &  157 &  7820 & 3400 & 550 & 1550 & 69 & 81 & 13.9 &  8 &  7264 & 91\\\\\n\t Winona State University               & No  &  3325 & 2047 & 1301 & 20 & 45 & 5800 &  872 &  4200 & 2700 & 300 & 1200 & 53 & 60 & 20.2 & 18 &  5318 & 58\\\\\n\t Winthrop University                   & No  &  2320 & 1805 &  769 & 24 & 61 & 3395 &  670 &  6400 & 3392 & 580 & 2150 & 71 & 80 & 12.8 & 26 &  6729 & 59\\\\\n\t Wisconsin Lutheran College            & Yes &   152 &  128 &   75 & 17 & 41 &  282 &   22 &  9100 & 3700 & 500 & 1400 & 48 & 48 &  8.5 & 26 &  8960 & 50\\\\\n\t Wittenberg University                 & Yes &  1979 & 1739 &  575 & 42 & 68 & 1980 &  144 & 15948 & 4404 & 400 &  800 & 82 & 95 & 12.8 & 29 & 10414 & 78\\\\\n\t Wofford College                       & Yes &  1501 &  935 &  273 & 51 & 83 & 1059 &   34 & 12680 & 4150 & 605 & 1440 & 91 & 92 & 15.3 & 42 &  7875 & 75\\\\\n\t Worcester Polytechnic Institute       & Yes &  2768 & 2314 &  682 & 49 & 86 & 2802 &   86 & 15884 & 5370 & 530 &  730 & 92 & 94 & 15.2 & 34 & 10774 & 82\\\\\n\t Worcester State College               & No  &  2197 & 1515 &  543 &  4 & 26 & 3089 & 2029 &  6797 & 3900 & 500 & 1200 & 60 & 60 & 21.0 & 14 &  4469 & 40\\\\\n\t Xavier University                     & Yes &  1959 & 1805 &  695 & 24 & 47 & 2849 & 1107 & 11520 & 4960 & 600 & 1250 & 73 & 75 & 13.3 & 31 &  9189 & 83\\\\\n\t Xavier University of Louisiana        & Yes &  2097 & 1915 &  695 & 34 & 61 & 2793 &  166 &  6900 & 4200 & 617 &  781 & 67 & 75 & 14.4 & 20 &  8323 & 49\\\\\n\t Yale University                       & Yes & 10705 & 2453 & 1317 & 95 & 99 & 5217 &   83 & 19840 & 6510 & 630 & 2115 & 96 & 96 &  5.8 & 49 & 40386 & 99\\\\\n\t York College of Pennsylvania          & Yes &  2989 & 1855 &  691 & 28 & 63 & 2988 & 1726 &  4990 & 3560 & 500 & 1250 & 75 & 75 & 18.1 & 28 &  4509 & 99\\\\\n\\end{tabular}\n",
            "text/plain": [
              "    X                                       Private Apps  Accept Enroll\n",
              "1   Abilene Christian University            Yes      1660  1232   721  \n",
              "2   Adelphi University                      Yes      2186  1924   512  \n",
              "3   Adrian College                          Yes      1428  1097   336  \n",
              "4   Agnes Scott College                     Yes       417   349   137  \n",
              "5   Alaska Pacific University               Yes       193   146    55  \n",
              "6   Albertson College                       Yes       587   479   158  \n",
              "7   Albertus Magnus College                 Yes       353   340   103  \n",
              "8   Albion College                          Yes      1899  1720   489  \n",
              "9   Albright College                        Yes      1038   839   227  \n",
              "10  Alderson-Broaddus College               Yes       582   498   172  \n",
              "11  Alfred University                       Yes      1732  1425   472  \n",
              "12  Allegheny College                       Yes      2652  1900   484  \n",
              "13  Allentown Coll. of St. Francis de Sales Yes      1179   780   290  \n",
              "14  Alma College                            Yes      1267  1080   385  \n",
              "15  Alverno College                         Yes       494   313   157  \n",
              "16  American International College          Yes      1420  1093   220  \n",
              "17  Amherst College                         Yes      4302   992   418  \n",
              "18  Anderson University                     Yes      1216   908   423  \n",
              "19  Andrews University                      Yes      1130   704   322  \n",
              "20  Angelo State University                 No       3540  2001  1016  \n",
              "21  Antioch University                      Yes       713   661   252  \n",
              "22  Appalachian State University            No       7313  4664  1910  \n",
              "23  Aquinas College                         Yes       619   516   219  \n",
              "24  Arizona State University Main campus    No      12809 10308  3761  \n",
              "25  Arkansas College (Lyon College)         Yes       708   334   166  \n",
              "26  Arkansas Tech University                No       1734  1729   951  \n",
              "27  Assumption College                      Yes      2135  1700   491  \n",
              "28  Auburn University-Main Campus           No       7548  6791  3070  \n",
              "29  Augsburg College                        Yes       662   513   257  \n",
              "30  Augustana College IL                    Yes      1879  1658   497  \n",
              "⋮   ⋮                                       ⋮       ⋮     ⋮      ⋮     \n",
              "748 Westfield State College                 No       3100 2150    825  \n",
              "749 Westminster College MO                  Yes       662  553    184  \n",
              "750 Westminster College                     Yes       996  866    377  \n",
              "751 Westminster College of Salt Lake City   Yes       917  720    213  \n",
              "752 Westmont College                        No        950  713    351  \n",
              "753 Wheaton College IL                      Yes      1432  920    548  \n",
              "754 Westminster College PA                  Yes      1738 1373    417  \n",
              "755 Wheeling Jesuit College                 Yes       903  755    213  \n",
              "756 Whitman College                         Yes      1861  998    359  \n",
              "757 Whittier College                        Yes      1681 1069    344  \n",
              "758 Whitworth College                       Yes      1121  926    372  \n",
              "759 Widener University                      Yes      2139 1492    502  \n",
              "760 Wilkes University                       Yes      1631 1431    434  \n",
              "761 Willamette University                   Yes      1658 1327    395  \n",
              "762 William Jewell College                  Yes       663  547    315  \n",
              "763 William Woods University                Yes       469  435    227  \n",
              "764 Williams College                        Yes      4186 1245    526  \n",
              "765 Wilson College                          Yes       167  130     46  \n",
              "766 Wingate College                         Yes      1239 1017    383  \n",
              "767 Winona State University                 No       3325 2047   1301  \n",
              "768 Winthrop University                     No       2320 1805    769  \n",
              "769 Wisconsin Lutheran College              Yes       152  128     75  \n",
              "770 Wittenberg University                   Yes      1979 1739    575  \n",
              "771 Wofford College                         Yes      1501  935    273  \n",
              "772 Worcester Polytechnic Institute         Yes      2768 2314    682  \n",
              "773 Worcester State College                 No       2197 1515    543  \n",
              "774 Xavier University                       Yes      1959 1805    695  \n",
              "775 Xavier University of Louisiana          Yes      2097 1915    695  \n",
              "776 Yale University                         Yes     10705 2453   1317  \n",
              "777 York College of Pennsylvania            Yes      2989 1855    691  \n",
              "    Top10perc Top25perc F.Undergrad P.Undergrad Outstate Room.Board Books\n",
              "1   23        52         2885        537         7440    3300       450  \n",
              "2   16        29         2683       1227        12280    6450       750  \n",
              "3   22        50         1036         99        11250    3750       400  \n",
              "4   60        89          510         63        12960    5450       450  \n",
              "5   16        44          249        869         7560    4120       800  \n",
              "6   38        62          678         41        13500    3335       500  \n",
              "7   17        45          416        230        13290    5720       500  \n",
              "8   37        68         1594         32        13868    4826       450  \n",
              "9   30        63          973        306        15595    4400       300  \n",
              "10  21        44          799         78        10468    3380       660  \n",
              "11  37        75         1830        110        16548    5406       500  \n",
              "12  44        77         1707         44        17080    4440       400  \n",
              "13  38        64         1130        638         9690    4785       600  \n",
              "14  44        73         1306         28        12572    4552       400  \n",
              "15  23        46         1317       1235         8352    3640       650  \n",
              "16   9        22         1018        287         8700    4780       450  \n",
              "17  83        96         1593          5        19760    5300       660  \n",
              "18  19        40         1819        281        10100    3520       550  \n",
              "19  14        23         1586        326         9996    3090       900  \n",
              "20  24        54         4190       1512         5130    3592       500  \n",
              "21  25        44          712         23        15476    3336       400  \n",
              "22  20        63         9940       1035         6806    2540        96  \n",
              "23  20        51         1251        767        11208    4124       350  \n",
              "24  24        49        22593       7585         7434    4850       700  \n",
              "25  46        74          530        182         8644    3922       500  \n",
              "26  12        52         3602        939         3460    2650       450  \n",
              "27  23        59         1708        689        12000    5920       500  \n",
              "28  25        57        16262       1716         6300    3933       600  \n",
              "29  12        30         2074        726        11902    4372       540  \n",
              "30  36        69         1950         38        13353    4173       540  \n",
              "⋮   ⋮         ⋮         ⋮           ⋮           ⋮        ⋮          ⋮    \n",
              "748  3        20        3234         941         5542    3788       500  \n",
              "749 20        43         665          37        10720    4050       600  \n",
              "750 29        58        1411          72        12065    3615       430  \n",
              "751 21        60         979         743         8820    4050       600  \n",
              "752 42        72        1276           9        14320    5304       490  \n",
              "753 56        84        2200          56        11480    4200       530  \n",
              "754 21        55        1335          30        18460    5970       700  \n",
              "755 15        49         971         305        10500    4545       600  \n",
              "756 45        77        1220          46        16670    4900       750  \n",
              "757 35        63        1235          30        16249    5699       500  \n",
              "758 43        70        1270         160        12660    4500       678  \n",
              "759 24        64        2186        2171        12350    5370       500  \n",
              "760 15        36        1803         603        11150    5130       550  \n",
              "761 49        80        1595         159        14800    4620       400  \n",
              "762 32        67        1279          75        10060    2970       500  \n",
              "763 17        39         851         120        10535    4365       550  \n",
              "764 81        96        1988          29        19629    5790       500  \n",
              "765 16        50         199         676        11428    5084       450  \n",
              "766 10        34        1207         157         7820    3400       550  \n",
              "767 20        45        5800         872         4200    2700       300  \n",
              "768 24        61        3395         670         6400    3392       580  \n",
              "769 17        41         282          22         9100    3700       500  \n",
              "770 42        68        1980         144        15948    4404       400  \n",
              "771 51        83        1059          34        12680    4150       605  \n",
              "772 49        86        2802          86        15884    5370       530  \n",
              "773  4        26        3089        2029         6797    3900       500  \n",
              "774 24        47        2849        1107        11520    4960       600  \n",
              "775 34        61        2793         166         6900    4200       617  \n",
              "776 95        99        5217          83        19840    6510       630  \n",
              "777 28        63        2988        1726         4990    3560       500  \n",
              "    Personal PhD Terminal S.F.Ratio perc.alumni Expend Grad.Rate\n",
              "1   2200     70   78      18.1      12           7041   60      \n",
              "2   1500     29   30      12.2      16          10527   56      \n",
              "3   1165     53   66      12.9      30           8735   54      \n",
              "4    875     92   97       7.7      37          19016   59      \n",
              "5   1500     76   72      11.9       2          10922   15      \n",
              "6    675     67   73       9.4      11           9727   55      \n",
              "7   1500     90   93      11.5      26           8861   63      \n",
              "8    850     89  100      13.7      37          11487   73      \n",
              "9    500     79   84      11.3      23          11644   80      \n",
              "10  1800     40   41      11.5      15           8991   52      \n",
              "11   600     82   88      11.3      31          10932   73      \n",
              "12   600     73   91       9.9      41          11711   76      \n",
              "13  1000     60   84      13.3      21           7940   74      \n",
              "14   400     79   87      15.3      32           9305   68      \n",
              "15  2449     36   69      11.1      26           8127   55      \n",
              "16  1400     78   84      14.7      19           7355   69      \n",
              "17  1598     93   98       8.4      63          21424  100      \n",
              "18  1100     48   61      12.1      14           7994   59      \n",
              "19  1320     62   66      11.5      18          10908   46      \n",
              "20  2000     60   62      23.1       5           4010   34      \n",
              "21  1100     69   82      11.3      35          42926   48      \n",
              "22  2000     83   96      18.3      14           5854   70      \n",
              "23  1615     55   65      12.7      25           6584   65      \n",
              "24  2100     88   93      18.9       5           4602   48      \n",
              "25   800     79   88      12.6      24          14579   54      \n",
              "26  1000     57   60      19.6       5           4739   48      \n",
              "27   500     93   93      13.8      30           7100   88      \n",
              "28  1908     85   91      16.7      18           6642   69      \n",
              "29   950     65   65      12.8      31           7836   58      \n",
              "30   821     78   83      12.7      40           9220   71      \n",
              "⋮   ⋮        ⋮   ⋮        ⋮         ⋮           ⋮      ⋮        \n",
              "748 1300     75  79       15.7      20           4222  65       \n",
              "749 1650     66  70       12.5      20           7925  62       \n",
              "750  685     62  78       12.5      41           8596  80       \n",
              "751 2025     68  83       10.5      34           7170  50       \n",
              "752 1410     77  77       14.9      17           8837  87       \n",
              "753 1400     81  83       12.7      40          11916  85       \n",
              "754  850     92  96       13.2      41          22704  71       \n",
              "755  600     66  71       14.1      27           7494  72       \n",
              "756  800     80  83       10.5      51          13198  72       \n",
              "757 1998     84  92       13.6      29          11778  52       \n",
              "758 2424     80  80       16.9      20           8328  80       \n",
              "759 1350     88  86       12.6      19           9603  63       \n",
              "760 1260     78  92       13.3      24           8543  67       \n",
              "761  790     91  94       13.3      37          10779  68       \n",
              "762 2600     74  80       11.2      19           7885  59       \n",
              "763 3700     39  66       12.9      16           7438  52       \n",
              "764 1200     94  99        9.0      64          22014  99       \n",
              "765  475     67  76        8.3      43          10291  67       \n",
              "766 1550     69  81       13.9       8           7264  91       \n",
              "767 1200     53  60       20.2      18           5318  58       \n",
              "768 2150     71  80       12.8      26           6729  59       \n",
              "769 1400     48  48        8.5      26           8960  50       \n",
              "770  800     82  95       12.8      29          10414  78       \n",
              "771 1440     91  92       15.3      42           7875  75       \n",
              "772  730     92  94       15.2      34          10774  82       \n",
              "773 1200     60  60       21.0      14           4469  40       \n",
              "774 1250     73  75       13.3      31           9189  83       \n",
              "775  781     67  75       14.4      20           8323  49       \n",
              "776 2115     96  96        5.8      49          40386  99       \n",
              "777 1250     75  75       18.1      28           4509  99       "
            ]
          },
          "metadata": {}
        }
      ]
    },
    {
      "cell_type": "code",
      "source": [
        "summary(collegeData)"
      ],
      "metadata": {
        "colab": {
          "base_uri": "https://localhost:8080/",
          "height": 612
        },
        "id": "KbQShKvACdIY",
        "outputId": "f51c577a-2ac3-474b-c7c9-787b62f540bd"
      },
      "execution_count": null,
      "outputs": [
        {
          "output_type": "display_data",
          "data": {
            "text/plain": [
              "      X               Private               Apps           Accept     \n",
              " Length:777         Length:777         Min.   :   81   Min.   :   72  \n",
              " Class :character   Class :character   1st Qu.:  776   1st Qu.:  604  \n",
              " Mode  :character   Mode  :character   Median : 1558   Median : 1110  \n",
              "                                       Mean   : 3002   Mean   : 2019  \n",
              "                                       3rd Qu.: 3624   3rd Qu.: 2424  \n",
              "                                       Max.   :48094   Max.   :26330  \n",
              "     Enroll       Top10perc       Top25perc      F.Undergrad   \n",
              " Min.   :  35   Min.   : 1.00   Min.   :  9.0   Min.   :  139  \n",
              " 1st Qu.: 242   1st Qu.:15.00   1st Qu.: 41.0   1st Qu.:  992  \n",
              " Median : 434   Median :23.00   Median : 54.0   Median : 1707  \n",
              " Mean   : 780   Mean   :27.56   Mean   : 55.8   Mean   : 3700  \n",
              " 3rd Qu.: 902   3rd Qu.:35.00   3rd Qu.: 69.0   3rd Qu.: 4005  \n",
              " Max.   :6392   Max.   :96.00   Max.   :100.0   Max.   :31643  \n",
              "  P.Undergrad         Outstate       Room.Board       Books       \n",
              " Min.   :    1.0   Min.   : 2340   Min.   :1780   Min.   :  96.0  \n",
              " 1st Qu.:   95.0   1st Qu.: 7320   1st Qu.:3597   1st Qu.: 470.0  \n",
              " Median :  353.0   Median : 9990   Median :4200   Median : 500.0  \n",
              " Mean   :  855.3   Mean   :10441   Mean   :4358   Mean   : 549.4  \n",
              " 3rd Qu.:  967.0   3rd Qu.:12925   3rd Qu.:5050   3rd Qu.: 600.0  \n",
              " Max.   :21836.0   Max.   :21700   Max.   :8124   Max.   :2340.0  \n",
              "    Personal         PhD            Terminal       S.F.Ratio    \n",
              " Min.   : 250   Min.   :  8.00   Min.   : 24.0   Min.   : 2.50  \n",
              " 1st Qu.: 850   1st Qu.: 62.00   1st Qu.: 71.0   1st Qu.:11.50  \n",
              " Median :1200   Median : 75.00   Median : 82.0   Median :13.60  \n",
              " Mean   :1341   Mean   : 72.66   Mean   : 79.7   Mean   :14.09  \n",
              " 3rd Qu.:1700   3rd Qu.: 85.00   3rd Qu.: 92.0   3rd Qu.:16.50  \n",
              " Max.   :6800   Max.   :103.00   Max.   :100.0   Max.   :39.80  \n",
              "  perc.alumni        Expend        Grad.Rate     \n",
              " Min.   : 0.00   Min.   : 3186   Min.   : 10.00  \n",
              " 1st Qu.:13.00   1st Qu.: 6751   1st Qu.: 53.00  \n",
              " Median :21.00   Median : 8377   Median : 65.00  \n",
              " Mean   :22.74   Mean   : 9660   Mean   : 65.46  \n",
              " 3rd Qu.:31.00   3rd Qu.:10830   3rd Qu.: 78.00  \n",
              " Max.   :64.00   Max.   :56233   Max.   :118.00  "
            ]
          },
          "metadata": {}
        }
      ]
    },
    {
      "cell_type": "code",
      "source": [
        "collegeData$Apps"
      ],
      "metadata": {
        "colab": {
          "base_uri": "https://localhost:8080/",
          "height": 255
        },
        "id": "U5PVB1e_Ci9_",
        "outputId": "93264f32-5710-4c03-efe3-07c02403080f"
      },
      "execution_count": null,
      "outputs": [
        {
          "output_type": "display_data",
          "data": {
            "text/html": [
              "<style>\n",
              ".list-inline {list-style: none; margin:0; padding: 0}\n",
              ".list-inline>li {display: inline-block}\n",
              ".list-inline>li:not(:last-child)::after {content: \"\\00b7\"; padding: 0 .5ex}\n",
              "</style>\n",
              "<ol class=list-inline><li>1660</li><li>2186</li><li>1428</li><li>417</li><li>193</li><li>587</li><li>353</li><li>1899</li><li>1038</li><li>582</li><li>1732</li><li>2652</li><li>1179</li><li>1267</li><li>494</li><li>1420</li><li>4302</li><li>1216</li><li>1130</li><li>3540</li><li>713</li><li>7313</li><li>619</li><li>12809</li><li>708</li><li>1734</li><li>2135</li><li>7548</li><li>662</li><li>1879</li><li>761</li><li>948</li><li>627</li><li>602</li><li>1690</li><li>261</li><li>1910</li><li>2496</li><li>990</li><li>6075</li><li>1163</li><li>807</li><li>632</li><li>1220</li><li>1320</li><li>1208</li><li>632</li><li>519</li><li>3466</li><li>1858</li><li>878</li><li>202</li><li>502</li><li>1646</li><li>805</li><li>500</li><li>6773</li><li>377</li><li>692</li><li>20192</li><li>3356</li><li>9251</li><li>443</li><li>3767</li><li>4186</li><li>367</li><li>1436</li><li>392</li><li>838</li><li>7365</li><li>12586</li><li>1465</li><li>6548</li><li>860</li><li>2362</li><li>599</li><li>1011</li><li>563</li><li>7811</li><li>4540</li><li>1784</li><li>2087</li><li>848</li><li>2853</li><li>1747</li><li>100</li><li>2694</li><li>8728</li><li>1160</li><li>1096</li><li>1616</li><li>3877</li><li>1257</li><li>1083</li><li>1754</li><li>3847</li><li>776</li><li>1307</li><li>369</li><li>495</li><li>601</li><li>1283</li><li>4158</li><li>4681</li><li>2785</li><li>174</li><li>1013</li><li>959</li><li>212</li><li>342</li><li>81</li><li>880</li><li>883</li><li>1196</li><li>1860</li><li>2887</li><li>460</li><li>2174</li><li>8065</li><li>689</li><li>1006</li><li>604</li><li>2848</li><li>4856</li><li>1432</li><li>4772</li><li>798</li><li>946</li><li>344</li><li>457</li><li>938</li><li>511</li><li>444</li><li>983</li><li>546</li><li>141</li><li>672</li><li>2994</li><li>7117</li><li>2100</li><li>3207</li><li>9478</li><li>314</li><li>737</li><li>6756</li><li>281</li><li>232</li><li>688</li><li>528</li><li>3035</li><li>440</li><li>1538</li><li>2967</li><li>1576</li><li>995</li><li>866</li><li>504</li><li>585</li><li>8587</li><li>2373</li><li>571</li><li>967</li><li>2762</li><li>1994</li><li>3014</li><li>434</li><li>1998</li><li>793</li><li>360</li><li>604</li><li>1011</li><li>2799</li><li>2153</li><li>700</li><li>13789</li><li>1358</li><li>9274</li><li>3330</li><li>379</li><li>458</li><li>2172</li><li>5597</li><li>486</li><li>516</li><li>1422</li><li>2417</li><li>1457</li><li>245</li><li>3624</li><li>3151</li><li>765</li><li>8506</li><li>1256</li><li>659</li><li>560</li><li>1801</li><li>4784</li><li>1455</li><li>1339</li><li>1415</li><li>⋯</li><li>257</li><li>4414</li><li>1769</li><li>232</li><li>14474</li><li>529</li><li>4095</li><li>497</li><li>4345</li><li>592</li><li>1500</li><li>1154</li><li>845</li><li>759</li><li>5042</li><li>1262</li><li>3058</li><li>247</li><li>222</li><li>2425</li><li>7033</li><li>626</li><li>2267</li><li>484</li><li>3495</li><li>4800</li><li>1797</li><li>3235</li><li>19873</li><li>15698</li><li>6986</li><li>682</li><li>6348</li><li>6855</li><li>9735</li><li>681</li><li>6361</li><li>14446</li><li>2974</li><li>927</li><li>576</li><li>2096</li><li>12445</li><li>11220</li><li>5081</li><li>3580</li><li>14939</li><li>8384</li><li>1487</li><li>8579</li><li>1597</li><li>4777</li><li>1208</li><li>441</li><li>461</li><li>4269</li><li>14292</li><li>14438</li><li>3347</li><li>7122</li><li>19152</li><li>4192</li><li>1458</li><li>11054</li><li>3844</li><li>6574</li><li>1877</li><li>1618</li><li>452</li><li>1351</li><li>6277</li><li>1209</li><li>9750</li><li>1757</li><li>14596</li><li>5803</li><li>5191</li><li>6071</li><li>2777</li><li>1800</li><li>4418</li><li>5530</li><li>4144</li><li>7700</li><li>4743</li><li>8631</li><li>12394</li><li>8586</li><li>1758</li><li>4044</li><li>9643</li><li>5892</li><li>8766</li><li>3934</li><li>2306</li><li>285</li><li>4471</li><li>848</li><li>7693</li><li>7589</li><li>12229</li><li>1401</li><li>2379</li><li>2850</li><li>2057</li><li>374</li><li>7473</li><li>3281</li><li>14752</li><li>4217</li><li>974</li><li>2459</li><li>1445</li><li>1712</li><li>5095</li><li>7663</li><li>15849</li><li>12749</li><li>1558</li><li>2593</li><li>910</li><li>4400</li><li>2409</li><li>14901</li><li>5244</li><li>2029</li><li>663</li><li>1399</li><li>325</li><li>368</li><li>2075</li><li>7791</li><li>3550</li><li>7759</li><li>4963</li><li>2996</li><li>15712</li><li>1847</li><li>1470</li><li>647</li><li>1465</li><li>800</li><li>1416</li><li>5661</li><li>1092</li><li>440</li><li>1231</li><li>1305</li><li>3315</li><li>1209</li><li>6540</li><li>7654</li><li>1373</li><li>1190</li><li>280</li><li>665</li><li>2895</li><li>318</li><li>1480</li><li>980</li><li>4772</li><li>6502</li><li>1164</li><li>1566</li><li>3224</li><li>1205</li><li>9167</li><li>1650</li><li>2702</li><li>5548</li><li>3100</li><li>662</li><li>996</li><li>917</li><li>950</li><li>1432</li><li>1738</li><li>903</li><li>1861</li><li>1681</li><li>1121</li><li>2139</li><li>1631</li><li>1658</li><li>663</li><li>469</li><li>4186</li><li>167</li><li>1239</li><li>3325</li><li>2320</li><li>152</li><li>1979</li><li>1501</li><li>2768</li><li>2197</li><li>1959</li><li>2097</li><li>10705</li><li>2989</li></ol>\n"
            ],
            "text/markdown": "1. 1660\n2. 2186\n3. 1428\n4. 417\n5. 193\n6. 587\n7. 353\n8. 1899\n9. 1038\n10. 582\n11. 1732\n12. 2652\n13. 1179\n14. 1267\n15. 494\n16. 1420\n17. 4302\n18. 1216\n19. 1130\n20. 3540\n21. 713\n22. 7313\n23. 619\n24. 12809\n25. 708\n26. 1734\n27. 2135\n28. 7548\n29. 662\n30. 1879\n31. 761\n32. 948\n33. 627\n34. 602\n35. 1690\n36. 261\n37. 1910\n38. 2496\n39. 990\n40. 6075\n41. 1163\n42. 807\n43. 632\n44. 1220\n45. 1320\n46. 1208\n47. 632\n48. 519\n49. 3466\n50. 1858\n51. 878\n52. 202\n53. 502\n54. 1646\n55. 805\n56. 500\n57. 6773\n58. 377\n59. 692\n60. 20192\n61. 3356\n62. 9251\n63. 443\n64. 3767\n65. 4186\n66. 367\n67. 1436\n68. 392\n69. 838\n70. 7365\n71. 12586\n72. 1465\n73. 6548\n74. 860\n75. 2362\n76. 599\n77. 1011\n78. 563\n79. 7811\n80. 4540\n81. 1784\n82. 2087\n83. 848\n84. 2853\n85. 1747\n86. 100\n87. 2694\n88. 8728\n89. 1160\n90. 1096\n91. 1616\n92. 3877\n93. 1257\n94. 1083\n95. 1754\n96. 3847\n97. 776\n98. 1307\n99. 369\n100. 495\n101. 601\n102. 1283\n103. 4158\n104. 4681\n105. 2785\n106. 174\n107. 1013\n108. 959\n109. 212\n110. 342\n111. 81\n112. 880\n113. 883\n114. 1196\n115. 1860\n116. 2887\n117. 460\n118. 2174\n119. 8065\n120. 689\n121. 1006\n122. 604\n123. 2848\n124. 4856\n125. 1432\n126. 4772\n127. 798\n128. 946\n129. 344\n130. 457\n131. 938\n132. 511\n133. 444\n134. 983\n135. 546\n136. 141\n137. 672\n138. 2994\n139. 7117\n140. 2100\n141. 3207\n142. 9478\n143. 314\n144. 737\n145. 6756\n146. 281\n147. 232\n148. 688\n149. 528\n150. 3035\n151. 440\n152. 1538\n153. 2967\n154. 1576\n155. 995\n156. 866\n157. 504\n158. 585\n159. 8587\n160. 2373\n161. 571\n162. 967\n163. 2762\n164. 1994\n165. 3014\n166. 434\n167. 1998\n168. 793\n169. 360\n170. 604\n171. 1011\n172. 2799\n173. 2153\n174. 700\n175. 13789\n176. 1358\n177. 9274\n178. 3330\n179. 379\n180. 458\n181. 2172\n182. 5597\n183. 486\n184. 516\n185. 1422\n186. 2417\n187. 1457\n188. 245\n189. 3624\n190. 3151\n191. 765\n192. 8506\n193. 1256\n194. 659\n195. 560\n196. 1801\n197. 4784\n198. 1455\n199. 1339\n200. 1415\n201. ⋯\n202. 257\n203. 4414\n204. 1769\n205. 232\n206. 14474\n207. 529\n208. 4095\n209. 497\n210. 4345\n211. 592\n212. 1500\n213. 1154\n214. 845\n215. 759\n216. 5042\n217. 1262\n218. 3058\n219. 247\n220. 222\n221. 2425\n222. 7033\n223. 626\n224. 2267\n225. 484\n226. 3495\n227. 4800\n228. 1797\n229. 3235\n230. 19873\n231. 15698\n232. 6986\n233. 682\n234. 6348\n235. 6855\n236. 9735\n237. 681\n238. 6361\n239. 14446\n240. 2974\n241. 927\n242. 576\n243. 2096\n244. 12445\n245. 11220\n246. 5081\n247. 3580\n248. 14939\n249. 8384\n250. 1487\n251. 8579\n252. 1597\n253. 4777\n254. 1208\n255. 441\n256. 461\n257. 4269\n258. 14292\n259. 14438\n260. 3347\n261. 7122\n262. 19152\n263. 4192\n264. 1458\n265. 11054\n266. 3844\n267. 6574\n268. 1877\n269. 1618\n270. 452\n271. 1351\n272. 6277\n273. 1209\n274. 9750\n275. 1757\n276. 14596\n277. 5803\n278. 5191\n279. 6071\n280. 2777\n281. 1800\n282. 4418\n283. 5530\n284. 4144\n285. 7700\n286. 4743\n287. 8631\n288. 12394\n289. 8586\n290. 1758\n291. 4044\n292. 9643\n293. 5892\n294. 8766\n295. 3934\n296. 2306\n297. 285\n298. 4471\n299. 848\n300. 7693\n301. 7589\n302. 12229\n303. 1401\n304. 2379\n305. 2850\n306. 2057\n307. 374\n308. 7473\n309. 3281\n310. 14752\n311. 4217\n312. 974\n313. 2459\n314. 1445\n315. 1712\n316. 5095\n317. 7663\n318. 15849\n319. 12749\n320. 1558\n321. 2593\n322. 910\n323. 4400\n324. 2409\n325. 14901\n326. 5244\n327. 2029\n328. 663\n329. 1399\n330. 325\n331. 368\n332. 2075\n333. 7791\n334. 3550\n335. 7759\n336. 4963\n337. 2996\n338. 15712\n339. 1847\n340. 1470\n341. 647\n342. 1465\n343. 800\n344. 1416\n345. 5661\n346. 1092\n347. 440\n348. 1231\n349. 1305\n350. 3315\n351. 1209\n352. 6540\n353. 7654\n354. 1373\n355. 1190\n356. 280\n357. 665\n358. 2895\n359. 318\n360. 1480\n361. 980\n362. 4772\n363. 6502\n364. 1164\n365. 1566\n366. 3224\n367. 1205\n368. 9167\n369. 1650\n370. 2702\n371. 5548\n372. 3100\n373. 662\n374. 996\n375. 917\n376. 950\n377. 1432\n378. 1738\n379. 903\n380. 1861\n381. 1681\n382. 1121\n383. 2139\n384. 1631\n385. 1658\n386. 663\n387. 469\n388. 4186\n389. 167\n390. 1239\n391. 3325\n392. 2320\n393. 152\n394. 1979\n395. 1501\n396. 2768\n397. 2197\n398. 1959\n399. 2097\n400. 10705\n401. 2989\n\n\n",
            "text/latex": "\\begin{enumerate*}\n\\item 1660\n\\item 2186\n\\item 1428\n\\item 417\n\\item 193\n\\item 587\n\\item 353\n\\item 1899\n\\item 1038\n\\item 582\n\\item 1732\n\\item 2652\n\\item 1179\n\\item 1267\n\\item 494\n\\item 1420\n\\item 4302\n\\item 1216\n\\item 1130\n\\item 3540\n\\item 713\n\\item 7313\n\\item 619\n\\item 12809\n\\item 708\n\\item 1734\n\\item 2135\n\\item 7548\n\\item 662\n\\item 1879\n\\item 761\n\\item 948\n\\item 627\n\\item 602\n\\item 1690\n\\item 261\n\\item 1910\n\\item 2496\n\\item 990\n\\item 6075\n\\item 1163\n\\item 807\n\\item 632\n\\item 1220\n\\item 1320\n\\item 1208\n\\item 632\n\\item 519\n\\item 3466\n\\item 1858\n\\item 878\n\\item 202\n\\item 502\n\\item 1646\n\\item 805\n\\item 500\n\\item 6773\n\\item 377\n\\item 692\n\\item 20192\n\\item 3356\n\\item 9251\n\\item 443\n\\item 3767\n\\item 4186\n\\item 367\n\\item 1436\n\\item 392\n\\item 838\n\\item 7365\n\\item 12586\n\\item 1465\n\\item 6548\n\\item 860\n\\item 2362\n\\item 599\n\\item 1011\n\\item 563\n\\item 7811\n\\item 4540\n\\item 1784\n\\item 2087\n\\item 848\n\\item 2853\n\\item 1747\n\\item 100\n\\item 2694\n\\item 8728\n\\item 1160\n\\item 1096\n\\item 1616\n\\item 3877\n\\item 1257\n\\item 1083\n\\item 1754\n\\item 3847\n\\item 776\n\\item 1307\n\\item 369\n\\item 495\n\\item 601\n\\item 1283\n\\item 4158\n\\item 4681\n\\item 2785\n\\item 174\n\\item 1013\n\\item 959\n\\item 212\n\\item 342\n\\item 81\n\\item 880\n\\item 883\n\\item 1196\n\\item 1860\n\\item 2887\n\\item 460\n\\item 2174\n\\item 8065\n\\item 689\n\\item 1006\n\\item 604\n\\item 2848\n\\item 4856\n\\item 1432\n\\item 4772\n\\item 798\n\\item 946\n\\item 344\n\\item 457\n\\item 938\n\\item 511\n\\item 444\n\\item 983\n\\item 546\n\\item 141\n\\item 672\n\\item 2994\n\\item 7117\n\\item 2100\n\\item 3207\n\\item 9478\n\\item 314\n\\item 737\n\\item 6756\n\\item 281\n\\item 232\n\\item 688\n\\item 528\n\\item 3035\n\\item 440\n\\item 1538\n\\item 2967\n\\item 1576\n\\item 995\n\\item 866\n\\item 504\n\\item 585\n\\item 8587\n\\item 2373\n\\item 571\n\\item 967\n\\item 2762\n\\item 1994\n\\item 3014\n\\item 434\n\\item 1998\n\\item 793\n\\item 360\n\\item 604\n\\item 1011\n\\item 2799\n\\item 2153\n\\item 700\n\\item 13789\n\\item 1358\n\\item 9274\n\\item 3330\n\\item 379\n\\item 458\n\\item 2172\n\\item 5597\n\\item 486\n\\item 516\n\\item 1422\n\\item 2417\n\\item 1457\n\\item 245\n\\item 3624\n\\item 3151\n\\item 765\n\\item 8506\n\\item 1256\n\\item 659\n\\item 560\n\\item 1801\n\\item 4784\n\\item 1455\n\\item 1339\n\\item 1415\n\\item ⋯\n\\item 257\n\\item 4414\n\\item 1769\n\\item 232\n\\item 14474\n\\item 529\n\\item 4095\n\\item 497\n\\item 4345\n\\item 592\n\\item 1500\n\\item 1154\n\\item 845\n\\item 759\n\\item 5042\n\\item 1262\n\\item 3058\n\\item 247\n\\item 222\n\\item 2425\n\\item 7033\n\\item 626\n\\item 2267\n\\item 484\n\\item 3495\n\\item 4800\n\\item 1797\n\\item 3235\n\\item 19873\n\\item 15698\n\\item 6986\n\\item 682\n\\item 6348\n\\item 6855\n\\item 9735\n\\item 681\n\\item 6361\n\\item 14446\n\\item 2974\n\\item 927\n\\item 576\n\\item 2096\n\\item 12445\n\\item 11220\n\\item 5081\n\\item 3580\n\\item 14939\n\\item 8384\n\\item 1487\n\\item 8579\n\\item 1597\n\\item 4777\n\\item 1208\n\\item 441\n\\item 461\n\\item 4269\n\\item 14292\n\\item 14438\n\\item 3347\n\\item 7122\n\\item 19152\n\\item 4192\n\\item 1458\n\\item 11054\n\\item 3844\n\\item 6574\n\\item 1877\n\\item 1618\n\\item 452\n\\item 1351\n\\item 6277\n\\item 1209\n\\item 9750\n\\item 1757\n\\item 14596\n\\item 5803\n\\item 5191\n\\item 6071\n\\item 2777\n\\item 1800\n\\item 4418\n\\item 5530\n\\item 4144\n\\item 7700\n\\item 4743\n\\item 8631\n\\item 12394\n\\item 8586\n\\item 1758\n\\item 4044\n\\item 9643\n\\item 5892\n\\item 8766\n\\item 3934\n\\item 2306\n\\item 285\n\\item 4471\n\\item 848\n\\item 7693\n\\item 7589\n\\item 12229\n\\item 1401\n\\item 2379\n\\item 2850\n\\item 2057\n\\item 374\n\\item 7473\n\\item 3281\n\\item 14752\n\\item 4217\n\\item 974\n\\item 2459\n\\item 1445\n\\item 1712\n\\item 5095\n\\item 7663\n\\item 15849\n\\item 12749\n\\item 1558\n\\item 2593\n\\item 910\n\\item 4400\n\\item 2409\n\\item 14901\n\\item 5244\n\\item 2029\n\\item 663\n\\item 1399\n\\item 325\n\\item 368\n\\item 2075\n\\item 7791\n\\item 3550\n\\item 7759\n\\item 4963\n\\item 2996\n\\item 15712\n\\item 1847\n\\item 1470\n\\item 647\n\\item 1465\n\\item 800\n\\item 1416\n\\item 5661\n\\item 1092\n\\item 440\n\\item 1231\n\\item 1305\n\\item 3315\n\\item 1209\n\\item 6540\n\\item 7654\n\\item 1373\n\\item 1190\n\\item 280\n\\item 665\n\\item 2895\n\\item 318\n\\item 1480\n\\item 980\n\\item 4772\n\\item 6502\n\\item 1164\n\\item 1566\n\\item 3224\n\\item 1205\n\\item 9167\n\\item 1650\n\\item 2702\n\\item 5548\n\\item 3100\n\\item 662\n\\item 996\n\\item 917\n\\item 950\n\\item 1432\n\\item 1738\n\\item 903\n\\item 1861\n\\item 1681\n\\item 1121\n\\item 2139\n\\item 1631\n\\item 1658\n\\item 663\n\\item 469\n\\item 4186\n\\item 167\n\\item 1239\n\\item 3325\n\\item 2320\n\\item 152\n\\item 1979\n\\item 1501\n\\item 2768\n\\item 2197\n\\item 1959\n\\item 2097\n\\item 10705\n\\item 2989\n\\end{enumerate*}\n",
            "text/plain": [
              "  [1]  1660  2186  1428   417   193   587   353  1899  1038   582  1732  2652\n",
              " [13]  1179  1267   494  1420  4302  1216  1130  3540   713  7313   619 12809\n",
              " [25]   708  1734  2135  7548   662  1879   761   948   627   602  1690   261\n",
              " [37]  1910  2496   990  6075  1163   807   632  1220  1320  1208   632   519\n",
              " [49]  3466  1858   878   202   502  1646   805   500  6773   377   692 20192\n",
              " [61]  3356  9251   443  3767  4186   367  1436   392   838  7365 12586  1465\n",
              " [73]  6548   860  2362   599  1011   563  7811  4540  1784  2087   848  2853\n",
              " [85]  1747   100  2694  8728  1160  1096  1616  3877  1257  1083  1754  3847\n",
              " [97]   776  1307   369   495   601  1283  4158  4681  2785   174  1013   959\n",
              "[109]   212   342    81   880   883  1196  1860  2887   460  2174  8065   689\n",
              "[121]  1006   604  2848  4856  1432  4772   798   946   344   457   938   511\n",
              "[133]   444   983   546   141   672  2994  7117  2100  3207  9478   314   737\n",
              "[145]  6756   281   232   688   528  3035   440  1538  2967  1576   995   866\n",
              "[157]   504   585  8587  2373   571   967  2762  1994  3014   434  1998   793\n",
              "[169]   360   604  1011  2799  2153   700 13789  1358  9274  3330   379   458\n",
              "[181]  2172  5597   486   516  1422  2417  1457   245  3624  3151   765  8506\n",
              "[193]  1256   659   560  1801  4784  1455  1339  1415  1947  3306  1381 11651\n",
              "[205]   291  4200  3440  1801   553   804  5187   895   346  2161  2464  1110\n",
              "[217]   668   809  5653  7875   727 11115  7837  3793   348  3596   633  1886\n",
              "[229]   674   440  1151   548   555  5165   780   608   510  2039  2491  1202\n",
              "[241]  1709   380  3140  1006   817  7178  1006   467  1721  2083 13865  1377\n",
              "[253]   817   823   920   922  2688  7428   602   699  1712   949   608   450\n",
              "[265]   600   723   607   894  1756  8681  3050   268  1163  5659 16587   735\n",
              "[277]  4892  8427  7259 11223   472  2957   605  2421  8474   833   313  1005\n",
              "[289]  5880   589  3121   584  2212   461  1456   355  1040   361  2929  4010\n",
              "[301]   544   979   497  2336   831  1166  1243  1470  1386  6397   979   244\n",
              "[313]   477  2774  1154   787  1660   810  1561   900  3570  2747  1641  2013\n",
              "[325]  5996  2397  4076  3768  1891  3579  1549  1286  1756   535  2939   740\n",
              "[337]   874  1004  2432   962  3073   824  1611  4731  5152  4226   499  4350\n",
              "[349]   478   695   941  1464   549  1107  6411   233  1002   578   420  2286\n",
              "[361]  1557   857  1981  1584  1742  9239 18114  2618   331  6011   610  1444\n",
              "[373]   905  1217   594  4255   480  1576  1310   601  2707   572  3500  5220\n",
              "[385]   263  2442  1232  3708   586   882  1800   279   235   368   325  1321\n",
              "[397]  1170   657  1310   510  2519  2225  1109   513   947  1879   787 13594\n",
              "[409]   872  2220  1563  4809 10634   812  1127  2968   465  6040 11901  5891\n",
              "[421] 10706  2729   616   860 12289  1743   379  3041  4778  2324   792  2936\n",
              "[433] 11023  2190   758   776  4522  1496   910  2308  8256  1603   940   943\n",
              "[445]   944 19315  3821   701   838  1538   692   663   404  1133   809   875\n",
              "[457]  1132  2405  1082 13218  5139 21804   516  1025  3712  5702  2088  1771\n",
              "[469]   696  1966   427  4996  2302  3586   587   484  2227   935   560  3304\n",
              "[481]  1777   434  3820 48094  3366  5785  2307   897  2095  3971   213  1046\n",
              "[493]   933   920   833  2519   292  3294   888   876   150  1910  2248  1606\n",
              "[505]   700   785   489   335  4216  1680  9402  4019  1380  1109   584   855\n",
              "[517]  1183  2115  4576   936  5818   540  2961   464  1003  1016   437  4293\n",
              "[529]  2925  2807  2281   818   385  2540  4301  1093  6118  1047   321   213\n",
              "[541]  1244   283  3713   372  1489   323  1368  2753   191  2643  1340  1243\n",
              "[553]  1334   651   861   450  1557  1768  4019  3646 13528 14463 15039 12512\n",
              "[565]  7294  8000  5318  7888  4877  8598  8399  5549  3150  2119  2096   462\n",
              "[577] 10477   257  4414  1769   232 14474   529  4095   497  4345   592  1500\n",
              "[589]  1154   845   759  5042  1262  3058   247   222  2425  7033   626  2267\n",
              "[601]   484  3495  4800  1797  3235 19873 15698  6986   682  6348  6855  9735\n",
              "[613]   681  6361 14446  2974   927   576  2096 12445 11220  5081  3580 14939\n",
              "[625]  8384  1487  8579  1597  4777  1208   441   461  4269 14292 14438  3347\n",
              "[637]  7122 19152  4192  1458 11054  3844  6574  1877  1618   452  1351  6277\n",
              "[649]  1209  9750  1757 14596  5803  5191  6071  2777  1800  4418  5530  4144\n",
              "[661]  7700  4743  8631 12394  8586  1758  4044  9643  5892  8766  3934  2306\n",
              "[673]   285  4471   848  7693  7589 12229  1401  2379  2850  2057   374  7473\n",
              "[685]  3281 14752  4217   974  2459  1445  1712  5095  7663 15849 12749  1558\n",
              "[697]  2593   910  4400  2409 14901  5244  2029   663  1399   325   368  2075\n",
              "[709]  7791  3550  7759  4963  2996 15712  1847  1470   647  1465   800  1416\n",
              "[721]  5661  1092   440  1231  1305  3315  1209  6540  7654  1373  1190   280\n",
              "[733]   665  2895   318  1480   980  4772  6502  1164  1566  3224  1205  9167\n",
              "[745]  1650  2702  5548  3100   662   996   917   950  1432  1738   903  1861\n",
              "[757]  1681  1121  2139  1631  1658   663   469  4186   167  1239  3325  2320\n",
              "[769]   152  1979  1501  2768  2197  1959  2097 10705  2989"
            ]
          },
          "metadata": {}
        }
      ]
    },
    {
      "cell_type": "code",
      "source": [
        "hist(collegeData$Apps)"
      ],
      "metadata": {
        "colab": {
          "base_uri": "https://localhost:8080/",
          "height": 437
        },
        "id": "qMrRqD97CmNg",
        "outputId": "e24f4e04-4eda-4b57-9909-b492d2a82fc9"
      },
      "execution_count": null,
      "outputs": [
        {
          "output_type": "display_data",
          "data": {
            "text/plain": [
              "Plot with title “Histogram of collegeData$Apps”"
            ],
            "image/png": "[encoded data removed]"
          },
          "metadata": {
            "image/png": {
              "width": 420,
              "height": 420
            }
          }
        }
      ]
    },
    {
      "cell_type": "code",
      "source": [
        "private <- collegeData[(collegeData$Private ==\"Yes\"),]"
      ],
      "metadata": {
        "id": "50ZuCj2VCqEW"
      },
      "execution_count": null,
      "outputs": []
    },
    {
      "cell_type": "code",
      "source": [
        "summary(private)"
      ],
      "metadata": {
        "colab": {
          "base_uri": "https://localhost:8080/",
          "height": 612
        },
        "id": "TDgqMGqLCuxX",
        "outputId": "7ce33782-6f3c-4c3b-c6af-4f093cb9be3e"
      },
      "execution_count": null,
      "outputs": [
        {
          "output_type": "display_data",
          "data": {
            "text/plain": [
              "      X               Private               Apps           Accept     \n",
              " Length:565         Length:565         Min.   :   81   Min.   :   72  \n",
              " Class :character   Class :character   1st Qu.:  619   1st Qu.:  501  \n",
              " Mode  :character   Mode  :character   Median : 1133   Median :  859  \n",
              "                                       Mean   : 1978   Mean   : 1306  \n",
              "                                       3rd Qu.: 2186   3rd Qu.: 1580  \n",
              "                                       Max.   :20192   Max.   :13007  \n",
              "     Enroll         Top10perc       Top25perc       F.Undergrad   \n",
              " Min.   :  35.0   Min.   : 1.00   Min.   :  9.00   Min.   :  139  \n",
              " 1st Qu.: 206.0   1st Qu.:17.00   1st Qu.: 42.00   1st Qu.:  840  \n",
              " Median : 328.0   Median :25.00   Median : 55.00   Median : 1274  \n",
              " Mean   : 456.9   Mean   :29.33   Mean   : 56.96   Mean   : 1872  \n",
              " 3rd Qu.: 520.0   3rd Qu.:36.00   3rd Qu.: 70.00   3rd Qu.: 2018  \n",
              " Max.   :4615.0   Max.   :96.00   Max.   :100.00   Max.   :27378  \n",
              "  P.Undergrad       Outstate       Room.Board       Books           Personal   \n",
              " Min.   :    1   Min.   : 2340   Min.   :2370   Min.   : 250.0   Min.   : 250  \n",
              " 1st Qu.:   63   1st Qu.: 9100   1st Qu.:3736   1st Qu.: 450.0   1st Qu.: 800  \n",
              " Median :  207   Median :11200   Median :4400   Median : 500.0   Median :1100  \n",
              " Mean   :  434   Mean   :11802   Mean   :4586   Mean   : 547.5   Mean   :1214  \n",
              " 3rd Qu.:  541   3rd Qu.:13970   3rd Qu.:5400   3rd Qu.: 600.0   3rd Qu.:1500  \n",
              " Max.   :10221   Max.   :21700   Max.   :8124   Max.   :2340.0   Max.   :6800  \n",
              "      PhD            Terminal        S.F.Ratio      perc.alumni   \n",
              " Min.   :  8.00   Min.   : 24.00   Min.   : 2.50   Min.   : 2.00  \n",
              " 1st Qu.: 60.00   1st Qu.: 68.00   1st Qu.:11.10   1st Qu.:16.00  \n",
              " Median : 73.00   Median : 81.00   Median :12.70   Median :25.00  \n",
              " Mean   : 71.09   Mean   : 78.53   Mean   :12.95   Mean   :25.89  \n",
              " 3rd Qu.: 85.00   3rd Qu.: 92.00   3rd Qu.:14.50   3rd Qu.:34.00  \n",
              " Max.   :100.00   Max.   :100.00   Max.   :39.80   Max.   :64.00  \n",
              "     Expend        Grad.Rate  \n",
              " Min.   : 3186   Min.   : 15  \n",
              " 1st Qu.: 7477   1st Qu.: 58  \n",
              " Median : 8954   Median : 69  \n",
              " Mean   :10486   Mean   : 69  \n",
              " 3rd Qu.:11625   3rd Qu.: 81  \n",
              " Max.   :56233   Max.   :118  "
            ]
          },
          "metadata": {}
        }
      ]
    },
    {
      "cell_type": "code",
      "source": [
        "hist(private$Apps)"
      ],
      "metadata": {
        "colab": {
          "base_uri": "https://localhost:8080/",
          "height": 437
        },
        "id": "0LAp28xgCyjO",
        "outputId": "a678d7b0-66e0-4a76-f3ce-af77420572f6"
      },
      "execution_count": null,
      "outputs": [
        {
          "output_type": "display_data",
          "data": {
            "text/plain": [
              "Plot with title “Histogram of private$Apps”"
            ],
            "image/png": "[encoded data removed]"
          },
          "metadata": {
            "image/png": {
              "width": 420,
              "height": 420
            }
          }
        }
      ]
    },
    {
      "cell_type": "code",
      "source": [
        "nprivate <- collegeData[(collegeData$Private ==\"No\"),]"
      ],
      "metadata": {
        "id": "PJ_bb2fEC2Il"
      },
      "execution_count": null,
      "outputs": []
    },
    {
      "cell_type": "code",
      "source": [
        "hist(nprivate$Apps)"
      ],
      "metadata": {
        "colab": {
          "base_uri": "https://localhost:8080/",
          "height": 437
        },
        "id": "UnpOv5pTDAec",
        "outputId": "7a21e9ba-0f0a-4e79-eee6-fdf2af2c804e"
      },
      "execution_count": null,
      "outputs": [
        {
          "output_type": "display_data",
          "data": {
            "text/plain": [
              "Plot with title “Histogram of nprivate$Apps”"
            ],
            "image/png": "[encoded data removed]"
          },
          "metadata": {
            "image/png": {
              "width": 420,
              "height": 420
            }
          }
        }
      ]
    }
  ]
}