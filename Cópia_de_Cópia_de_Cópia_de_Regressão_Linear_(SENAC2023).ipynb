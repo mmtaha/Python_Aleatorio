{
  "nbformat": 4,
  "nbformat_minor": 0,
  "metadata": {
    "colab": {
      "provenance": [],
      "include_colab_link": true
    },
    "kernelspec": {
      "display_name": "Python 3",
      "name": "python3"
    }
  },
  "cells": [
    {
      "cell_type": "markdown",
      "metadata": {
        "id": "view-in-github",
        "colab_type": "text"
      },
      "source": [
        "<a href=\"https://colab.research.google.com/github/mmtaha/Python_Aleatorio/blob/main/C%C3%B3pia_de_C%C3%B3pia_de_C%C3%B3pia_de_Regress%C3%A3o_Linear_(SENAC2023).ipynb\" target=\"_parent\"><img src=\"https://colab.research.google.com/assets/colab-badge.svg\" alt=\"Open In Colab\"/></a>"
      ]
    },
    {
      "cell_type": "markdown",
      "metadata": {
        "id": "kJ5zGNRaQdYS"
      },
      "source": [
        "# Exemplo de uma regressão linear simples em Python"
      ]
    },
    {
      "cell_type": "markdown",
      "metadata": {
        "id": "0AwMnQgpQkJc"
      },
      "source": [
        "Primeiro vamos importar as bibliotecas Necessárias"
      ]
    },
    {
      "cell_type": "code",
      "metadata": {
        "id": "lIYdn1woOS1n",
        "outputId": "3d7010a5-76df-4094-c5cc-3910f5432304",
        "colab": {
          "base_uri": "https://localhost:8080/"
        }
      },
      "source": [
        "#Instalar e importar bibliotecas\n",
        "!pip install pandas scikit-learn numpy matplotlib seaborn\n",
        "import pandas as pd\n",
        "import numpy as np\n",
        "from sklearn.model_selection import train_test_split\n",
        "from sklearn.linear_model import LinearRegression\n",
        "from sklearn.metrics import mean_squared_error, r2_score\n",
        "import matplotlib.pyplot as plt\n",
        "import seaborn as sns"
      ],
      "execution_count": null,
      "outputs": [
        {
          "output_type": "stream",
          "name": "stdout",
          "text": [
            "Requirement already satisfied: pandas in /usr/local/lib/python3.12/dist-packages (2.2.2)\n",
            "Requirement already satisfied: scikit-learn in /usr/local/lib/python3.12/dist-packages (1.6.1)\n",
            "Requirement already satisfied: numpy in /usr/local/lib/python3.12/dist-packages (2.0.2)\n",
            "Requirement already satisfied: matplotlib in /usr/local/lib/python3.12/dist-packages (3.10.0)\n",
            "Requirement already satisfied: seaborn in /usr/local/lib/python3.12/dist-packages (0.13.2)\n",
            "Requirement already satisfied: python-dateutil>=2.8.2 in /usr/local/lib/python3.12/dist-packages (from pandas) (2.9.0.post0)\n",
            "Requirement already satisfied: pytz>=2020.1 in /usr/local/lib/python3.12/dist-packages (from pandas) (2025.2)\n",
            "Requirement already satisfied: tzdata>=2022.7 in /usr/local/lib/python3.12/dist-packages (from pandas) (2025.2)\n",
            "Requirement already satisfied: scipy>=1.6.0 in /usr/local/lib/python3.12/dist-packages (from scikit-learn) (1.16.2)\n",
            "Requirement already satisfied: joblib>=1.2.0 in /usr/local/lib/python3.12/dist-packages (from scikit-learn) (1.5.2)\n",
            "Requirement already satisfied: threadpoolctl>=3.1.0 in /usr/local/lib/python3.12/dist-packages (from scikit-learn) (3.6.0)\n",
            "Requirement already satisfied: contourpy>=1.0.1 in /usr/local/lib/python3.12/dist-packages (from matplotlib) (1.3.3)\n",
            "Requirement already satisfied: cycler>=0.10 in /usr/local/lib/python3.12/dist-packages (from matplotlib) (0.12.1)\n",
            "Requirement already satisfied: fonttools>=4.22.0 in /usr/local/lib/python3.12/dist-packages (from matplotlib) (4.60.1)\n",
            "Requirement already satisfied: kiwisolver>=1.3.1 in /usr/local/lib/python3.12/dist-packages (from matplotlib) (1.4.9)\n",
            "Requirement already satisfied: packaging>=20.0 in /usr/local/lib/python3.12/dist-packages (from matplotlib) (25.0)\n",
            "Requirement already satisfied: pillow>=8 in /usr/local/lib/python3.12/dist-packages (from matplotlib) (11.3.0)\n",
            "Requirement already satisfied: pyparsing>=2.3.1 in /usr/local/lib/python3.12/dist-packages (from matplotlib) (3.2.5)\n",
            "Requirement already satisfied: six>=1.5 in /usr/local/lib/python3.12/dist-packages (from python-dateutil>=2.8.2->pandas) (1.17.0)\n"
          ]
        }
      ]
    },
    {
      "cell_type": "markdown",
      "metadata": {
        "id": "2eu4T7fvrnea"
      },
      "source": [
        "## Lendo e processando o dataset"
      ]
    },
    {
      "cell_type": "markdown",
      "metadata": {
        "id": "qcL5ioexrxWN"
      },
      "source": [
        "Vamos utilizar o dataset com dados sobre valores de imóveis disponível no [kaggle](https://www.kaggle.com/quantbruce/real-estate-price-prediction). Para simplificação, esse dataset está disponível no [link](https://www.dropbox.com/s/21kk53sgenipmob/Real%20estate.csv?dl=0)."
      ]
    },
    {
      "cell_type": "code",
      "metadata": {
        "id": "g05qiI-GwItq",
        "colab": {
          "base_uri": "https://localhost:8080/"
        },
        "outputId": "97649fcc-67bc-46c5-cf01-5f53b06622cb"
      },
      "source": [
        "!wget -c https://www.dropbox.com/s/21kk53sgenipmob/Real%20estate.csv?dl=0 -O real_estate.csv"
      ],
      "execution_count": null,
      "outputs": [
        {
          "output_type": "stream",
          "name": "stdout",
          "text": [
            "--2023-11-13 22:06:04--  https://www.dropbox.com/s/21kk53sgenipmob/Real%20estate.csv?dl=0\n",
            "Resolving www.dropbox.com (www.dropbox.com)... 162.125.5.18, 2620:100:601d:18::a27d:512\n",
            "Connecting to www.dropbox.com (www.dropbox.com)|162.125.5.18|:443... connected.\n",
            "HTTP request sent, awaiting response... 302 Found\n",
            "Location: /s/raw/21kk53sgenipmob/Real%20estate.csv [following]\n",
            "--2023-11-13 22:06:04--  https://www.dropbox.com/s/raw/21kk53sgenipmob/Real%20estate.csv\n",
            "Reusing existing connection to www.dropbox.com:443.\n",
            "HTTP request sent, awaiting response... 302 Found\n",
            "Location: https://uc32e5f9db2f44d205a262421ad4.dl.dropboxusercontent.com/cd/0/inline/CHfuseEGMD01SgvB-ViTPnrDxmnHdph6qc38r6EpiDqf8nP6QxqQHxXDbmLiKU9hKr0GH9UibpcKG6zXNriH-cbXGx8izPUFJ8OEq5dln1RLjH7kUWOP9T5V4bQ14LHe3bE/file# [following]\n",
            "--2023-11-13 22:06:04--  https://uc32e5f9db2f44d205a262421ad4.dl.dropboxusercontent.com/cd/0/inline/CHfuseEGMD01SgvB-ViTPnrDxmnHdph6qc38r6EpiDqf8nP6QxqQHxXDbmLiKU9hKr0GH9UibpcKG6zXNriH-cbXGx8izPUFJ8OEq5dln1RLjH7kUWOP9T5V4bQ14LHe3bE/file\n",
            "Resolving uc32e5f9db2f44d205a262421ad4.dl.dropboxusercontent.com (uc32e5f9db2f44d205a262421ad4.dl.dropboxusercontent.com)... 162.125.5.15, 2620:100:601d:15::a27d:50f\n",
            "Connecting to uc32e5f9db2f44d205a262421ad4.dl.dropboxusercontent.com (uc32e5f9db2f44d205a262421ad4.dl.dropboxusercontent.com)|162.125.5.15|:443... connected.\n",
            "HTTP request sent, awaiting response... 200 OK\n",
            "Length: 21968 (21K) [text/plain]\n",
            "Saving to: ‘real_estate.csv’\n",
            "\n",
            "real_estate.csv     100%[===================>]  21.45K  --.-KB/s    in 0.01s   \n",
            "\n",
            "2023-11-13 22:06:04 (1.48 MB/s) - ‘real_estate.csv’ saved [21968/21968]\n",
            "\n"
          ]
        }
      ]
    },
    {
      "cell_type": "markdown",
      "metadata": {
        "id": "rBrZ5ApnsJTq"
      },
      "source": [
        "Vamos examinar o que temos nas 10 primeiras linhas do dataset utilizando o comando `head` do bash"
      ]
    },
    {
      "cell_type": "code",
      "metadata": {
        "id": "sGggXPr3sUMX",
        "colab": {
          "base_uri": "https://localhost:8080/"
        },
        "outputId": "bfee0c54-e012-4001-d193-2c183047084c"
      },
      "source": [
        "!head -10 real_estate.csv"
      ],
      "execution_count": null,
      "outputs": [
        {
          "output_type": "stream",
          "name": "stdout",
          "text": [
            "No,X1 transaction date,X2 house age,X3 distance to the nearest MRT station,X4 number of convenience stores,X5 latitude,X6 longitude,Y house price of unit area\r\n",
            "1,2012.917,32,84.87882,10,24.98298,121.54024,37.9\r\n",
            "2,2012.917,19.5,306.5947,9,24.98034,121.53951,42.2\r\n",
            "3,2013.583,13.3,561.9845,5,24.98746,121.54391,47.3\r\n",
            "4,2013.500,13.3,561.9845,5,24.98746,121.54391,54.8\r\n",
            "5,2012.833,5,390.5684,5,24.97937,121.54245,43.1\r\n",
            "6,2012.667,7.1,2175.03,3,24.96305,121.51254,32.1\r\n",
            "7,2012.667,34.5,623.4731,7,24.97933,121.53642,40.3\r\n",
            "8,2013.417,20.3,287.6025,6,24.98042,121.54228,46.7\r\n",
            "9,2013.500,31.7,5512.038,1,24.95095,121.48458,18.8\r\n"
          ]
        }
      ]
    },
    {
      "cell_type": "code",
      "metadata": {
        "colab": {
          "base_uri": "https://localhost:8080/"
        },
        "id": "fzCg4OAPWoHg",
        "outputId": "4a11ebea-1a45-4fe7-c18a-1f42a5f2af9e"
      },
      "source": [
        "!tail -10 real_estate.csv"
      ],
      "execution_count": null,
      "outputs": [
        {
          "output_type": "stream",
          "name": "stdout",
          "text": [
            "405,2013.333,16.4,289.3248,5,24.98203,121.54348,41.2\r\n",
            "406,2012.667,23,130.9945,6,24.95663,121.53765,37.2\r\n",
            "407,2013.167,1.9,372.1386,7,24.97293,121.54026,40.5\r\n",
            "408,2013.000,5.2,2408.993,0,24.95505,121.55964,22.3\r\n",
            "409,2013.417,18.5,2175.744,3,24.9633,121.51243,28.1\r\n",
            "410,2013.000,13.7,4082.015,0,24.94155,121.50381,15.4\r\n",
            "411,2012.667,5.6,90.45606,9,24.97433,121.5431,50\r\n",
            "412,2013.250,18.8,390.9696,7,24.97923,121.53986,40.6\r\n",
            "413,2013.000,8.1,104.8101,5,24.96674,121.54067,52.5\r\n",
            "414,2013.500,6.5,90.45606,9,24.97433,121.5431,63.9\r\n"
          ]
        }
      ]
    },
    {
      "cell_type": "code",
      "metadata": {
        "colab": {
          "base_uri": "https://localhost:8080/"
        },
        "id": "W7Bl_Ecfsg94",
        "outputId": "80eae3da-e383-4f0a-aa0c-34b866144771"
      },
      "source": [
        "! wc -l real_estate.csv"
      ],
      "execution_count": null,
      "outputs": [
        {
          "output_type": "stream",
          "name": "stdout",
          "text": [
            "415 real_estate.csv\n"
          ]
        }
      ]
    },
    {
      "cell_type": "markdown",
      "metadata": {
        "id": "3dCPeUHlsf-S"
      },
      "source": [
        "Agora vamos utilizar o [pandas](https://pandas.pydata.org/) para ler o nosso dataset e examinar o que temos nas primeiras linhas de daddos"
      ]
    },
    {
      "cell_type": "code",
      "metadata": {
        "id": "hgsDPAggOyI1"
      },
      "source": [
        "real_estate_data = pd.read_csv(\"real_estate.csv\")"
      ],
      "execution_count": null,
      "outputs": []
    },
    {
      "cell_type": "code",
      "metadata": {
        "id": "R6HpSWg-swMv",
        "colab": {
          "base_uri": "https://localhost:8080/",
          "height": 398
        },
        "outputId": "650d1f36-d947-454a-bc6b-d97676899f87"
      },
      "source": [
        "real_estate_data.head(10)"
      ],
      "execution_count": null,
      "outputs": [
        {
          "output_type": "execute_result",
          "data": {
            "text/plain": [
              "   No  X1 transaction date  X2 house age  \\\n",
              "0   1             2012.917          32.0   \n",
              "1   2             2012.917          19.5   \n",
              "2   3             2013.583          13.3   \n",
              "3   4             2013.500          13.3   \n",
              "4   5             2012.833           5.0   \n",
              "5   6             2012.667           7.1   \n",
              "6   7             2012.667          34.5   \n",
              "7   8             2013.417          20.3   \n",
              "8   9             2013.500          31.7   \n",
              "9  10             2013.417          17.9   \n",
              "\n",
              "   X3 distance to the nearest MRT station  X4 number of convenience stores  \\\n",
              "0                                84.87882                               10   \n",
              "1                               306.59470                                9   \n",
              "2                               561.98450                                5   \n",
              "3                               561.98450                                5   \n",
              "4                               390.56840                                5   \n",
              "5                              2175.03000                                3   \n",
              "6                               623.47310                                7   \n",
              "7                               287.60250                                6   \n",
              "8                              5512.03800                                1   \n",
              "9                              1783.18000                                3   \n",
              "\n",
              "   X5 latitude  X6 longitude  Y house price of unit area  \n",
              "0     24.98298     121.54024                        37.9  \n",
              "1     24.98034     121.53951                        42.2  \n",
              "2     24.98746     121.54391                        47.3  \n",
              "3     24.98746     121.54391                        54.8  \n",
              "4     24.97937     121.54245                        43.1  \n",
              "5     24.96305     121.51254                        32.1  \n",
              "6     24.97933     121.53642                        40.3  \n",
              "7     24.98042     121.54228                        46.7  \n",
              "8     24.95095     121.48458                        18.8  \n",
              "9     24.96731     121.51486                        22.1  "
            ],
            "text/html": [
              "\n",
              "  <div id=\"df-ba982c7c-6335-43e4-98ed-c4728ff1d155\" class=\"colab-df-container\">\n",
              "    <div>\n",
              "<style scoped>\n",
              "    .dataframe tbody tr th:only-of-type {\n",
              "        vertical-align: middle;\n",
              "    }\n",
              "\n",
              "    .dataframe tbody tr th {\n",
              "        vertical-align: top;\n",
              "    }\n",
              "\n",
              "    .dataframe thead th {\n",
              "        text-align: right;\n",
              "    }\n",
              "</style>\n",
              "<table border=\"1\" class=\"dataframe\">\n",
              "  <thead>\n",
              "    <tr style=\"text-align: right;\">\n",
              "      <th></th>\n",
              "      <th>No</th>\n",
              "      <th>X1 transaction date</th>\n",
              "      <th>X2 house age</th>\n",
              "      <th>X3 distance to the nearest MRT station</th>\n",
              "      <th>X4 number of convenience stores</th>\n",
              "      <th>X5 latitude</th>\n",
              "      <th>X6 longitude</th>\n",
              "      <th>Y house price of unit area</th>\n",
              "    </tr>\n",
              "  </thead>\n",
              "  <tbody>\n",
              "    <tr>\n",
              "      <th>0</th>\n",
              "      <td>1</td>\n",
              "      <td>2012.917</td>\n",
              "      <td>32.0</td>\n",
              "      <td>84.87882</td>\n",
              "      <td>10</td>\n",
              "      <td>24.98298</td>\n",
              "      <td>121.54024</td>\n",
              "      <td>37.9</td>\n",
              "    </tr>\n",
              "    <tr>\n",
              "      <th>1</th>\n",
              "      <td>2</td>\n",
              "      <td>2012.917</td>\n",
              "      <td>19.5</td>\n",
              "      <td>306.59470</td>\n",
              "      <td>9</td>\n",
              "      <td>24.98034</td>\n",
              "      <td>121.53951</td>\n",
              "      <td>42.2</td>\n",
              "    </tr>\n",
              "    <tr>\n",
              "      <th>2</th>\n",
              "      <td>3</td>\n",
              "      <td>2013.583</td>\n",
              "      <td>13.3</td>\n",
              "      <td>561.98450</td>\n",
              "      <td>5</td>\n",
              "      <td>24.98746</td>\n",
              "      <td>121.54391</td>\n",
              "      <td>47.3</td>\n",
              "    </tr>\n",
              "    <tr>\n",
              "      <th>3</th>\n",
              "      <td>4</td>\n",
              "      <td>2013.500</td>\n",
              "      <td>13.3</td>\n",
              "      <td>561.98450</td>\n",
              "      <td>5</td>\n",
              "      <td>24.98746</td>\n",
              "      <td>121.54391</td>\n",
              "      <td>54.8</td>\n",
              "    </tr>\n",
              "    <tr>\n",
              "      <th>4</th>\n",
              "      <td>5</td>\n",
              "      <td>2012.833</td>\n",
              "      <td>5.0</td>\n",
              "      <td>390.56840</td>\n",
              "      <td>5</td>\n",
              "      <td>24.97937</td>\n",
              "      <td>121.54245</td>\n",
              "      <td>43.1</td>\n",
              "    </tr>\n",
              "    <tr>\n",
              "      <th>5</th>\n",
              "      <td>6</td>\n",
              "      <td>2012.667</td>\n",
              "      <td>7.1</td>\n",
              "      <td>2175.03000</td>\n",
              "      <td>3</td>\n",
              "      <td>24.96305</td>\n",
              "      <td>121.51254</td>\n",
              "      <td>32.1</td>\n",
              "    </tr>\n",
              "    <tr>\n",
              "      <th>6</th>\n",
              "      <td>7</td>\n",
              "      <td>2012.667</td>\n",
              "      <td>34.5</td>\n",
              "      <td>623.47310</td>\n",
              "      <td>7</td>\n",
              "      <td>24.97933</td>\n",
              "      <td>121.53642</td>\n",
              "      <td>40.3</td>\n",
              "    </tr>\n",
              "    <tr>\n",
              "      <th>7</th>\n",
              "      <td>8</td>\n",
              "      <td>2013.417</td>\n",
              "      <td>20.3</td>\n",
              "      <td>287.60250</td>\n",
              "      <td>6</td>\n",
              "      <td>24.98042</td>\n",
              "      <td>121.54228</td>\n",
              "      <td>46.7</td>\n",
              "    </tr>\n",
              "    <tr>\n",
              "      <th>8</th>\n",
              "      <td>9</td>\n",
              "      <td>2013.500</td>\n",
              "      <td>31.7</td>\n",
              "      <td>5512.03800</td>\n",
              "      <td>1</td>\n",
              "      <td>24.95095</td>\n",
              "      <td>121.48458</td>\n",
              "      <td>18.8</td>\n",
              "    </tr>\n",
              "    <tr>\n",
              "      <th>9</th>\n",
              "      <td>10</td>\n",
              "      <td>2013.417</td>\n",
              "      <td>17.9</td>\n",
              "      <td>1783.18000</td>\n",
              "      <td>3</td>\n",
              "      <td>24.96731</td>\n",
              "      <td>121.51486</td>\n",
              "      <td>22.1</td>\n",
              "    </tr>\n",
              "  </tbody>\n",
              "</table>\n",
              "</div>\n",
              "    <div class=\"colab-df-buttons\">\n",
              "\n",
              "  <div class=\"colab-df-container\">\n",
              "    <button class=\"colab-df-convert\" onclick=\"convertToInteractive('df-ba982c7c-6335-43e4-98ed-c4728ff1d155')\"\n",
              "            title=\"Convert this dataframe to an interactive table.\"\n",
              "            style=\"display:none;\">\n",
              "\n",
              "  <svg xmlns=\"http://www.w3.org/2000/svg\" height=\"24px\" viewBox=\"0 -960 960 960\">\n",
              "    <path d=\"M120-120v-720h720v720H120Zm60-500h600v-160H180v160Zm220 220h160v-160H400v160Zm0 220h160v-160H400v160ZM180-400h160v-160H180v160Zm440 0h160v-160H620v160ZM180-180h160v-160H180v160Zm440 0h160v-160H620v160Z\"/>\n",
              "  </svg>\n",
              "    </button>\n",
              "\n",
              "  <style>\n",
              "    .colab-df-container {\n",
              "      display:flex;\n",
              "      gap: 12px;\n",
              "    }\n",
              "\n",
              "    .colab-df-convert {\n",
              "      background-color: #E8F0FE;\n",
              "      border: none;\n",
              "      border-radius: 50%;\n",
              "      cursor: pointer;\n",
              "      display: none;\n",
              "      fill: #1967D2;\n",
              "      height: 32px;\n",
              "      padding: 0 0 0 0;\n",
              "      width: 32px;\n",
              "    }\n",
              "\n",
              "    .colab-df-convert:hover {\n",
              "      background-color: #E2EBFA;\n",
              "      box-shadow: 0px 1px 2px rgba(60, 64, 67, 0.3), 0px 1px 3px 1px rgba(60, 64, 67, 0.15);\n",
              "      fill: #174EA6;\n",
              "    }\n",
              "\n",
              "    .colab-df-buttons div {\n",
              "      margin-bottom: 4px;\n",
              "    }\n",
              "\n",
              "    [theme=dark] .colab-df-convert {\n",
              "      background-color: #3B4455;\n",
              "      fill: #D2E3FC;\n",
              "    }\n",
              "\n",
              "    [theme=dark] .colab-df-convert:hover {\n",
              "      background-color: #434B5C;\n",
              "      box-shadow: 0px 1px 3px 1px rgba(0, 0, 0, 0.15);\n",
              "      filter: drop-shadow(0px 1px 2px rgba(0, 0, 0, 0.3));\n",
              "      fill: #FFFFFF;\n",
              "    }\n",
              "  </style>\n",
              "\n",
              "    <script>\n",
              "      const buttonEl =\n",
              "        document.querySelector('#df-ba982c7c-6335-43e4-98ed-c4728ff1d155 button.colab-df-convert');\n",
              "      buttonEl.style.display =\n",
              "        google.colab.kernel.accessAllowed ? 'block' : 'none';\n",
              "\n",
              "      async function convertToInteractive(key) {\n",
              "        const element = document.querySelector('#df-ba982c7c-6335-43e4-98ed-c4728ff1d155');\n",
              "        const dataTable =\n",
              "          await google.colab.kernel.invokeFunction('convertToInteractive',\n",
              "                                                    [key], {});\n",
              "        if (!dataTable) return;\n",
              "\n",
              "        const docLinkHtml = 'Like what you see? Visit the ' +\n",
              "          '<a target=\"_blank\" href=https://colab.research.google.com/notebooks/data_table.ipynb>data table notebook</a>'\n",
              "          + ' to learn more about interactive tables.';\n",
              "        element.innerHTML = '';\n",
              "        dataTable['output_type'] = 'display_data';\n",
              "        await google.colab.output.renderOutput(dataTable, element);\n",
              "        const docLink = document.createElement('div');\n",
              "        docLink.innerHTML = docLinkHtml;\n",
              "        element.appendChild(docLink);\n",
              "      }\n",
              "    </script>\n",
              "  </div>\n",
              "\n",
              "\n",
              "<div id=\"df-8f5834c7-bf7a-4721-a3ad-1689c4d6e3e7\">\n",
              "  <button class=\"colab-df-quickchart\" onclick=\"quickchart('df-8f5834c7-bf7a-4721-a3ad-1689c4d6e3e7')\"\n",
              "            title=\"Suggest charts\"\n",
              "            style=\"display:none;\">\n",
              "\n",
              "<svg xmlns=\"http://www.w3.org/2000/svg\" height=\"24px\"viewBox=\"0 0 24 24\"\n",
              "     width=\"24px\">\n",
              "    <g>\n",
              "        <path d=\"M19 3H5c-1.1 0-2 .9-2 2v14c0 1.1.9 2 2 2h14c1.1 0 2-.9 2-2V5c0-1.1-.9-2-2-2zM9 17H7v-7h2v7zm4 0h-2V7h2v10zm4 0h-2v-4h2v4z\"/>\n",
              "    </g>\n",
              "</svg>\n",
              "  </button>\n",
              "\n",
              "<style>\n",
              "  .colab-df-quickchart {\n",
              "      --bg-color: #E8F0FE;\n",
              "      --fill-color: #1967D2;\n",
              "      --hover-bg-color: #E2EBFA;\n",
              "      --hover-fill-color: #174EA6;\n",
              "      --disabled-fill-color: #AAA;\n",
              "      --disabled-bg-color: #DDD;\n",
              "  }\n",
              "\n",
              "  [theme=dark] .colab-df-quickchart {\n",
              "      --bg-color: #3B4455;\n",
              "      --fill-color: #D2E3FC;\n",
              "      --hover-bg-color: #434B5C;\n",
              "      --hover-fill-color: #FFFFFF;\n",
              "      --disabled-bg-color: #3B4455;\n",
              "      --disabled-fill-color: #666;\n",
              "  }\n",
              "\n",
              "  .colab-df-quickchart {\n",
              "    background-color: var(--bg-color);\n",
              "    border: none;\n",
              "    border-radius: 50%;\n",
              "    cursor: pointer;\n",
              "    display: none;\n",
              "    fill: var(--fill-color);\n",
              "    height: 32px;\n",
              "    padding: 0;\n",
              "    width: 32px;\n",
              "  }\n",
              "\n",
              "  .colab-df-quickchart:hover {\n",
              "    background-color: var(--hover-bg-color);\n",
              "    box-shadow: 0 1px 2px rgba(60, 64, 67, 0.3), 0 1px 3px 1px rgba(60, 64, 67, 0.15);\n",
              "    fill: var(--button-hover-fill-color);\n",
              "  }\n",
              "\n",
              "  .colab-df-quickchart-complete:disabled,\n",
              "  .colab-df-quickchart-complete:disabled:hover {\n",
              "    background-color: var(--disabled-bg-color);\n",
              "    fill: var(--disabled-fill-color);\n",
              "    box-shadow: none;\n",
              "  }\n",
              "\n",
              "  .colab-df-spinner {\n",
              "    border: 2px solid var(--fill-color);\n",
              "    border-color: transparent;\n",
              "    border-bottom-color: var(--fill-color);\n",
              "    animation:\n",
              "      spin 1s steps(1) infinite;\n",
              "  }\n",
              "\n",
              "  @keyframes spin {\n",
              "    0% {\n",
              "      border-color: transparent;\n",
              "      border-bottom-color: var(--fill-color);\n",
              "      border-left-color: var(--fill-color);\n",
              "    }\n",
              "    20% {\n",
              "      border-color: transparent;\n",
              "      border-left-color: var(--fill-color);\n",
              "      border-top-color: var(--fill-color);\n",
              "    }\n",
              "    30% {\n",
              "      border-color: transparent;\n",
              "      border-left-color: var(--fill-color);\n",
              "      border-top-color: var(--fill-color);\n",
              "      border-right-color: var(--fill-color);\n",
              "    }\n",
              "    40% {\n",
              "      border-color: transparent;\n",
              "      border-right-color: var(--fill-color);\n",
              "      border-top-color: var(--fill-color);\n",
              "    }\n",
              "    60% {\n",
              "      border-color: transparent;\n",
              "      border-right-color: var(--fill-color);\n",
              "    }\n",
              "    80% {\n",
              "      border-color: transparent;\n",
              "      border-right-color: var(--fill-color);\n",
              "      border-bottom-color: var(--fill-color);\n",
              "    }\n",
              "    90% {\n",
              "      border-color: transparent;\n",
              "      border-bottom-color: var(--fill-color);\n",
              "    }\n",
              "  }\n",
              "</style>\n",
              "\n",
              "  <script>\n",
              "    async function quickchart(key) {\n",
              "      const quickchartButtonEl =\n",
              "        document.querySelector('#' + key + ' button');\n",
              "      quickchartButtonEl.disabled = true;  // To prevent multiple clicks.\n",
              "      quickchartButtonEl.classList.add('colab-df-spinner');\n",
              "      try {\n",
              "        const charts = await google.colab.kernel.invokeFunction(\n",
              "            'suggestCharts', [key], {});\n",
              "      } catch (error) {\n",
              "        console.error('Error during call to suggestCharts:', error);\n",
              "      }\n",
              "      quickchartButtonEl.classList.remove('colab-df-spinner');\n",
              "      quickchartButtonEl.classList.add('colab-df-quickchart-complete');\n",
              "    }\n",
              "    (() => {\n",
              "      let quickchartButtonEl =\n",
              "        document.querySelector('#df-8f5834c7-bf7a-4721-a3ad-1689c4d6e3e7 button');\n",
              "      quickchartButtonEl.style.display =\n",
              "        google.colab.kernel.accessAllowed ? 'block' : 'none';\n",
              "    })();\n",
              "  </script>\n",
              "</div>\n",
              "    </div>\n",
              "  </div>\n"
            ]
          },
          "metadata": {},
          "execution_count": 7
        }
      ]
    },
    {
      "cell_type": "markdown",
      "metadata": {
        "id": "D_dDkFF5tGkL"
      },
      "source": [
        "Vamos visualizar a relação da variável `Y house price of unit area` com a variável `X3 distance to the nearest MRT station`"
      ]
    },
    {
      "cell_type": "code",
      "metadata": {
        "id": "HciasiiRRCV0",
        "colab": {
          "base_uri": "https://localhost:8080/",
          "height": 466
        },
        "outputId": "c245756b-21a7-4628-c6c2-a2dfd4e15449"
      },
      "source": [
        "plt.scatter(x=real_estate_data.iloc[:,3], y=real_estate_data.iloc[:,7])\n",
        "plt.xlabel(\"Distância\")\n",
        "plt.ylabel(\"Preço\")"
      ],
      "execution_count": null,
      "outputs": [
        {
          "output_type": "execute_result",
          "data": {
            "text/plain": [
              "Text(0, 0.5, 'Preço')"
            ]
          },
          "metadata": {},
          "execution_count": 8
        },
        {
          "output_type": "display_data",
          "data": {
            "text/plain": [
              "<Figure size 640x480 with 1 Axes>"
            ],
            "image/png": "[encoded data removed]"
          },
          "metadata": {}
        }
      ]
    },
    {
      "cell_type": "markdown",
      "metadata": {
        "id": "b7vbThYvhx0F"
      },
      "source": [
        "## Linear regression utilizando [scikit-learn](https://scikit-learn.org/stable/)"
      ]
    },
    {
      "cell_type": "markdown",
      "metadata": {
        "id": "UpQKXxkBh9iP"
      },
      "source": [
        "Vamos importar o módulo `linear_model` e instanciar uma regressão linear\n"
      ]
    },
    {
      "cell_type": "code",
      "metadata": {
        "id": "na9GWGofih46"
      },
      "source": [
        "from sklearn import linear_model\n",
        "from sklearn.model_selection import train_test_split"
      ],
      "execution_count": null,
      "outputs": []
    },
    {
      "cell_type": "markdown",
      "metadata": {
        "id": "Y650qAdNk3Zy"
      },
      "source": [
        "Precisamos manipular nossos dados para utilizar o scikit-learn, uma vez que o método `fit` recebe, como entrada arrays numpy de duas dimensões. Caso se utilize mais do que duas variáveis preditoras, deve-se remover o trecho `.reshape(-1,1)`\n",
        "\n",
        "[Referência]( https://stackoverflow.com/questions/61367841/why-does-the-fit-method-in-sklearns-linearregression-only-accept-2d-array-for-t)"
      ]
    },
    {
      "cell_type": "code",
      "metadata": {
        "id": "XAjj47sdoLjr"
      },
      "source": [
        "#X = np.asarray(real_estate_data.iloc[:,2]).reshape(-1,1)\n",
        "re_train, re_test = train_test_split(real_estate_data, train_size=0.7)\n",
        "X_train = re_train.iloc[:,[2,3]]\n",
        "y_train = re_train.iloc[:,-1]\n",
        "\n",
        "X_test = re_test.iloc[:,[2,3]]\n",
        "y_test = re_test.iloc[:,-1]"
      ],
      "execution_count": null,
      "outputs": []
    },
    {
      "cell_type": "code",
      "metadata": {
        "colab": {
          "base_uri": "https://localhost:8080/",
          "height": 206
        },
        "id": "_IbhNa-Txj1J",
        "outputId": "6431956e-db5c-4bbc-fd5f-5afa18bd6785"
      },
      "source": [
        "X_train.head()"
      ],
      "execution_count": null,
      "outputs": [
        {
          "output_type": "execute_result",
          "data": {
            "text/plain": [
              "     X2 house age  X3 distance to the nearest MRT station\n",
              "136          11.4                                390.5684\n",
              "339           1.7                                329.9747\n",
              "273          13.2                                170.1289\n",
              "384          16.1                               4066.5870\n",
              "245           7.5                                639.6198"
            ],
            "text/html": [
              "\n",
              "  <div id=\"df-691d2bd6-00a6-4e6a-8efc-0d0eff502405\" class=\"colab-df-container\">\n",
              "    <div>\n",
              "<style scoped>\n",
              "    .dataframe tbody tr th:only-of-type {\n",
              "        vertical-align: middle;\n",
              "    }\n",
              "\n",
              "    .dataframe tbody tr th {\n",
              "        vertical-align: top;\n",
              "    }\n",
              "\n",
              "    .dataframe thead th {\n",
              "        text-align: right;\n",
              "    }\n",
              "</style>\n",
              "<table border=\"1\" class=\"dataframe\">\n",
              "  <thead>\n",
              "    <tr style=\"text-align: right;\">\n",
              "      <th></th>\n",
              "      <th>X2 house age</th>\n",
              "      <th>X3 distance to the nearest MRT station</th>\n",
              "    </tr>\n",
              "  </thead>\n",
              "  <tbody>\n",
              "    <tr>\n",
              "      <th>136</th>\n",
              "      <td>11.4</td>\n",
              "      <td>390.5684</td>\n",
              "    </tr>\n",
              "    <tr>\n",
              "      <th>339</th>\n",
              "      <td>1.7</td>\n",
              "      <td>329.9747</td>\n",
              "    </tr>\n",
              "    <tr>\n",
              "      <th>273</th>\n",
              "      <td>13.2</td>\n",
              "      <td>170.1289</td>\n",
              "    </tr>\n",
              "    <tr>\n",
              "      <th>384</th>\n",
              "      <td>16.1</td>\n",
              "      <td>4066.5870</td>\n",
              "    </tr>\n",
              "    <tr>\n",
              "      <th>245</th>\n",
              "      <td>7.5</td>\n",
              "      <td>639.6198</td>\n",
              "    </tr>\n",
              "  </tbody>\n",
              "</table>\n",
              "</div>\n",
              "    <div class=\"colab-df-buttons\">\n",
              "\n",
              "  <div class=\"colab-df-container\">\n",
              "    <button class=\"colab-df-convert\" onclick=\"convertToInteractive('df-691d2bd6-00a6-4e6a-8efc-0d0eff502405')\"\n",
              "            title=\"Convert this dataframe to an interactive table.\"\n",
              "            style=\"display:none;\">\n",
              "\n",
              "  <svg xmlns=\"http://www.w3.org/2000/svg\" height=\"24px\" viewBox=\"0 -960 960 960\">\n",
              "    <path d=\"M120-120v-720h720v720H120Zm60-500h600v-160H180v160Zm220 220h160v-160H400v160Zm0 220h160v-160H400v160ZM180-400h160v-160H180v160Zm440 0h160v-160H620v160ZM180-180h160v-160H180v160Zm440 0h160v-160H620v160Z\"/>\n",
              "  </svg>\n",
              "    </button>\n",
              "\n",
              "  <style>\n",
              "    .colab-df-container {\n",
              "      display:flex;\n",
              "      gap: 12px;\n",
              "    }\n",
              "\n",
              "    .colab-df-convert {\n",
              "      background-color: #E8F0FE;\n",
              "      border: none;\n",
              "      border-radius: 50%;\n",
              "      cursor: pointer;\n",
              "      display: none;\n",
              "      fill: #1967D2;\n",
              "      height: 32px;\n",
              "      padding: 0 0 0 0;\n",
              "      width: 32px;\n",
              "    }\n",
              "\n",
              "    .colab-df-convert:hover {\n",
              "      background-color: #E2EBFA;\n",
              "      box-shadow: 0px 1px 2px rgba(60, 64, 67, 0.3), 0px 1px 3px 1px rgba(60, 64, 67, 0.15);\n",
              "      fill: #174EA6;\n",
              "    }\n",
              "\n",
              "    .colab-df-buttons div {\n",
              "      margin-bottom: 4px;\n",
              "    }\n",
              "\n",
              "    [theme=dark] .colab-df-convert {\n",
              "      background-color: #3B4455;\n",
              "      fill: #D2E3FC;\n",
              "    }\n",
              "\n",
              "    [theme=dark] .colab-df-convert:hover {\n",
              "      background-color: #434B5C;\n",
              "      box-shadow: 0px 1px 3px 1px rgba(0, 0, 0, 0.15);\n",
              "      filter: drop-shadow(0px 1px 2px rgba(0, 0, 0, 0.3));\n",
              "      fill: #FFFFFF;\n",
              "    }\n",
              "  </style>\n",
              "\n",
              "    <script>\n",
              "      const buttonEl =\n",
              "        document.querySelector('#df-691d2bd6-00a6-4e6a-8efc-0d0eff502405 button.colab-df-convert');\n",
              "      buttonEl.style.display =\n",
              "        google.colab.kernel.accessAllowed ? 'block' : 'none';\n",
              "\n",
              "      async function convertToInteractive(key) {\n",
              "        const element = document.querySelector('#df-691d2bd6-00a6-4e6a-8efc-0d0eff502405');\n",
              "        const dataTable =\n",
              "          await google.colab.kernel.invokeFunction('convertToInteractive',\n",
              "                                                    [key], {});\n",
              "        if (!dataTable) return;\n",
              "\n",
              "        const docLinkHtml = 'Like what you see? Visit the ' +\n",
              "          '<a target=\"_blank\" href=https://colab.research.google.com/notebooks/data_table.ipynb>data table notebook</a>'\n",
              "          + ' to learn more about interactive tables.';\n",
              "        element.innerHTML = '';\n",
              "        dataTable['output_type'] = 'display_data';\n",
              "        await google.colab.output.renderOutput(dataTable, element);\n",
              "        const docLink = document.createElement('div');\n",
              "        docLink.innerHTML = docLinkHtml;\n",
              "        element.appendChild(docLink);\n",
              "      }\n",
              "    </script>\n",
              "  </div>\n",
              "\n",
              "\n",
              "<div id=\"df-b30a26d2-29a8-431a-b4ad-b6a0245d0067\">\n",
              "  <button class=\"colab-df-quickchart\" onclick=\"quickchart('df-b30a26d2-29a8-431a-b4ad-b6a0245d0067')\"\n",
              "            title=\"Suggest charts\"\n",
              "            style=\"display:none;\">\n",
              "\n",
              "<svg xmlns=\"http://www.w3.org/2000/svg\" height=\"24px\"viewBox=\"0 0 24 24\"\n",
              "     width=\"24px\">\n",
              "    <g>\n",
              "        <path d=\"M19 3H5c-1.1 0-2 .9-2 2v14c0 1.1.9 2 2 2h14c1.1 0 2-.9 2-2V5c0-1.1-.9-2-2-2zM9 17H7v-7h2v7zm4 0h-2V7h2v10zm4 0h-2v-4h2v4z\"/>\n",
              "    </g>\n",
              "</svg>\n",
              "  </button>\n",
              "\n",
              "<style>\n",
              "  .colab-df-quickchart {\n",
              "      --bg-color: #E8F0FE;\n",
              "      --fill-color: #1967D2;\n",
              "      --hover-bg-color: #E2EBFA;\n",
              "      --hover-fill-color: #174EA6;\n",
              "      --disabled-fill-color: #AAA;\n",
              "      --disabled-bg-color: #DDD;\n",
              "  }\n",
              "\n",
              "  [theme=dark] .colab-df-quickchart {\n",
              "      --bg-color: #3B4455;\n",
              "      --fill-color: #D2E3FC;\n",
              "      --hover-bg-color: #434B5C;\n",
              "      --hover-fill-color: #FFFFFF;\n",
              "      --disabled-bg-color: #3B4455;\n",
              "      --disabled-fill-color: #666;\n",
              "  }\n",
              "\n",
              "  .colab-df-quickchart {\n",
              "    background-color: var(--bg-color);\n",
              "    border: none;\n",
              "    border-radius: 50%;\n",
              "    cursor: pointer;\n",
              "    display: none;\n",
              "    fill: var(--fill-color);\n",
              "    height: 32px;\n",
              "    padding: 0;\n",
              "    width: 32px;\n",
              "  }\n",
              "\n",
              "  .colab-df-quickchart:hover {\n",
              "    background-color: var(--hover-bg-color);\n",
              "    box-shadow: 0 1px 2px rgba(60, 64, 67, 0.3), 0 1px 3px 1px rgba(60, 64, 67, 0.15);\n",
              "    fill: var(--button-hover-fill-color);\n",
              "  }\n",
              "\n",
              "  .colab-df-quickchart-complete:disabled,\n",
              "  .colab-df-quickchart-complete:disabled:hover {\n",
              "    background-color: var(--disabled-bg-color);\n",
              "    fill: var(--disabled-fill-color);\n",
              "    box-shadow: none;\n",
              "  }\n",
              "\n",
              "  .colab-df-spinner {\n",
              "    border: 2px solid var(--fill-color);\n",
              "    border-color: transparent;\n",
              "    border-bottom-color: var(--fill-color);\n",
              "    animation:\n",
              "      spin 1s steps(1) infinite;\n",
              "  }\n",
              "\n",
              "  @keyframes spin {\n",
              "    0% {\n",
              "      border-color: transparent;\n",
              "      border-bottom-color: var(--fill-color);\n",
              "      border-left-color: var(--fill-color);\n",
              "    }\n",
              "    20% {\n",
              "      border-color: transparent;\n",
              "      border-left-color: var(--fill-color);\n",
              "      border-top-color: var(--fill-color);\n",
              "    }\n",
              "    30% {\n",
              "      border-color: transparent;\n",
              "      border-left-color: var(--fill-color);\n",
              "      border-top-color: var(--fill-color);\n",
              "      border-right-color: var(--fill-color);\n",
              "    }\n",
              "    40% {\n",
              "      border-color: transparent;\n",
              "      border-right-color: var(--fill-color);\n",
              "      border-top-color: var(--fill-color);\n",
              "    }\n",
              "    60% {\n",
              "      border-color: transparent;\n",
              "      border-right-color: var(--fill-color);\n",
              "    }\n",
              "    80% {\n",
              "      border-color: transparent;\n",
              "      border-right-color: var(--fill-color);\n",
              "      border-bottom-color: var(--fill-color);\n",
              "    }\n",
              "    90% {\n",
              "      border-color: transparent;\n",
              "      border-bottom-color: var(--fill-color);\n",
              "    }\n",
              "  }\n",
              "</style>\n",
              "\n",
              "  <script>\n",
              "    async function quickchart(key) {\n",
              "      const quickchartButtonEl =\n",
              "        document.querySelector('#' + key + ' button');\n",
              "      quickchartButtonEl.disabled = true;  // To prevent multiple clicks.\n",
              "      quickchartButtonEl.classList.add('colab-df-spinner');\n",
              "      try {\n",
              "        const charts = await google.colab.kernel.invokeFunction(\n",
              "            'suggestCharts', [key], {});\n",
              "      } catch (error) {\n",
              "        console.error('Error during call to suggestCharts:', error);\n",
              "      }\n",
              "      quickchartButtonEl.classList.remove('colab-df-spinner');\n",
              "      quickchartButtonEl.classList.add('colab-df-quickchart-complete');\n",
              "    }\n",
              "    (() => {\n",
              "      let quickchartButtonEl =\n",
              "        document.querySelector('#df-b30a26d2-29a8-431a-b4ad-b6a0245d0067 button');\n",
              "      quickchartButtonEl.style.display =\n",
              "        google.colab.kernel.accessAllowed ? 'block' : 'none';\n",
              "    })();\n",
              "  </script>\n",
              "</div>\n",
              "    </div>\n",
              "  </div>\n"
            ]
          },
          "metadata": {},
          "execution_count": 12
        }
      ]
    },
    {
      "cell_type": "code",
      "metadata": {
        "id": "97o_TvOsim6q"
      },
      "source": [
        "reg = linear_model.LinearRegression()"
      ],
      "execution_count": null,
      "outputs": []
    },
    {
      "cell_type": "markdown",
      "metadata": {
        "id": "6DFiwoI1irVa"
      },
      "source": [
        "Agora vamos realizar o `fit` do modelo, i.e., cálculo dos parâmetros do nosso modelo linear."
      ]
    },
    {
      "cell_type": "code",
      "metadata": {
        "id": "b4VQ1KyjiywL",
        "colab": {
          "base_uri": "https://localhost:8080/",
          "height": 75
        },
        "outputId": "f38616a4-22f8-4e0d-cc96-b3618d8eef71"
      },
      "source": [
        "reg.fit(X=X_train,y=y_train)"
      ],
      "execution_count": null,
      "outputs": [
        {
          "output_type": "execute_result",
          "data": {
            "text/plain": [
              "LinearRegression()"
            ],
            "text/html": [
              "<style>#sk-container-id-1 {color: black;background-color: white;}#sk-container-id-1 pre{padding: 0;}#sk-container-id-1 div.sk-toggleable {background-color: white;}#sk-container-id-1 label.sk-toggleable__label {cursor: pointer;display: block;width: 100%;margin-bottom: 0;padding: 0.3em;box-sizing: border-box;text-align: center;}#sk-container-id-1 label.sk-toggleable__label-arrow:before {content: \"▸\";float: left;margin-right: 0.25em;color: #696969;}#sk-container-id-1 label.sk-toggleable__label-arrow:hover:before {color: black;}#sk-container-id-1 div.sk-estimator:hover label.sk-toggleable__label-arrow:before {color: black;}#sk-container-id-1 div.sk-toggleable__content {max-height: 0;max-width: 0;overflow: hidden;text-align: left;background-color: #f0f8ff;}#sk-container-id-1 div.sk-toggleable__content pre {margin: 0.2em;color: black;border-radius: 0.25em;background-color: #f0f8ff;}#sk-container-id-1 input.sk-toggleable__control:checked~div.sk-toggleable__content {max-height: 200px;max-width: 100%;overflow: auto;}#sk-container-id-1 input.sk-toggleable__control:checked~label.sk-toggleable__label-arrow:before {content: \"▾\";}#sk-container-id-1 div.sk-estimator input.sk-toggleable__control:checked~label.sk-toggleable__label {background-color: #d4ebff;}#sk-container-id-1 div.sk-label input.sk-toggleable__control:checked~label.sk-toggleable__label {background-color: #d4ebff;}#sk-container-id-1 input.sk-hidden--visually {border: 0;clip: rect(1px 1px 1px 1px);clip: rect(1px, 1px, 1px, 1px);height: 1px;margin: -1px;overflow: hidden;padding: 0;position: absolute;width: 1px;}#sk-container-id-1 div.sk-estimator {font-family: monospace;background-color: #f0f8ff;border: 1px dotted black;border-radius: 0.25em;box-sizing: border-box;margin-bottom: 0.5em;}#sk-container-id-1 div.sk-estimator:hover {background-color: #d4ebff;}#sk-container-id-1 div.sk-parallel-item::after {content: \"\";width: 100%;border-bottom: 1px solid gray;flex-grow: 1;}#sk-container-id-1 div.sk-label:hover label.sk-toggleable__label {background-color: #d4ebff;}#sk-container-id-1 div.sk-serial::before {content: \"\";position: absolute;border-left: 1px solid gray;box-sizing: border-box;top: 0;bottom: 0;left: 50%;z-index: 0;}#sk-container-id-1 div.sk-serial {display: flex;flex-direction: column;align-items: center;background-color: white;padding-right: 0.2em;padding-left: 0.2em;position: relative;}#sk-container-id-1 div.sk-item {position: relative;z-index: 1;}#sk-container-id-1 div.sk-parallel {display: flex;align-items: stretch;justify-content: center;background-color: white;position: relative;}#sk-container-id-1 div.sk-item::before, #sk-container-id-1 div.sk-parallel-item::before {content: \"\";position: absolute;border-left: 1px solid gray;box-sizing: border-box;top: 0;bottom: 0;left: 50%;z-index: -1;}#sk-container-id-1 div.sk-parallel-item {display: flex;flex-direction: column;z-index: 1;position: relative;background-color: white;}#sk-container-id-1 div.sk-parallel-item:first-child::after {align-self: flex-end;width: 50%;}#sk-container-id-1 div.sk-parallel-item:last-child::after {align-self: flex-start;width: 50%;}#sk-container-id-1 div.sk-parallel-item:only-child::after {width: 0;}#sk-container-id-1 div.sk-dashed-wrapped {border: 1px dashed gray;margin: 0 0.4em 0.5em 0.4em;box-sizing: border-box;padding-bottom: 0.4em;background-color: white;}#sk-container-id-1 div.sk-label label {font-family: monospace;font-weight: bold;display: inline-block;line-height: 1.2em;}#sk-container-id-1 div.sk-label-container {text-align: center;}#sk-container-id-1 div.sk-container {/* jupyter's `normalize.less` sets `[hidden] { display: none; }` but bootstrap.min.css set `[hidden] { display: none !important; }` so we also need the `!important` here to be able to override the default hidden behavior on the sphinx rendered scikit-learn.org. See: https://github.com/scikit-learn/scikit-learn/issues/21755 */display: inline-block !important;position: relative;}#sk-container-id-1 div.sk-text-repr-fallback {display: none;}</style><div id=\"sk-container-id-1\" class=\"sk-top-container\"><div class=\"sk-text-repr-fallback\"><pre>LinearRegression()</pre><b>In a Jupyter environment, please rerun this cell to show the HTML representation or trust the notebook. <br />On GitHub, the HTML representation is unable to render, please try loading this page with nbviewer.org.</b></div><div class=\"sk-container\" hidden><div class=\"sk-item\"><div class=\"sk-estimator sk-toggleable\"><input class=\"sk-toggleable__control sk-hidden--visually\" id=\"sk-estimator-id-1\" type=\"checkbox\" checked><label for=\"sk-estimator-id-1\" class=\"sk-toggleable__label sk-toggleable__label-arrow\">LinearRegression</label><div class=\"sk-toggleable__content\"><pre>LinearRegression()</pre></div></div></div></div></div>"
            ]
          },
          "metadata": {},
          "execution_count": 14
        }
      ]
    },
    {
      "cell_type": "code",
      "metadata": {
        "colab": {
          "base_uri": "https://localhost:8080/"
        },
        "id": "OUJeYsJNal35",
        "outputId": "e6f0768b-26be-4c05-8eee-c607e155abe8"
      },
      "source": [
        "reg.coef_"
      ],
      "execution_count": null,
      "outputs": [
        {
          "output_type": "execute_result",
          "data": {
            "text/plain": [
              "array([-0.2190725 , -0.00741044])"
            ]
          },
          "metadata": {},
          "execution_count": 15
        }
      ]
    },
    {
      "cell_type": "code",
      "metadata": {
        "colab": {
          "base_uri": "https://localhost:8080/"
        },
        "id": "b2v76iLPaskv",
        "outputId": "f380b829-7947-4455-b8d3-90ab10b03856"
      },
      "source": [
        "reg.intercept_"
      ],
      "execution_count": null,
      "outputs": [
        {
          "output_type": "execute_result",
          "data": {
            "text/plain": [
              "49.959414785177195"
            ]
          },
          "metadata": {},
          "execution_count": 16
        }
      ]
    },
    {
      "cell_type": "markdown",
      "metadata": {
        "id": "Kxc0_ZDekSuH"
      },
      "source": [
        "Agora vamos avaliar a qualidade do nosso modelo"
      ]
    },
    {
      "cell_type": "code",
      "metadata": {
        "id": "F2-5PnrCyilp"
      },
      "source": [
        "from sklearn import metrics"
      ],
      "execution_count": null,
      "outputs": []
    },
    {
      "cell_type": "code",
      "metadata": {
        "id": "8hCmJUhnyrNu"
      },
      "source": [
        "y_pred = reg.predict(X_test)"
      ],
      "execution_count": null,
      "outputs": []
    },
    {
      "cell_type": "markdown",
      "metadata": {
        "id": "Jzfqb_RZzRIC"
      },
      "source": [
        "Vamos utilizar a métrica [Mean Squared Error](https://en.wikipedia.org/wiki/Mean_squared_error)."
      ]
    },
    {
      "cell_type": "code",
      "metadata": {
        "id": "Xn_VZpaukrFh",
        "colab": {
          "base_uri": "https://localhost:8080/"
        },
        "outputId": "68567204-cad3-4bb1-ab94-a62799d6a8d8"
      },
      "source": [
        "print('MSE',metrics.mean_squared_error(y_test,y_pred))"
      ],
      "execution_count": null,
      "outputs": [
        {
          "output_type": "stream",
          "name": "stdout",
          "text": [
            "MSE 89.63648275107002\n"
          ]
        }
      ]
    },
    {
      "cell_type": "markdown",
      "metadata": {
        "id": "89G6Z4Bxzzko"
      },
      "source": [
        "## Exercício\n",
        "\n",
        "1. Testar combinações de variáveis para melhorar o desempenho do regressor do tutorial anterior;\n",
        "1. Utilizar o dataset [Wine Quality](https://archive.ics.uci.edu/dataset/186/wine+quality).\n",
        "  1. Baixar dados relativos a Vinhos Tintos e Brancos;\n",
        "  1. Criar modelos de regressão linear para cada um dos tipos de vinhos;\n",
        "  1. Unir os dois datasets (para unir datasets utiliza esse [link](https://pandas.pydata.org/pandas-docs/stable/user_guide/merging.html#concatenating-objects) como referência.\n",
        "  1. Criar um modelo de regressão linear para o dataset unificado;"
      ]
    },
    {
      "cell_type": "code",
      "metadata": {
        "id": "S0KxeyIBPA2J",
        "colab": {
          "base_uri": "https://localhost:8080/"
        },
        "outputId": "5d7b4490-8df0-4027-d840-ce2c725b2929"
      },
      "source": [
        "#Instalar e importar bibliotecas\n",
        "!pip install pandas scikit-learn numpy matplotlib seaborn\n",
        "import pandas as pd\n",
        "import numpy as np\n",
        "from sklearn.model_selection import train_test_split\n",
        "from sklearn.linear_model import LinearRegression\n",
        "from sklearn.metrics import mean_squared_error, r2_score\n",
        "import matplotlib.pyplot as plt\n",
        "import seaborn as sns"
      ],
      "execution_count": null,
      "outputs": [
        {
          "output_type": "stream",
          "name": "stdout",
          "text": [
            "Requirement already satisfied: pandas in /usr/local/lib/python3.12/dist-packages (2.2.2)\n",
            "Requirement already satisfied: scikit-learn in /usr/local/lib/python3.12/dist-packages (1.6.1)\n",
            "Requirement already satisfied: numpy in /usr/local/lib/python3.12/dist-packages (2.0.2)\n",
            "Requirement already satisfied: matplotlib in /usr/local/lib/python3.12/dist-packages (3.10.0)\n",
            "Requirement already satisfied: seaborn in /usr/local/lib/python3.12/dist-packages (0.13.2)\n",
            "Requirement already satisfied: python-dateutil>=2.8.2 in /usr/local/lib/python3.12/dist-packages (from pandas) (2.9.0.post0)\n",
            "Requirement already satisfied: pytz>=2020.1 in /usr/local/lib/python3.12/dist-packages (from pandas) (2025.2)\n",
            "Requirement already satisfied: tzdata>=2022.7 in /usr/local/lib/python3.12/dist-packages (from pandas) (2025.2)\n",
            "Requirement already satisfied: scipy>=1.6.0 in /usr/local/lib/python3.12/dist-packages (from scikit-learn) (1.16.2)\n",
            "Requirement already satisfied: joblib>=1.2.0 in /usr/local/lib/python3.12/dist-packages (from scikit-learn) (1.5.2)\n",
            "Requirement already satisfied: threadpoolctl>=3.1.0 in /usr/local/lib/python3.12/dist-packages (from scikit-learn) (3.6.0)\n",
            "Requirement already satisfied: contourpy>=1.0.1 in /usr/local/lib/python3.12/dist-packages (from matplotlib) (1.3.3)\n",
            "Requirement already satisfied: cycler>=0.10 in /usr/local/lib/python3.12/dist-packages (from matplotlib) (0.12.1)\n",
            "Requirement already satisfied: fonttools>=4.22.0 in /usr/local/lib/python3.12/dist-packages (from matplotlib) (4.60.1)\n",
            "Requirement already satisfied: kiwisolver>=1.3.1 in /usr/local/lib/python3.12/dist-packages (from matplotlib) (1.4.9)\n",
            "Requirement already satisfied: packaging>=20.0 in /usr/local/lib/python3.12/dist-packages (from matplotlib) (25.0)\n",
            "Requirement already satisfied: pillow>=8 in /usr/local/lib/python3.12/dist-packages (from matplotlib) (11.3.0)\n",
            "Requirement already satisfied: pyparsing>=2.3.1 in /usr/local/lib/python3.12/dist-packages (from matplotlib) (3.2.5)\n",
            "Requirement already satisfied: six>=1.5 in /usr/local/lib/python3.12/dist-packages (from python-dateutil>=2.8.2->pandas) (1.17.0)\n"
          ]
        }
      ]
    },
    {
      "cell_type": "code",
      "source": [
        "#Baixar e carregar dados\n",
        "!wget -c https://archive.ics.uci.edu/ml/machine-learning-databases/wine-quality/winequality-red.csv --no-check-certificate\n",
        "!wget -c https://archive.ics.uci.edu/ml/machine-learning-databases/wine-quality/winequality-white.csv --no-check-certificate\n",
        "\n",
        "red = pd.read_csv('winequality-red.csv', delimiter=';')\n",
        "white = pd.read_csv('winequality-white.csv', delimiter=';')\n",
        "\n",
        "print(\"Vinho Tinto:\", red.shape)\n",
        "print(\"Vinho Branco:\", white.shape)\n",
        "print(\"\\nPrimeiras linhas do Vinho Tinto:\")\n",
        "print(red.head())"
      ],
      "metadata": {
        "colab": {
          "base_uri": "https://localhost:8080/"
        },
        "id": "vg5_Oottucia",
        "outputId": "0ec86b3d-3842-4586-8e17-b0e7071f35b6"
      },
      "execution_count": null,
      "outputs": [
        {
          "output_type": "stream",
          "name": "stdout",
          "text": [
            "--2025-10-08 00:42:54--  https://archive.ics.uci.edu/ml/machine-learning-databases/wine-quality/winequality-red.csv\n",
            "Resolving archive.ics.uci.edu (archive.ics.uci.edu)... 128.195.10.252\n",
            "Connecting to archive.ics.uci.edu (archive.ics.uci.edu)|128.195.10.252|:443... connected.\n",
            "HTTP request sent, awaiting response... 200 OK\n",
            "Length: unspecified\n",
            "Saving to: ‘winequality-red.csv’\n",
            "\n",
            "winequality-red.csv     [ <=>                ]  82.23K  --.-KB/s    in 0.1s    \n",
            "\n",
            "2025-10-08 00:42:55 (714 KB/s) - ‘winequality-red.csv’ saved [84199]\n",
            "\n",
            "--2025-10-08 00:42:55--  https://archive.ics.uci.edu/ml/machine-learning-databases/wine-quality/winequality-white.csv\n",
            "Resolving archive.ics.uci.edu (archive.ics.uci.edu)... 128.195.10.252\n",
            "Connecting to archive.ics.uci.edu (archive.ics.uci.edu)|128.195.10.252|:443... connected.\n",
            "HTTP request sent, awaiting response... 200 OK\n",
            "Length: unspecified\n",
            "Saving to: ‘winequality-white.csv’\n",
            "\n",
            "winequality-white.c     [  <=>               ] 258.23K  1.08MB/s    in 0.2s    \n",
            "\n",
            "2025-10-08 00:42:55 (1.08 MB/s) - ‘winequality-white.csv’ saved [264426]\n",
            "\n",
            "Vinho Tinto: (1599, 12)\n",
            "Vinho Branco: (4898, 12)\n",
            "\n",
            "Primeiras linhas do Vinho Tinto:\n",
            "   fixed acidity  volatile acidity  citric acid  residual sugar  chlorides  \\\n",
            "0            7.4              0.70         0.00             1.9      0.076   \n",
            "1            7.8              0.88         0.00             2.6      0.098   \n",
            "2            7.8              0.76         0.04             2.3      0.092   \n",
            "3           11.2              0.28         0.56             1.9      0.075   \n",
            "4            7.4              0.70         0.00             1.9      0.076   \n",
            "\n",
            "   free sulfur dioxide  total sulfur dioxide  density    pH  sulphates  \\\n",
            "0                 11.0                  34.0   0.9978  3.51       0.56   \n",
            "1                 25.0                  67.0   0.9968  3.20       0.68   \n",
            "2                 15.0                  54.0   0.9970  3.26       0.65   \n",
            "3                 17.0                  60.0   0.9980  3.16       0.58   \n",
            "4                 11.0                  34.0   0.9978  3.51       0.56   \n",
            "\n",
            "   alcohol  quality  \n",
            "0      9.4        5  \n",
            "1      9.8        5  \n",
            "2      9.8        5  \n",
            "3      9.8        6  \n",
            "4      9.4        5  \n"
          ]
        }
      ]
    },
    {
      "cell_type": "code",
      "source": [
        "#Análise exploratória - Qualidade dos vinhos\n",
        "plt.figure(figsize=(12, 4))\n",
        "\n",
        "plt.subplot(1, 2, 1)\n",
        "plt.hist(red['quality'], alpha=0.7, label='Tinto', color='red')\n",
        "plt.hist(white['quality'], alpha=0.7, label='Branco', color='yellow')\n",
        "plt.xlabel('Qualidade')\n",
        "plt.ylabel('Frequência')\n",
        "plt.legend()\n",
        "plt.title('Distribuição da Qualidade')\n",
        "\n",
        "plt.subplot(1, 2, 2)\n",
        "qualidade_media = [red['quality'].mean(), white['quality'].mean()]\n",
        "nomes = ['Tinto', 'Branco']\n",
        "plt.bar(nomes, qualidade_media, color=['red', 'yellow'])\n",
        "plt.ylabel('Qualidade Média')\n",
        "plt.title('Qualidade Média por Tipo')\n",
        "\n",
        "plt.tight_layout()\n",
        "plt.show()\n",
        "\n",
        "print(\"Qualidade média - Tinto:\", round(red['quality'].mean(), 2))\n",
        "print(\"Qualidade média - Branco:\", round(white['quality'].mean(), 2))"
      ],
      "metadata": {
        "id": "nAdbqTCVRo_F",
        "outputId": "b586fff6-8a02-4d28-b00a-0082f08fbe90",
        "colab": {
          "base_uri": "https://localhost:8080/",
          "height": 445
        }
      },
      "execution_count": null,
      "outputs": [
        {
          "output_type": "display_data",
          "data": {
            "text/plain": [
              "<Figure size 1200x400 with 2 Axes>"
            ],
            "image/png": "[encoded data removed]"
          },
          "metadata": {}
        },
        {
          "output_type": "stream",
          "name": "stdout",
          "text": [
            "Qualidade média - Tinto: 5.64\n",
            "Qualidade média - Branco: 5.88\n"
          ]
        }
      ]
    },
    {
      "cell_type": "code",
      "source": [
        "#Correlação com qualidade - Vinho Tinto\n",
        "correlacao_tinto = red.corr()['quality'].sort_values(ascending=False)\n",
        "print(\"Correlação com qualidade - Vinho Tinto:\")\n",
        "print(correlacao_tinto)\n",
        "\n",
        "plt.figure(figsize=(10, 6))\n",
        "correlacao_tinto[1:].plot(kind='bar')  # Exclui a correlação com ela mesma\n",
        "plt.title('Correlação das Variáveis com Qualidade - Vinho Tinto')\n",
        "plt.ylabel('Correlação')\n",
        "plt.show()"
      ],
      "metadata": {
        "id": "PXmMk5B1QMl6",
        "outputId": "a16ec413-83e6-4ced-9a44-906bcc2a4871",
        "colab": {
          "base_uri": "https://localhost:8080/",
          "height": 925
        }
      },
      "execution_count": null,
      "outputs": [
        {
          "output_type": "stream",
          "name": "stdout",
          "text": [
            "Correlação com qualidade - Vinho Tinto:\n",
            "quality                 1.000000\n",
            "alcohol                 0.476166\n",
            "sulphates               0.251397\n",
            "citric acid             0.226373\n",
            "fixed acidity           0.124052\n",
            "residual sugar          0.013732\n",
            "free sulfur dioxide    -0.050656\n",
            "pH                     -0.057731\n",
            "chlorides              -0.128907\n",
            "density                -0.174919\n",
            "total sulfur dioxide   -0.185100\n",
            "volatile acidity       -0.390558\n",
            "Name: quality, dtype: float64\n"
          ]
        },
        {
          "output_type": "display_data",
          "data": {
            "text/plain": [
              "<Figure size 1000x600 with 1 Axes>"
            ],
            "image/png": "[encoded data removed]"
          },
          "metadata": {}
        }
      ]
    },
    {
      "cell_type": "code",
      "source": [
        "#Correlação com qualidade - Vinho Branco\n",
        "correlacao_branco = white.corr()['quality'].sort_values(ascending=False)\n",
        "print(\"Correlação com qualidade - Vinho Branco:\")\n",
        "print(correlacao_branco)\n",
        "\n",
        "plt.figure(figsize=(10, 6))\n",
        "correlacao_branco[1:].plot(kind='bar', color='orange')\n",
        "plt.title('Correlação das Variáveis com Qualidade - Vinho Branco')\n",
        "plt.ylabel('Correlação')\n",
        "plt.show()"
      ],
      "metadata": {
        "id": "DexfKgf4QQZe",
        "outputId": "7d4009d8-78e3-47fb-f088-1db2d6c41964",
        "colab": {
          "base_uri": "https://localhost:8080/",
          "height": 925
        }
      },
      "execution_count": null,
      "outputs": [
        {
          "output_type": "stream",
          "name": "stdout",
          "text": [
            "Correlação com qualidade - Vinho Branco:\n",
            "quality                 1.000000\n",
            "alcohol                 0.435575\n",
            "pH                      0.099427\n",
            "sulphates               0.053678\n",
            "free sulfur dioxide     0.008158\n",
            "citric acid            -0.009209\n",
            "residual sugar         -0.097577\n",
            "fixed acidity          -0.113663\n",
            "total sulfur dioxide   -0.174737\n",
            "volatile acidity       -0.194723\n",
            "chlorides              -0.209934\n",
            "density                -0.307123\n",
            "Name: quality, dtype: float64\n"
          ]
        },
        {
          "output_type": "display_data",
          "data": {
            "text/plain": [
              "<Figure size 1000x600 with 1 Axes>"
            ],
            "image/png": "[encoded data removed]"
          },
          "metadata": {}
        }
      ]
    },
    {
      "cell_type": "code",
      "source": [
        "#Modelo com melhores variáveis - Vinho Tinto\n",
        "#Selecionar variáveis mais correlacionadas\n",
        "melhores_var_tinto = correlacao_tinto[1:4].index.tolist()  # Top 3 variáveis\n",
        "print(\"Melhores variáveis para Vinho Tinto:\", melhores_var_tinto)\n",
        "\n",
        "X_tinto = red[melhores_var_tinto]\n",
        "y_tinto = red['quality']\n",
        "\n",
        "X_treino_t, X_teste_t, y_treino_t, y_teste_t = train_test_split(X_tinto, y_tinto, test_size=0.2, random_state=42)\n",
        "\n",
        "modelo_tinto = LinearRegression()\n",
        "modelo_tinto.fit(X_treino_t, y_treino_t)\n",
        "\n",
        "y_pred_tinto = modelo_tinto.predict(X_teste_t)\n",
        "print(\"Vinho Tinto - R2:\", round(r2_score(y_teste_t, y_pred_tinto), 4))"
      ],
      "metadata": {
        "id": "sIHpXnPiQXnH",
        "outputId": "703e55f2-d1e7-4a3e-c130-6a7004e119c7",
        "colab": {
          "base_uri": "https://localhost:8080/"
        }
      },
      "execution_count": null,
      "outputs": [
        {
          "output_type": "stream",
          "name": "stdout",
          "text": [
            "Melhores variáveis para Vinho Tinto: ['alcohol', 'sulphates', 'citric acid']\n",
            "Vinho Tinto - R2: 0.3132\n"
          ]
        }
      ]
    },
    {
      "cell_type": "code",
      "source": [
        "#Modelo com melhores variáveis - Vinho Branco\n",
        "melhores_var_branco = correlacao_branco[1:4].index.tolist()  # Top 3 variáveis\n",
        "print(\"Melhores variáveis para Vinho Branco:\", melhores_var_branco)\n",
        "\n",
        "X_branco = white[melhores_var_branco]\n",
        "y_branco = white['quality']\n",
        "\n",
        "X_treino_b, X_teste_b, y_treino_b, y_teste_b = train_test_split(X_branco, y_branco, test_size=0.2, random_state=42)\n",
        "\n",
        "modelo_branco = LinearRegression()\n",
        "modelo_branco.fit(X_treino_b, y_treino_b)\n",
        "\n",
        "y_pred_branco = modelo_branco.predict(X_teste_b)\n",
        "print(\"Vinho Branco - R2:\", round(r2_score(y_teste_b, y_pred_branco), 4))"
      ],
      "metadata": {
        "id": "9Fzsk6YbQfzq",
        "outputId": "a15ce3e5-ffe2-4a6c-d274-bf7487abadae",
        "colab": {
          "base_uri": "https://localhost:8080/"
        }
      },
      "execution_count": null,
      "outputs": [
        {
          "output_type": "stream",
          "name": "stdout",
          "text": [
            "Melhores variáveis para Vinho Branco: ['alcohol', 'pH', 'sulphates']\n",
            "Vinho Branco - R2: 0.203\n"
          ]
        }
      ]
    },
    {
      "cell_type": "code",
      "source": [
        "#Dataset combinado e análise\n",
        "red['tipo'] = 'tinto'\n",
        "white['tipo'] = 'branco'\n",
        "wine_combined = pd.concat([red, white], ignore_index=True)\n",
        "\n",
        "# Converter tipo para numérico\n",
        "wine_combined['tipo_num'] = wine_combined['tipo'].map({'tinto': 0, 'branco': 1})\n",
        "\n",
        "# Usar melhores variáveis de ambos os tipos\n",
        "melhores_var_comb = list(set(melhores_var_tinto + melhores_var_branco + ['tipo_num']))\n",
        "print(\"Variáveis para modelo combinado:\", melhores_var_comb)\n",
        "\n",
        "X_comb = wine_combined[melhores_var_comb]\n",
        "y_comb = wine_combined['quality']\n",
        "\n",
        "X_treino_c, X_teste_c, y_treino_c, y_teste_c = train_test_split(X_comb, y_comb, test_size=0.2, random_state=42)\n",
        "\n",
        "modelo_comb = LinearRegression()\n",
        "modelo_comb.fit(X_treino_c, y_treino_c)\n",
        "\n",
        "y_pred_comb = modelo_comb.predict(X_teste_c)\n",
        "print(\"Modelo Combinado - R2:\", round(r2_score(y_teste_c, y_pred_comb), 4))"
      ],
      "metadata": {
        "id": "aMgjD1-HQljZ",
        "outputId": "b57ac993-2dbe-413d-bbad-c70674b9c62a",
        "colab": {
          "base_uri": "https://localhost:8080/"
        }
      },
      "execution_count": null,
      "outputs": [
        {
          "output_type": "stream",
          "name": "stdout",
          "text": [
            "Variáveis para modelo combinado: ['tipo_num', 'alcohol', 'pH', 'citric acid', 'sulphates']\n",
            "Modelo Combinado - R2: 0.2064\n"
          ]
        }
      ]
    },
    {
      "cell_type": "code",
      "source": [
        "#Comparação final e insights\n",
        "resultados = {\n",
        "    'Modelo': ['Tinto (3 vars)', 'Branco (3 vars)', 'Combinado'],\n",
        "    'R2': [\n",
        "        r2_score(y_teste_t, y_pred_tinto),\n",
        "        r2_score(y_teste_b, y_pred_branco),\n",
        "        r2_score(y_teste_c, y_pred_comb)\n",
        "    ]\n",
        "}\n",
        "\n",
        "df_resultados = pd.DataFrame(resultados)\n",
        "print(\"Comparação Final:\")\n",
        "print(df_resultados)\n",
        "\n",
        "print(\"\\nInsights:\")\n",
        "print(\"- Variáveis mais importantes para qualidade:\")\n",
        "print(\"  Tinto:\", melhores_var_tinto)\n",
        "print(\"  Branco:\", melhores_var_branco)\n",
        "print(\"- O álcool é importante para ambos os tipos\")\n",
        "print(\"- O modelo combinado aproveita padrões dos dois tipos\")"
      ],
      "metadata": {
        "id": "WTMohr4zSZTJ",
        "outputId": "f91ba60f-782b-4eef-dd17-d5912ff1439f",
        "colab": {
          "base_uri": "https://localhost:8080/"
        }
      },
      "execution_count": null,
      "outputs": [
        {
          "output_type": "stream",
          "name": "stdout",
          "text": [
            "Comparação Final:\n",
            "            Modelo        R2\n",
            "0   Tinto (3 vars)  0.313212\n",
            "1  Branco (3 vars)  0.203000\n",
            "2        Combinado  0.206439\n",
            "\n",
            "Insights:\n",
            "- Variáveis mais importantes para qualidade:\n",
            "  Tinto: ['alcohol', 'sulphates', 'citric acid']\n",
            "  Branco: ['alcohol', 'pH', 'sulphates']\n",
            "- O álcool é importante para ambos os tipos\n",
            "- O modelo combinado aproveita padrões dos dois tipos\n"
          ]
        }
      ]
    }
  ]
}